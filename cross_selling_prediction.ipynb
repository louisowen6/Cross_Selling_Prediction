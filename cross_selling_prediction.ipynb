{
  "nbformat": 4,
  "nbformat_minor": 0,
  "metadata": {
    "colab": {
      "name": "buncit.ipynb",
      "provenance": [],
      "collapsed_sections": [
        "01NIiKm7HZWJ",
        "RXvk9S7hpMIW",
        "zVn7Ai3cHE6f",
        "AAXOzd98pRaI",
        "d19fYXcLHE61",
        "13-OAb8dpPjX",
        "7iiS42FsyeBG",
        "LuipAmGC1aNk",
        "X-8157EF3Gdn",
        "QgJPvRZzdoCh"
      ],
      "machine_shape": "hm",
      "include_colab_link": true
    },
    "kernelspec": {
      "display_name": "Python 3",
      "language": "python",
      "name": "python3"
    },
    "language_info": {
      "codemirror_mode": {
        "name": "ipython",
        "version": 3
      },
      "file_extension": ".py",
      "mimetype": "text/x-python",
      "name": "python",
      "nbconvert_exporter": "python",
      "pygments_lexer": "ipython3",
      "version": "3.6.6"
    }
  },
  "cells": [
    {
      "cell_type": "markdown",
      "metadata": {
        "id": "view-in-github",
        "colab_type": "text"
      },
      "source": [
        "<a href=\"https://colab.research.google.com/github/louisowen6/Cross_Selling_Prediction/blob/master/cross_selling_prediction.ipynb\" target=\"_parent\"><img src=\"https://colab.research.google.com/assets/colab-badge.svg\" alt=\"Open In Colab\"/></a>"
      ]
    },
    {
      "cell_type": "markdown",
      "metadata": {
        "id": "xQilXLGCHE6T",
        "colab_type": "text"
      },
      "source": [
        "# Cross Selling Analysis & Prediction \n",
        "\n"
      ]
    },
    {
      "cell_type": "markdown",
      "metadata": {
        "id": "01NIiKm7HZWJ",
        "colab_type": "text"
      },
      "source": [
        "# Mount the Google Drive"
      ]
    },
    {
      "cell_type": "code",
      "metadata": {
        "id": "kdgnEcAIHcB3",
        "colab_type": "code",
        "colab": {}
      },
      "source": [
        "from google.colab import drive\n",
        "drive.mount('/content/gdrive')\n",
        "\n",
        "# Code to read csv file into Colaboratory:\n",
        "!pip install -U -q PyDrive\n",
        "from pydrive.auth import GoogleAuth\n",
        "from pydrive.drive import GoogleDrive\n",
        "from google.colab import auth\n",
        "from oauth2client.client import GoogleCredentials\n",
        "# Authenticate and create the PyDrive client.\n",
        "auth.authenticate_user()\n",
        "gauth = GoogleAuth()\n",
        "gauth.credentials = GoogleCredentials.get_application_default()\n",
        "drive = GoogleDrive(gauth)"
      ],
      "execution_count": 0,
      "outputs": []
    },
    {
      "cell_type": "markdown",
      "metadata": {
        "colab_type": "text",
        "id": "RXvk9S7hpMIW"
      },
      "source": [
        "# Import Packages"
      ]
    },
    {
      "cell_type": "code",
      "metadata": {
        "colab_type": "code",
        "id": "2ZTefVitflPv",
        "jupyter": {
          "outputs_hidden": true
        },
        "outputId": "d7c89f01-6cca-49aa-cd71-b6766b9d2f7d",
        "colab": {
          "base_uri": "https://localhost:8080/",
          "height": 493
        }
      },
      "source": [
        "!pip install h2o\n",
        "!pip install boruta"
      ],
      "execution_count": 0,
      "outputs": [
        {
          "output_type": "stream",
          "text": [
            "Requirement already satisfied: h2o in /opt/conda/lib/python3.6/site-packages (3.26.0.10)\r\n",
            "Requirement already satisfied: requests in /opt/conda/lib/python3.6/site-packages (from h2o) (2.22.0)\r\n",
            "Requirement already satisfied: colorama>=0.3.8 in /opt/conda/lib/python3.6/site-packages (from h2o) (0.4.1)\r\n",
            "Requirement already satisfied: future in /opt/conda/lib/python3.6/site-packages (from h2o) (0.18.2)\r\n",
            "Requirement already satisfied: tabulate in /opt/conda/lib/python3.6/site-packages/tabulate-0.8.6-py3.6.egg (from h2o) (0.8.6)\r\n",
            "Requirement already satisfied: idna<2.9,>=2.5 in /opt/conda/lib/python3.6/site-packages (from requests->h2o) (2.8)\r\n",
            "Requirement already satisfied: urllib3!=1.25.0,!=1.25.1,<1.26,>=1.21.1 in /opt/conda/lib/python3.6/site-packages (from requests->h2o) (1.24.2)\r\n",
            "Requirement already satisfied: chardet<3.1.0,>=3.0.2 in /opt/conda/lib/python3.6/site-packages (from requests->h2o) (3.0.4)\r\n",
            "Requirement already satisfied: certifi>=2017.4.17 in /opt/conda/lib/python3.6/site-packages (from requests->h2o) (2019.9.11)\r\n",
            "Requirement already satisfied: boruta in /opt/conda/lib/python3.6/site-packages (0.3)\r\n",
            "Requirement already satisfied: scipy>=0.17.0 in /opt/conda/lib/python3.6/site-packages (from boruta) (1.3.3)\r\n",
            "Requirement already satisfied: numpy>=1.10.4 in /opt/conda/lib/python3.6/site-packages (from boruta) (1.17.4)\r\n",
            "Requirement already satisfied: scikit-learn>=0.17.1 in /opt/conda/lib/python3.6/site-packages (from boruta) (0.21.3)\r\n",
            "Requirement already satisfied: joblib>=0.11 in /opt/conda/lib/python3.6/site-packages (from scikit-learn>=0.17.1->boruta) (0.14.0)\r\n"
          ],
          "name": "stdout"
        }
      ]
    },
    {
      "cell_type": "code",
      "metadata": {
        "colab_type": "code",
        "id": "XIfAP69YoquV",
        "outputId": "526246a5-157c-4188-ed47-23316745ec85",
        "colab": {}
      },
      "source": [
        "#Basic\n",
        "import warnings\n",
        "warnings.filterwarnings(\"ignore\")\n",
        "import pandas as pd\n",
        "import numpy as np\n",
        "import math\n",
        "from scipy.stats import skew\n",
        "\n",
        "import ast\n",
        "import matplotlib.pyplot as plt\n",
        "from mpl_toolkits import mplot3d\n",
        "from sklearn.decomposition import PCA\n",
        "from imblearn.over_sampling import SMOTENC\n",
        "from sklearn.preprocessing import StandardScaler\n",
        "from sklearn.cluster import MiniBatchKMeans\n",
        "\n",
        "from boruta import BorutaPy\n",
        "from sklearn.ensemble import RandomForestClassifier\n",
        "\n",
        "import h2o\n",
        "from h2o.automl import H2OAutoML\n",
        "from h2o.estimators import H2OXGBoostEstimator,H2ORandomForestEstimator,H2OGradientBoostingEstimator\n",
        "from h2o.estimators.glm import H2OGeneralizedLinearEstimator\n",
        "from h2o.estimators.stackedensemble import H2OStackedEnsembleEstimator\n",
        "\n",
        "import xgboost as xgb\n",
        "from sklearn.metrics import f1_score,confusion_matrix\n",
        "from sklearn.model_selection import KFold,GridSearchCV,train_test_split\n",
        "from sklearn.tree import DecisionTreeClassifier\n",
        "\n",
        "from keras.layers import Input, Dense, Reshape, Embedding\n",
        "from keras.models import Model\n",
        "from keras import backend as K\n",
        "from numpy import array\n",
        "from keras.preprocessing.text import one_hot\n",
        "from keras.preprocessing.sequence import pad_sequences"
      ],
      "execution_count": 0,
      "outputs": [
        {
          "output_type": "stream",
          "text": [
            "Using TensorFlow backend.\n"
          ],
          "name": "stderr"
        }
      ]
    },
    {
      "cell_type": "markdown",
      "metadata": {
        "id": "zVn7Ai3cHE6f",
        "colab_type": "text"
      },
      "source": [
        "# Function definition"
      ]
    },
    {
      "cell_type": "markdown",
      "metadata": {
        "id": "VTGxBLzyHE6g",
        "colab_type": "text"
      },
      "source": [
        "Here are the functions used in this notebook (not all)"
      ]
    },
    {
      "cell_type": "code",
      "metadata": {
        "id": "fkihWP2fHE6h",
        "colab_type": "code",
        "colab": {}
      },
      "source": [
        "def recall_m(y_true, y_pred):\n",
        "        true_positives = K.sum(K.round(K.clip(y_true * y_pred, 0, 1)))\n",
        "        possible_positives = K.sum(K.round(K.clip(y_true, 0, 1)))\n",
        "        recall = true_positives / (possible_positives + K.epsilon())\n",
        "        return recall\n",
        "def precision_m(y_true, y_pred):\n",
        "        true_positives = K.sum(K.round(K.clip(y_true * y_pred, 0, 1)))\n",
        "        predicted_positives = K.sum(K.round(K.clip(y_pred, 0, 1)))\n",
        "        precision = true_positives / (predicted_positives + K.epsilon())\n",
        "        return precision\n",
        "def f1_m(y_true, y_pred):\n",
        "    precision = precision_m(y_true, y_pred)\n",
        "    recall = recall_m(y_true, y_pred)\n",
        "    return 2*((precision*recall)/(precision+recall+K.epsilon()))\n",
        "def embedding_transform(df_train,df_val,column,target,epochs):\n",
        "  '''\n",
        "  Buat Model dari df_train based on order_id lalu pake model itu untuk predict is_cross_sell dari df_va\n",
        "  Hasil prediksinya jadi variabell\n",
        "  '''\n",
        "  train=df_train.copy()\n",
        "  val=df_val.copy()\n",
        "  train[target]=train[target].apply(lambda x: 1 if x=='Yes' else 0)\n",
        "  val[target]=val[target].apply(lambda x: 1 if x=='Yes' else 0)\n",
        "  #embedding categorical features\n",
        "  no_of_unique_cat  = train[column].nunique()\n",
        "  embedding_size =300\n",
        "  vocab  = no_of_unique_cat+1\n",
        "\n",
        "  input_cat = Input(shape=(1,))\n",
        "  embedding=Embedding(vocab, embedding_size, input_length=1)(input_cat)\n",
        "  embedding=Reshape(target_shape=(embedding_size,))(embedding)\n",
        "  x=Dense(5,activation='relu')(embedding)\n",
        "  x=Dense(2,activation='relu')(embedding)\n",
        "  output=Dense(1,activation='sigmoid')(x)\n",
        "  model = Model(input_cat, output)\n",
        "\n",
        "  model.compile(optimizer='adam', loss='binary_crossentropy', metrics=[f1_m])\n",
        "  max_length = 1\n",
        "  encoded_docs = [one_hot(d, embedding_size) for d in train[column]]\n",
        "  padded_docs = pad_sequences(encoded_docs, maxlen=max_length, padding='post')\n",
        "\n",
        "  encoded_docs_val = [one_hot(d, embedding_size) for d in val[column]]\n",
        "  padded_docs_val = pad_sequences(encoded_docs_val, maxlen=max_length, padding='post')\n",
        "\n",
        "  model.fit(padded_docs,train[target].values, epochs=epochs, verbose=1,batch_size=2048\n",
        "            ,validation_data=(padded_docs_val,val[target].values))\n",
        "  df_train[column+'_embedding']=model.predict(padded_docs) \n",
        "  df_val[column+'_embedding']=model.predict(padded_docs_val)\n",
        "  df_train=df_train.drop(column,1)\n",
        "  df_val=df_val.drop(column,1)\n",
        "  return(df_train,df_val)\n",
        "\n",
        "def box_hist_plot(df,column):\n",
        "  '''\n",
        "  Function for boxplot and histogram in 1 figure\n",
        "  '''\n",
        "  plt.figure(figsize=(15,6))\n",
        "  plt.subplot(1, 2, 1)\n",
        "  df[[column]].boxplot()\n",
        "\n",
        "  plt.subplot(1, 2, 2)\n",
        "  df[column].hist()\n",
        "  \n",
        "\n",
        "def detect_outlier(df,column,thres=1.5,plot=False):\n",
        "  '''\n",
        "  Function to detect outlier\n",
        "  '''\n",
        "  IQR = df[column].quantile(0.75) - df[column].quantile(0.25)\n",
        "  upper_fence = df[column].quantile(0.75) + (IQR * thres)\n",
        "  lower_fence = df[column].quantile(0.25)  - (IQR * thres)\n",
        "  \n",
        "  print('Upper Fence: {}\\n'.format(upper_fence))\n",
        "  print('Lower Fence: {}\\n'.format(lower_fence))\n",
        "  print('Proportion of Upper Outliers: {}\\n'.format(len(df[df[column]>upper_fence])/len(df)*100))\n",
        "  print('Proportion of Lower Outliers: {}\\n'.format(len(df[df[column]<lower_fence])/len(df)*100))\n",
        "  \n",
        "  if plot==True:\n",
        "    box_hist_plot(df,column)\n",
        "\n",
        "def correlated(df,tolerance):\n",
        "  '''\n",
        "  Function to know correlated variables\n",
        "  Input: {dataframe, correlation_tolerance}\n",
        "  '''\n",
        "  cate_features_index = np.where(df.dtypes == 'O')[0]\n",
        "  num_features_index = [x for x in range(len(df.columns)) if x not in cate_features_index]\n",
        "  \n",
        "  #Check correlation of numerical variables\n",
        "  corrmat = df.iloc[:,num_features_index].corr()\n",
        "  corrmat = corrmat.abs().unstack() # absolute value of corr coef\n",
        "  corrmat = corrmat.sort_values(ascending=False)\n",
        "  corrmat = corrmat[corrmat >= tolerance]\n",
        "  corrmat = corrmat[corrmat < 1]\n",
        "  corrmat = pd.DataFrame(corrmat).reset_index()\n",
        "  corrmat.columns = ['feature1', 'feature2', 'corr']\n",
        "\n",
        "  # find groups of correlated features\n",
        "\n",
        "  grouped_feature_ls = []\n",
        "  correlated_groups = []\n",
        "\n",
        "  for feature in corrmat.feature1.unique():\n",
        "    if feature not in grouped_feature_ls:\n",
        "      # find all features correlated to a single feature\n",
        "      correlated_block = corrmat[corrmat.feature1 == feature]\n",
        "      grouped_feature_ls = grouped_feature_ls + list(\n",
        "      correlated_block.feature2.unique()) + [feature]\n",
        "\n",
        "      # append the block of features to the list\n",
        "      correlated_groups.append(correlated_block)\n",
        "\n",
        "  print('found {} correlated groups'.format(len(correlated_groups)))\n",
        "  print('out of {} total features'.format(df.iloc[:,num_features_index].shape[1]))\n",
        "\n",
        "  for group in correlated_groups:\n",
        "    print(group)\n",
        "    print()\n",
        "\n",
        "def ordering_label(df,target,feat):\n",
        "  '''\n",
        "  Function for ordering categorical features based on Target feature\n",
        "  '''\n",
        "  data=df.copy()\n",
        "  data[target]=data[target].apply(lambda x: 1 if x=='Yes' else 0)\n",
        "  ordered_labels = data.groupby(feat).mean()[target].sort_values().index\n",
        "  ordinal_label = {k:i for i, k in enumerate(ordered_labels, 0)} \n",
        "  df[feat]=df[feat].map(ordinal_label)\n",
        "  return(df)\n",
        "\n",
        "def detailed_segmentation(df_train,df_val,columns,target,num_segments):\n",
        "  '''\n",
        "  Function for detailed segmentation\n",
        "    \n",
        "  Number of segments which is not the multiple of 2 will be round down to the nearest\n",
        "  whole number\n",
        "  '''\n",
        "  depth=math.floor(math.log2(num_segments))\n",
        "  X_train=df_train.drop(target,1)\n",
        "  y_train=df_train[[target]]\n",
        "  X_val=df_val.drop(target,1)\n",
        "\n",
        "  tree_model = DecisionTreeClassifier(max_depth=depth)\n",
        "    \n",
        "  for column in columns:\n",
        "    tree_model.fit(X_train[[column]], y_train)\n",
        "    df_train[column+'detailed_segment'] = tree_model.predict_proba(X_train[[column]])[:,1]\n",
        "    df_train=ordering_label(df_train,target,column+'detailed_segment')\n",
        "    df_val[column+'detailed_segment'] = tree_model.predict_proba(X_val[[column]])[:,1]\n",
        "    df_val=ordering_label(df_val,target,column+'detailed_segment')\n",
        "    df_train=df_train.drop(column,1)\n",
        "    df_val=df_val.drop(column,1)\n",
        "  return(df_train,df_val)\n",
        "\n",
        "def mean_encoding(df_train,df_val,columns,target,adjusted=False):\n",
        "  '''\n",
        "  Function to create mean encoding\n",
        "  '''\n",
        "  train=df_train.copy()\n",
        "  train[target]=train[target].apply(lambda x: 1 if x=='Yes' else 0)\n",
        "  for column in columns:\n",
        "    prob_df = pd.DataFrame(train.groupby([column])[target].mean())\n",
        "    if adjusted:\n",
        "      prob_mean = prob_df[target].to_dict()\n",
        "      train['mean']=train[column].map(prob_mean)\n",
        "      train.set_index(['order_id'],inplace=True)\n",
        "      ordered_labels_train=(train['mean']*train['cnt_trx']).to_dict()\n",
        "      df_train[column+'_adj_mean_encoding']= df_train['order_id'].map(ordered_labels_train)\n",
        "\n",
        "      val=df_val.copy()\n",
        "      val[target]=val[target].apply(lambda x: 1 if x=='Yes' else 0)\n",
        "      #if there is no historical data before then probability of success is assumed same as in the training set\n",
        "      train_mean=df_train[target].value_counts()['Yes']/len(df_train[target])\n",
        "      val['mean']=val[column].apply(lambda x: prob_mean[x] if x in prob_mean else train_mean)\n",
        "      val.set_index(['order_id'],inplace=True)\n",
        "      ordered_labels_val=(val['mean']*val['cnt_trx']).to_dict()\n",
        "      df_val[column+'_adj_mean_encoding'] = df_val['order_id'].map(ordered_labels_val)\n",
        "      df_train=df_train.drop(column,1)\n",
        "      df_val=df_val.drop(column,1)\n",
        "    else:\n",
        "      prob_df['mean']=prob_df['is_cross_sell']\n",
        "      ordered_labels = prob_df['mean'].to_dict()\n",
        "      df_train[column+'_mean_encoding'] = df_train[column].map(ordered_labels)\n",
        "      #if there is no historical data before then probability of success is assumed same as in the training set\n",
        "      train_mean=df_train[target].value_counts()['Yes']/len(df_train[target])\n",
        "      df_val[column+'_mean_encoding'] = df_val[column].apply(lambda x: ordered_labels[x] if x in ordered_labels \n",
        "                                                            else train_mean)\n",
        "      df_train=df_train.drop(column,1)\n",
        "      df_val=df_val.drop(column,1)\n",
        "  return(df_train,df_val)\n",
        "\n",
        "def PMI(df_train,df_val,columns):\n",
        "  '''\n",
        "  Function to create Pointwise Mutual Information\n",
        "  '''\n",
        "  for column in columns:\n",
        "    toy=df_train.copy()\n",
        "    toy=toy.sort_values(by=['account_id'])\n",
        "    toy['is_cross_sell']=toy['is_cross_sell'].apply(lambda x: 1 if x=='Yes' else 0)\n",
        "    MBA_df=pd.DataFrame(toy.groupby([column])['is_cross_sell'].mean())\n",
        "    toy_all=toy[['account_id']]\n",
        "    len_toy_all=len(toy_all)\n",
        "    toy_pos=toy[toy.is_cross_sell==1][['account_id']]\n",
        "    len_toy_pos=len(toy_pos)\n",
        "    acc_id_unique=pd.Series(MBA_df.index.tolist())\n",
        "    acc_id_pos_unique=pd.Series(MBA_df[MBA_df.is_cross_sell==1].index.tolist())\n",
        "    #Calculating probability of each account_id\n",
        "    a=toy_all['account_id'].value_counts()/len_toy_all\n",
        "    prob_acc_id=acc_id_unique.apply(lambda x: a[x])\n",
        "    #Calculating Confidence\n",
        "    b=toy_pos['account_id'].value_counts()/len_toy_pos\n",
        "    confidence=acc_id_unique.apply(lambda x: b[x] if x in acc_id_pos_unique else 0)\n",
        "    print('Done confidence')\n",
        "    #Assigning Values to Dataframe\n",
        "    MBA_df['lift']=confidence/prob_acc_id\n",
        "    # MBA_df['adj_PMI']=np.log(1+MBA_df['lift'])\n",
        "    MBA_df['adj_PMI']=MBA_df['lift']\n",
        "    adj_PMI=MBA_df['adj_PMI'].to_dict()\n",
        "\n",
        "    df_train[column+'_adj_PMI'] = df_train[column].map(adj_PMI)\n",
        "    #if there is no historical data before then probability of that particular account_id is 0 which implies lift=0, so that adj_PMI=0\n",
        "    df_val[column+'_adj_PMI'] = df_val[column].apply(lambda x: adj_PMI[x] if x in adj_PMI \n",
        "                                                           else 0)\n",
        "    df_train=df_train.drop(column,1)\n",
        "    df_val=df_val.drop(column,1)\n",
        "  return(df_train,df_val)    \n",
        "def WoE(df_train,df_val,columns,target,adjusted=False):\n",
        "  '''\n",
        "  Function to create Weight of Evidence\n",
        "  '''\n",
        "  train=df_train.copy()\n",
        "  train[target]=train[target].apply(lambda x: 1 if x=='Yes' else 0)\n",
        "  for column in columns:\n",
        "    a = pd.DataFrame(train.groupby([column])[target].mean())\n",
        "    if adjusted:\n",
        "      b=pd.DataFrame(train.groupby([column])['is_cross_sell'].count())\n",
        "      prob_df=a.merge(b,on=column)\n",
        "      prob_df=prob_df.rename(columns={\"is_cross_sell_x\": \"is_cross_sell\", \"is_cross_sell_y\": \"count\"})\n",
        "    else:\n",
        "      prob_df=a.copy()\n",
        "    prob_df['not_'+target] = 1-prob_df[target]\n",
        "    prob_df[prob_df[target] == 0] = 0.000001\n",
        "    # prob_df[prob_df['not_'+target] == 0] = 0.000001\n",
        "    if adjusted:\n",
        "      prob_df['WoE'] = np.log(1+prob_df['count'])*np.log(prob_df[target]/prob_df['not_'+target])\n",
        "    else:\n",
        "      prob_df['WoE'] = np.log(prob_df[target]/prob_df['not_'+target])\n",
        "    ordered_labels = prob_df['WoE'].to_dict()\n",
        "\n",
        "    df_train[column+'_WoE'] = df_train[column].map(ordered_labels)\n",
        "    #if there is no historical data before then probability of success is assumed same as in the training set\n",
        "    df_val[column+'_WoE'] = df_val[column].apply(lambda x: ordered_labels[x] if x in ordered_labels else \n",
        "                                                 np.log((0.000001+df_train[target].value_counts()['Yes'])/(df_train[target].value_counts()['No'])) if df_train[target].value_counts()['Yes']==0 else\n",
        "                                                  np.log((df_train[target].value_counts()['Yes'])/(0.000001+df_train[target].value_counts()['No'])))\n",
        "    df_train=df_train.drop(column,1)\n",
        "    df_val=df_val.drop(column,1)\n",
        "  return(df_train,df_val)\n",
        "\n",
        "def PCA(df,columns,n_components,scaled=True):\n",
        "  pca_model = PCA(n_components=n_components)\n",
        "  if scaled==False:\n",
        "    scaled_X=rescaling(df,columns,scale_type='Standard')\n",
        "  else:\n",
        "    scaled_X=df[columns].copy()\n",
        "  df_pca = pca_model.fit_transform(scaled_X)\n",
        "  df_pca=pd.DataFrame(df_pca)\n",
        "  print('Variance Explained: {}'.format(pca_model.explained_variance_ratio_.cumsum()))\n",
        "  return(df_pca)\n",
        "\n",
        "def rescaling(df,columns,scale_type='Standard'):\n",
        "  '''\n",
        "  Function for Feature Scaling\n",
        "  '''\n",
        "  scale_type=scale_type.lower()\n",
        "  scaled_X=df.drop(columns,1)\n",
        "  X=df[columns]\n",
        "  \n",
        "  if scale_type=='minmax':\n",
        "    scaler=MinMaxScaler(feature_range=(0,1))\n",
        "  elif scale_type=='standard':\n",
        "    scaler=StandardScaler()\n",
        "\n",
        "  scaled_column=scaler.fit_transform(X)\n",
        "  scaled_column=pd.DataFrame(scaled_column,columns=columns)\n",
        "  for column in columns:\n",
        "    scaled_X[column]=scaled_column[column].tolist()\n",
        "  \n",
        "  return(scaled_X)\n",
        "\n",
        "def PCA(df,columns,n_components,scaled=True):\n",
        "  pca_model = PCA(n_components=n_components)\n",
        "  if scaled==False:\n",
        "    scaled_X=rescaling(df,columns,scale_type='Standard')\n",
        "  else:\n",
        "    scaled_X=df[columns].copy()\n",
        "  df_pca = pca_model.fit_transform(scaled_X)\n",
        "  df_pca=pd.DataFrame(df_pca)\n",
        "  print('Variance Explained: {}'.format(pca_model.explained_variance_ratio_.cumsum()))\n",
        "  return(df_pca)\n",
        "\n",
        "def elbow_plot_kmeans(df,columns,kmax,step,scaled=True):\n",
        "  '''\n",
        "  Function for kMeans elbow plot\n",
        "  \n",
        "  kmax is maximum number of k\n",
        "  step is looping step for testing kmeans\n",
        "  '''\n",
        "  if scaled==False:\n",
        "    X=rescaling(df,columns,scale_type='Standard')\n",
        "  else:\n",
        "    X=df.copy()\n",
        "  \n",
        "  WCSS=[]\n",
        "  for i in range(1,kmax,step):\n",
        "    kmeans=MiniBatchKMeans(n_clusters=i,init='k-means++',random_state=100,verbose=False)\n",
        "    kmeans.fit(X)\n",
        "    WCSS.append(kmeans.inertia_)\n",
        "    \n",
        "  plt.plot(range(1,kmax,step),WCSS)\n",
        "  plt.title('Elbow Method')\n",
        "  plt.xlabel('Number of Clusters')\n",
        "  plt.ylabel('WCSS')\n",
        "  plt.xlim([0,kmax])\n",
        "  plt.show()\n",
        "\n",
        "def kmeans(df,columns,k,scaled=True,plot=True):\n",
        "  '''\n",
        "  Function for kMeans segmentation\n",
        "  '''\n",
        "  if scaled==False:\n",
        "    X=rescaling(df,columns,scale_type='Standard')\n",
        "  else:\n",
        "    X=df[columns].copy()\n",
        "    \n",
        "  kmeans=MiniBatchKMeans(n_clusters=k ,init='k-means++',random_state=100,verbose=False)\n",
        "  y=kmeans.fit(X)\n",
        "  df['label']=y.labels_.tolist()\n",
        "  \n",
        "  if plot==True:\n",
        "    if len(columns)>2:\n",
        "      pca = PCA(n_components=3)\n",
        "      df_pca = pca.fit_transform(X)\n",
        "      df_pca=pd.DataFrame(df_pca,columns=['pca_1','pca_2','pca_3'])\n",
        "      fig=plt.figure()\n",
        "      ax=plt.axes(projection=\"3d\")\n",
        "      scatter=ax.scatter3D(df_pca.loc[:,'pca_1'],df_pca.loc[:,'pca_2'],df_pca.loc[:,'pca_3'],c=y.labels_,cmap='hsv')\n",
        "      plt.colorbar(scatter)\n",
        "      plt.title(str(k)+'-Means Clustering')\n",
        "      plt.show()\n",
        "    else:\n",
        "      scatter=plt.scatter(df.loc[:,columns[0]],df.loc[:,columns[1]],c=y.labels_)\n",
        "      plt.xlabel(columns[0])\n",
        "      plt.ylabel(columns[1])\n",
        "      plt.title(str(k)+'-Means Clustering')\n",
        "      plt.show()\n",
        "  return(df)\n",
        "\n",
        "def segmentation(df_train,df_val,k=9):\n",
        "  toy=df_train.copy()\n",
        "  toy['is_cross_sell']=toy['is_cross_sell'].apply(lambda x: 1 if x=='Yes' else 0)\n",
        "  df_seg=pd.DataFrame(toy.groupby('account_id').mean()['is_cross_sell'])\n",
        "  df_seg['count']=toy.groupby('account_id').count()['member_duration_days']\n",
        "  df_seg=df_seg.rename({'member_duration_days':'count'})\n",
        "  df_seg=kmeans(df_seg[df_seg['count']<20],columns=['is_cross_sell','count'],k=k,scaled=False,plot=False)\n",
        "  df_seg=ordering_label(df_seg,target='is_cross_sell',feat='label')\n",
        "  acc_0=df_seg[df_seg.label==0].index.tolist()\n",
        "  acc_1=df_seg[df_seg.label==1].index.tolist()\n",
        "  acc_2=df_seg[df_seg.label==2].index.tolist()\n",
        "  acc_3=df_seg[df_seg.label==3].index.tolist()\n",
        "  acc_4=df_seg[df_seg.label==4].index.tolist()\n",
        "  acc_5=df_seg[df_seg.label==5].index.tolist()\n",
        "  acc_6=df_seg[df_seg.label==6].index.tolist()\n",
        "  acc_7=df_seg[df_seg.label==7].index.tolist()\n",
        "  acc_8=df_seg[df_seg.label==8].index.tolist()\n",
        "  acc_9=df_seg[df_seg['count']>=20].index.tolist()\n",
        "  df_train['segment']=df_train.account_id.apply(lambda x: 0 if x in acc_0 else 1 if x in acc_1 else \n",
        "                                                2 if x in acc_2 else 3 if x in acc_3 else 4 if x in acc_4 else 5 if x in acc_5 else \n",
        "                                                6 if x in acc_6 else 7 if x in acc_7 else 8 if x in acc_8 else 9)\n",
        "  df_val['segment']=df_val.account_id.apply(lambda x: 0 if x in acc_0 else 1 if x in acc_1 else \n",
        "                                                2 if x in acc_2 else 3 if x in acc_3 else 4 if x in acc_4 else 5 if x in acc_5 else \n",
        "                                                6 if x in acc_6 else 7 if x in acc_7 else 8 if x in acc_8 else 9 if x in acc_9 else\n",
        "                                                np.nan)\n",
        "  return(df_train,df_val)"
      ],
      "execution_count": 0,
      "outputs": []
    },
    {
      "cell_type": "markdown",
      "metadata": {
        "colab_type": "text",
        "id": "AAXOzd98pRaI"
      },
      "source": [
        "# Import Data"
      ]
    },
    {
      "cell_type": "markdown",
      "metadata": {
        "id": "4gFTzQETJK2Z",
        "colab_type": "text"
      },
      "source": [
        "Data used in this modelling process is the flight (CGK-DPS) + hotel transaction history on 2018 from one of the biggest ticketing company in Indonesia "
      ]
    },
    {
      "cell_type": "code",
      "metadata": {
        "colab_type": "code",
        "id": "mFitVGPWyMSS",
        "jupyter": {
          "outputs_hidden": true
        },
        "colab": {}
      },
      "source": [
        "df_hotel = pd.read_csv('/kaggle/input/datavidia2019/hotel.csv')\n",
        "df = pd.read_csv('/kaggle/input/datavidia2019/flight.csv')\n",
        "df_test=pd.read_csv('/kaggle/input/datavidia2019/test.csv')"
      ],
      "execution_count": 0,
      "outputs": []
    },
    {
      "cell_type": "markdown",
      "metadata": {
        "id": "sWpM2iczHE6p",
        "colab_type": "text"
      },
      "source": [
        "The target variable in this modelling process is **is_cross_sell** which has value \"Yes\" when the  **hotel_id** is not *None* and has value \"Np\" when **hotel_id** is  *None*"
      ]
    },
    {
      "cell_type": "code",
      "metadata": {
        "id": "sAXzakPRHE6q",
        "colab_type": "code",
        "colab": {}
      },
      "source": [
        "df['is_cross_sell']=df['hotel_id'].apply(lambda x: 'Yes' if x !='None' else 'No')"
      ],
      "execution_count": 0,
      "outputs": []
    },
    {
      "cell_type": "markdown",
      "metadata": {
        "id": "3QCacySIHE6u",
        "colab_type": "text"
      },
      "source": [
        "Below is the snippet of flight.csv and hotel.csv data"
      ]
    },
    {
      "cell_type": "code",
      "metadata": {
        "colab_type": "code",
        "id": "zThlCO74t8Jy",
        "outputId": "339aa630-48a3-44fc-8fdb-84095e5eb88e",
        "colab": {
          "base_uri": "https://localhost:8080/",
          "height": 484
        }
      },
      "source": [
        "df.head()"
      ],
      "execution_count": 0,
      "outputs": [
        {
          "output_type": "execute_result",
          "data": {
            "text/html": [
              "<div>\n",
              "<style scoped>\n",
              "    .dataframe tbody tr th:only-of-type {\n",
              "        vertical-align: middle;\n",
              "    }\n",
              "\n",
              "    .dataframe tbody tr th {\n",
              "        vertical-align: top;\n",
              "    }\n",
              "\n",
              "    .dataframe thead th {\n",
              "        text-align: right;\n",
              "    }\n",
              "</style>\n",
              "<table border=\"1\" class=\"dataframe\">\n",
              "  <thead>\n",
              "    <tr style=\"text-align: right;\">\n",
              "      <th></th>\n",
              "      <th>account_id</th>\n",
              "      <th>order_id</th>\n",
              "      <th>member_duration_days</th>\n",
              "      <th>gender</th>\n",
              "      <th>trip</th>\n",
              "      <th>service_class</th>\n",
              "      <th>price</th>\n",
              "      <th>is_tx_promo</th>\n",
              "      <th>no_of_seats</th>\n",
              "      <th>airlines_name</th>\n",
              "      <th>route</th>\n",
              "      <th>hotel_id</th>\n",
              "      <th>visited_city</th>\n",
              "      <th>log_transaction</th>\n",
              "      <th>is_cross_sell</th>\n",
              "    </tr>\n",
              "  </thead>\n",
              "  <tbody>\n",
              "    <tr>\n",
              "      <th>0</th>\n",
              "      <td>912aa410a02cd7e1bab414214a7005c0</td>\n",
              "      <td>5c6f39c690f23650d3cde28e5b51c908</td>\n",
              "      <td>566.0</td>\n",
              "      <td>M</td>\n",
              "      <td>trip</td>\n",
              "      <td>ECONOMY</td>\n",
              "      <td>885898.00</td>\n",
              "      <td>NO</td>\n",
              "      <td>1.0</td>\n",
              "      <td>33199710eb822fbcfd0dc793f4788d30</td>\n",
              "      <td>CGK - DPS</td>\n",
              "      <td>None</td>\n",
              "      <td>'['Semarang', 'Jakarta', 'Medan', 'Bali']'</td>\n",
              "      <td>'[545203.03, 918492.11, 1774241.4, 885898.0]'</td>\n",
              "      <td>No</td>\n",
              "    </tr>\n",
              "    <tr>\n",
              "      <th>1</th>\n",
              "      <td>d64a90a618202a5e8b25d8539377f3ca</td>\n",
              "      <td>5cbef2b87f51c18bf399d11bfe495a46</td>\n",
              "      <td>607.0</td>\n",
              "      <td>M</td>\n",
              "      <td>trip</td>\n",
              "      <td>ECONOMY</td>\n",
              "      <td>2139751.25</td>\n",
              "      <td>NO</td>\n",
              "      <td>2.0</td>\n",
              "      <td>0a102015e48c1f68e121acc99fca9a05</td>\n",
              "      <td>CGK - DPS</td>\n",
              "      <td>None</td>\n",
              "      <td>'['Jakarta', 'Medan', 'Bali']'</td>\n",
              "      <td>'[555476.36, 2422826.84, 7398697.64, 7930866.8...</td>\n",
              "      <td>No</td>\n",
              "    </tr>\n",
              "    <tr>\n",
              "      <th>2</th>\n",
              "      <td>1a42ac02bcb4a902973123323f84da55</td>\n",
              "      <td>38fc35a1e62384012a358ab1fbd5ad03</td>\n",
              "      <td>648.0</td>\n",
              "      <td>F</td>\n",
              "      <td>trip</td>\n",
              "      <td>ECONOMY</td>\n",
              "      <td>2695550.00</td>\n",
              "      <td>NO</td>\n",
              "      <td>1.0</td>\n",
              "      <td>0a102015e48c1f68e121acc99fca9a05</td>\n",
              "      <td>CGK - DPS</td>\n",
              "      <td>None</td>\n",
              "      <td>'['Semarang', 'Jakarta', 'Medan', 'Bali']'</td>\n",
              "      <td>'[7328957.45, 7027662.34, 1933360.88, 3461836....</td>\n",
              "      <td>No</td>\n",
              "    </tr>\n",
              "    <tr>\n",
              "      <th>3</th>\n",
              "      <td>92cddd64d4be4dec6dfbcc0c50e902f4</td>\n",
              "      <td>c7f54cb748828b4413e02dea2758faf6</td>\n",
              "      <td>418.0</td>\n",
              "      <td>F</td>\n",
              "      <td>trip</td>\n",
              "      <td>ECONOMY</td>\n",
              "      <td>1146665.00</td>\n",
              "      <td>NO</td>\n",
              "      <td>1.0</td>\n",
              "      <td>0a102015e48c1f68e121acc99fca9a05</td>\n",
              "      <td>CGK - DPS</td>\n",
              "      <td>None</td>\n",
              "      <td>'['Jogjakarta', 'Bali', 'Jakarta', 'Medan']'</td>\n",
              "      <td>'[5243631.69, 2474344.48, 1146665.0]'</td>\n",
              "      <td>No</td>\n",
              "    </tr>\n",
              "    <tr>\n",
              "      <th>4</th>\n",
              "      <td>bf637abc47ea93bad22264f4956d67f6</td>\n",
              "      <td>dec228e4d2b6023c9f1fe9cfe9c451bf</td>\n",
              "      <td>537.0</td>\n",
              "      <td>F</td>\n",
              "      <td>trip</td>\n",
              "      <td>ECONOMY</td>\n",
              "      <td>1131032.50</td>\n",
              "      <td>NO</td>\n",
              "      <td>1.0</td>\n",
              "      <td>6c483c0812c96f8ec43bb0ff76eaf716</td>\n",
              "      <td>CGK - DPS</td>\n",
              "      <td>None</td>\n",
              "      <td>'['Jakarta', 'Bali', 'Medan', 'Jogjakarta', 'S...</td>\n",
              "      <td>'[9808972.98, 9628619.79, 6712680.0, 5034510.0...</td>\n",
              "      <td>No</td>\n",
              "    </tr>\n",
              "  </tbody>\n",
              "</table>\n",
              "</div>"
            ],
            "text/plain": [
              "                         account_id                          order_id  \\\n",
              "0  912aa410a02cd7e1bab414214a7005c0  5c6f39c690f23650d3cde28e5b51c908   \n",
              "1  d64a90a618202a5e8b25d8539377f3ca  5cbef2b87f51c18bf399d11bfe495a46   \n",
              "2  1a42ac02bcb4a902973123323f84da55  38fc35a1e62384012a358ab1fbd5ad03   \n",
              "3  92cddd64d4be4dec6dfbcc0c50e902f4  c7f54cb748828b4413e02dea2758faf6   \n",
              "4  bf637abc47ea93bad22264f4956d67f6  dec228e4d2b6023c9f1fe9cfe9c451bf   \n",
              "\n",
              "   member_duration_days gender  trip service_class       price is_tx_promo  \\\n",
              "0                 566.0      M  trip       ECONOMY   885898.00          NO   \n",
              "1                 607.0      M  trip       ECONOMY  2139751.25          NO   \n",
              "2                 648.0      F  trip       ECONOMY  2695550.00          NO   \n",
              "3                 418.0      F  trip       ECONOMY  1146665.00          NO   \n",
              "4                 537.0      F  trip       ECONOMY  1131032.50          NO   \n",
              "\n",
              "   no_of_seats                     airlines_name      route hotel_id  \\\n",
              "0          1.0  33199710eb822fbcfd0dc793f4788d30  CGK - DPS     None   \n",
              "1          2.0  0a102015e48c1f68e121acc99fca9a05  CGK - DPS     None   \n",
              "2          1.0  0a102015e48c1f68e121acc99fca9a05  CGK - DPS     None   \n",
              "3          1.0  0a102015e48c1f68e121acc99fca9a05  CGK - DPS     None   \n",
              "4          1.0  6c483c0812c96f8ec43bb0ff76eaf716  CGK - DPS     None   \n",
              "\n",
              "                                        visited_city  \\\n",
              "0         '['Semarang', 'Jakarta', 'Medan', 'Bali']'   \n",
              "1                     '['Jakarta', 'Medan', 'Bali']'   \n",
              "2         '['Semarang', 'Jakarta', 'Medan', 'Bali']'   \n",
              "3       '['Jogjakarta', 'Bali', 'Jakarta', 'Medan']'   \n",
              "4  '['Jakarta', 'Bali', 'Medan', 'Jogjakarta', 'S...   \n",
              "\n",
              "                                     log_transaction is_cross_sell  \n",
              "0      '[545203.03, 918492.11, 1774241.4, 885898.0]'            No  \n",
              "1  '[555476.36, 2422826.84, 7398697.64, 7930866.8...            No  \n",
              "2  '[7328957.45, 7027662.34, 1933360.88, 3461836....            No  \n",
              "3              '[5243631.69, 2474344.48, 1146665.0]'            No  \n",
              "4  '[9808972.98, 9628619.79, 6712680.0, 5034510.0...            No  "
            ]
          },
          "metadata": {
            "tags": []
          },
          "execution_count": 6
        }
      ]
    },
    {
      "cell_type": "code",
      "metadata": {
        "id": "AMYIQWp_HE6z",
        "colab_type": "code",
        "outputId": "f708ab05-84a7-4901-b420-6f6af9311b0f",
        "colab": {}
      },
      "source": [
        "df_hotel.head()"
      ],
      "execution_count": 0,
      "outputs": [
        {
          "output_type": "execute_result",
          "data": {
            "text/html": [
              "<div>\n",
              "<style scoped>\n",
              "    .dataframe tbody tr th:only-of-type {\n",
              "        vertical-align: middle;\n",
              "    }\n",
              "\n",
              "    .dataframe tbody tr th {\n",
              "        vertical-align: top;\n",
              "    }\n",
              "\n",
              "    .dataframe thead th {\n",
              "        text-align: right;\n",
              "    }\n",
              "</style>\n",
              "<table border=\"1\" class=\"dataframe\">\n",
              "  <thead>\n",
              "    <tr style=\"text-align: right;\">\n",
              "      <th></th>\n",
              "      <th>hotel_id</th>\n",
              "      <th>starRating</th>\n",
              "      <th>city</th>\n",
              "      <th>free_wifi</th>\n",
              "      <th>pool_access</th>\n",
              "      <th>free_breakfast</th>\n",
              "    </tr>\n",
              "  </thead>\n",
              "  <tbody>\n",
              "    <tr>\n",
              "      <th>0</th>\n",
              "      <td>e2733e84102226acf6b53bffd2e60cf8</td>\n",
              "      <td>0.0</td>\n",
              "      <td>bali</td>\n",
              "      <td>YES</td>\n",
              "      <td>NO</td>\n",
              "      <td>NO</td>\n",
              "    </tr>\n",
              "    <tr>\n",
              "      <th>1</th>\n",
              "      <td>9f9de5df06d64ada1026e930687a87e4</td>\n",
              "      <td>0.0</td>\n",
              "      <td>bali</td>\n",
              "      <td>YES</td>\n",
              "      <td>NO</td>\n",
              "      <td>NO</td>\n",
              "    </tr>\n",
              "    <tr>\n",
              "      <th>2</th>\n",
              "      <td>3cf6774fb4dc331bb49e7a959b74a67e</td>\n",
              "      <td>0.0</td>\n",
              "      <td>bali</td>\n",
              "      <td>YES</td>\n",
              "      <td>NO</td>\n",
              "      <td>NO</td>\n",
              "    </tr>\n",
              "    <tr>\n",
              "      <th>3</th>\n",
              "      <td>eca261898220478834072b0c753a5229</td>\n",
              "      <td>0.0</td>\n",
              "      <td>bali</td>\n",
              "      <td>YES</td>\n",
              "      <td>NO</td>\n",
              "      <td>NO</td>\n",
              "    </tr>\n",
              "    <tr>\n",
              "      <th>4</th>\n",
              "      <td>c21f400013fa4f244a7168a3c155b8b5</td>\n",
              "      <td>0.0</td>\n",
              "      <td>bali</td>\n",
              "      <td>YES</td>\n",
              "      <td>NO</td>\n",
              "      <td>NO</td>\n",
              "    </tr>\n",
              "  </tbody>\n",
              "</table>\n",
              "</div>"
            ],
            "text/plain": [
              "                           hotel_id  starRating  city free_wifi pool_access  \\\n",
              "0  e2733e84102226acf6b53bffd2e60cf8         0.0  bali       YES          NO   \n",
              "1  9f9de5df06d64ada1026e930687a87e4         0.0  bali       YES          NO   \n",
              "2  3cf6774fb4dc331bb49e7a959b74a67e         0.0  bali       YES          NO   \n",
              "3  eca261898220478834072b0c753a5229         0.0  bali       YES          NO   \n",
              "4  c21f400013fa4f244a7168a3c155b8b5         0.0  bali       YES          NO   \n",
              "\n",
              "  free_breakfast  \n",
              "0             NO  \n",
              "1             NO  \n",
              "2             NO  \n",
              "3             NO  \n",
              "4             NO  "
            ]
          },
          "metadata": {
            "tags": []
          },
          "execution_count": 7
        }
      ]
    },
    {
      "cell_type": "markdown",
      "metadata": {
        "id": "d19fYXcLHE61",
        "colab_type": "text"
      },
      "source": [
        "# Exploratory data analysis <img src = \"https://dryicons.com/icon_download/flat-magnifying-glass-icon-9946\" width= 50 align=\"middle\">"
      ]
    },
    {
      "cell_type": "markdown",
      "metadata": {
        "colab_type": "text",
        "id": "13-OAb8dpPjX"
      },
      "source": [
        "## Flight Data "
      ]
    },
    {
      "cell_type": "markdown",
      "metadata": {
        "id": "FxeGP5huKKdA",
        "colab_type": "text"
      },
      "source": [
        "---\n",
        "Below is the flight.csv data info"
      ]
    },
    {
      "cell_type": "code",
      "metadata": {
        "id": "7MVuL-jkKGJH",
        "colab_type": "code",
        "colab": {}
      },
      "source": [
        "df.info()"
      ],
      "execution_count": 0,
      "outputs": []
    },
    {
      "cell_type": "markdown",
      "metadata": {
        "id": "1HVkKfHxHE62",
        "colab_type": "text"
      },
      "source": [
        "Below is the frequency table from ordered  **hotel_id**"
      ]
    },
    {
      "cell_type": "code",
      "metadata": {
        "colab_type": "code",
        "id": "8n7HXZ8xgUHN",
        "outputId": "cbbf9c1a-9dad-42f0-b2b1-e08f7ea49201",
        "colab": {
          "base_uri": "https://localhost:8080/",
          "height": 634
        }
      },
      "source": [
        "pd.DataFrame(df['hotel_id'].value_counts()).head(20)"
      ],
      "execution_count": 0,
      "outputs": [
        {
          "output_type": "execute_result",
          "data": {
            "text/html": [
              "<div>\n",
              "<style scoped>\n",
              "    .dataframe tbody tr th:only-of-type {\n",
              "        vertical-align: middle;\n",
              "    }\n",
              "\n",
              "    .dataframe tbody tr th {\n",
              "        vertical-align: top;\n",
              "    }\n",
              "\n",
              "    .dataframe thead th {\n",
              "        text-align: right;\n",
              "    }\n",
              "</style>\n",
              "<table border=\"1\" class=\"dataframe\">\n",
              "  <thead>\n",
              "    <tr style=\"text-align: right;\">\n",
              "      <th></th>\n",
              "      <th>hotel_id</th>\n",
              "    </tr>\n",
              "  </thead>\n",
              "  <tbody>\n",
              "    <tr>\n",
              "      <th>None</th>\n",
              "      <td>111198</td>\n",
              "    </tr>\n",
              "    <tr>\n",
              "      <th>cd8210b5c97be3564a4cd0283dda323f</th>\n",
              "      <td>178</td>\n",
              "    </tr>\n",
              "    <tr>\n",
              "      <th>8631d3e2f6a000ddbfcef3a4a547d642</th>\n",
              "      <td>107</td>\n",
              "    </tr>\n",
              "    <tr>\n",
              "      <th>cb1838f895d879993c8ca9eaf729dbeb</th>\n",
              "      <td>94</td>\n",
              "    </tr>\n",
              "    <tr>\n",
              "      <th>a3bc533c2761aa779605f68011ee8688</th>\n",
              "      <td>90</td>\n",
              "    </tr>\n",
              "    <tr>\n",
              "      <th>e366b55a2e316618559ef5dd0b4a534f</th>\n",
              "      <td>87</td>\n",
              "    </tr>\n",
              "    <tr>\n",
              "      <th>50a5b6704042f4abde9e6c365cc5ec24</th>\n",
              "      <td>80</td>\n",
              "    </tr>\n",
              "    <tr>\n",
              "      <th>d98370364c38275cf0176b3c037caeb3</th>\n",
              "      <td>78</td>\n",
              "    </tr>\n",
              "    <tr>\n",
              "      <th>4f640616d3102097c41affeadb05c606</th>\n",
              "      <td>76</td>\n",
              "    </tr>\n",
              "    <tr>\n",
              "      <th>79f4f7137c68a6be56d8b161114e7adb</th>\n",
              "      <td>75</td>\n",
              "    </tr>\n",
              "    <tr>\n",
              "      <th>d4a022fbcb4e07740c08c6aa079abdcc</th>\n",
              "      <td>73</td>\n",
              "    </tr>\n",
              "    <tr>\n",
              "      <th>d4dee0b2c32b586b2438d4af18d8606e</th>\n",
              "      <td>69</td>\n",
              "    </tr>\n",
              "    <tr>\n",
              "      <th>d160957744810bce2098bb7ec1097102</th>\n",
              "      <td>68</td>\n",
              "    </tr>\n",
              "    <tr>\n",
              "      <th>ae7e0a7b8e8133fb5f089a86697c4afd</th>\n",
              "      <td>62</td>\n",
              "    </tr>\n",
              "    <tr>\n",
              "      <th>fa736b7ceaa1f2eb5dcf02532fa61368</th>\n",
              "      <td>61</td>\n",
              "    </tr>\n",
              "    <tr>\n",
              "      <th>ad223e69b076f38d0e08f7892f64cad8</th>\n",
              "      <td>57</td>\n",
              "    </tr>\n",
              "    <tr>\n",
              "      <th>c329d21f9735f1bca222eac7ef6a9a23</th>\n",
              "      <td>55</td>\n",
              "    </tr>\n",
              "    <tr>\n",
              "      <th>ec31f16cbed9dc70ba8c1f189c6eb9d5</th>\n",
              "      <td>55</td>\n",
              "    </tr>\n",
              "    <tr>\n",
              "      <th>6ef62d2cb35181a07dd9be08f6cf6d6c</th>\n",
              "      <td>54</td>\n",
              "    </tr>\n",
              "    <tr>\n",
              "      <th>96162de076749853406edfc328d8efad</th>\n",
              "      <td>53</td>\n",
              "    </tr>\n",
              "  </tbody>\n",
              "</table>\n",
              "</div>"
            ],
            "text/plain": [
              "                                  hotel_id\n",
              "None                                111198\n",
              "cd8210b5c97be3564a4cd0283dda323f       178\n",
              "8631d3e2f6a000ddbfcef3a4a547d642       107\n",
              "cb1838f895d879993c8ca9eaf729dbeb        94\n",
              "a3bc533c2761aa779605f68011ee8688        90\n",
              "e366b55a2e316618559ef5dd0b4a534f        87\n",
              "50a5b6704042f4abde9e6c365cc5ec24        80\n",
              "d98370364c38275cf0176b3c037caeb3        78\n",
              "4f640616d3102097c41affeadb05c606        76\n",
              "79f4f7137c68a6be56d8b161114e7adb        75\n",
              "d4a022fbcb4e07740c08c6aa079abdcc        73\n",
              "d4dee0b2c32b586b2438d4af18d8606e        69\n",
              "d160957744810bce2098bb7ec1097102        68\n",
              "ae7e0a7b8e8133fb5f089a86697c4afd        62\n",
              "fa736b7ceaa1f2eb5dcf02532fa61368        61\n",
              "ad223e69b076f38d0e08f7892f64cad8        57\n",
              "c329d21f9735f1bca222eac7ef6a9a23        55\n",
              "ec31f16cbed9dc70ba8c1f189c6eb9d5        55\n",
              "6ef62d2cb35181a07dd9be08f6cf6d6c        54\n",
              "96162de076749853406edfc328d8efad        53"
            ]
          },
          "metadata": {
            "tags": []
          },
          "execution_count": 8
        }
      ]
    },
    {
      "cell_type": "markdown",
      "metadata": {
        "id": "2hJtBNWcHE65",
        "colab_type": "text"
      },
      "source": [
        "111198 orders have *None* values which means those orders are not classified as cross selling order or it can be said that only around 5% of orders which are classified as cross selling orders, means that this is a *imbalanced* classification problem"
      ]
    },
    {
      "cell_type": "markdown",
      "metadata": {
        "id": "iQ-FdhYOHE66",
        "colab_type": "text"
      },
      "source": [
        "---\n",
        "**account_id**"
      ]
    },
    {
      "cell_type": "code",
      "metadata": {
        "id": "r6liQqPFHE67",
        "colab_type": "code",
        "outputId": "6f3e25a8-a442-42bc-ffff-aca797851cbc",
        "colab": {}
      },
      "source": [
        "pd.DataFrame(df['account_id'].value_counts()).head(20)"
      ],
      "execution_count": 0,
      "outputs": [
        {
          "output_type": "execute_result",
          "data": {
            "text/html": [
              "<div>\n",
              "<style scoped>\n",
              "    .dataframe tbody tr th:only-of-type {\n",
              "        vertical-align: middle;\n",
              "    }\n",
              "\n",
              "    .dataframe tbody tr th {\n",
              "        vertical-align: top;\n",
              "    }\n",
              "\n",
              "    .dataframe thead th {\n",
              "        text-align: right;\n",
              "    }\n",
              "</style>\n",
              "<table border=\"1\" class=\"dataframe\">\n",
              "  <thead>\n",
              "    <tr style=\"text-align: right;\">\n",
              "      <th></th>\n",
              "      <th>account_id</th>\n",
              "    </tr>\n",
              "  </thead>\n",
              "  <tbody>\n",
              "    <tr>\n",
              "      <th>d64a90a618202a5e8b25d8539377f3ca</th>\n",
              "      <td>3311</td>\n",
              "    </tr>\n",
              "    <tr>\n",
              "      <th>fbb4123bb341ad85719af86930a0ccea</th>\n",
              "      <td>311</td>\n",
              "    </tr>\n",
              "    <tr>\n",
              "      <th>bf637abc47ea93bad22264f4956d67f6</th>\n",
              "      <td>161</td>\n",
              "    </tr>\n",
              "    <tr>\n",
              "      <th>74b423f5354172076e9529debf8866ac</th>\n",
              "      <td>145</td>\n",
              "    </tr>\n",
              "    <tr>\n",
              "      <th>4944140d10e202e845f0766a3e3ac2d1</th>\n",
              "      <td>133</td>\n",
              "    </tr>\n",
              "    <tr>\n",
              "      <th>fabbb09276eea6bcf6cc7baaed9d716a</th>\n",
              "      <td>118</td>\n",
              "    </tr>\n",
              "    <tr>\n",
              "      <th>49aef087188299dca09278b382147b44</th>\n",
              "      <td>117</td>\n",
              "    </tr>\n",
              "    <tr>\n",
              "      <th>ea9b9a3dc459101446cc47ad48d336c0</th>\n",
              "      <td>106</td>\n",
              "    </tr>\n",
              "    <tr>\n",
              "      <th>c3d5f862188aaa1299d0cc99142b4981</th>\n",
              "      <td>105</td>\n",
              "    </tr>\n",
              "    <tr>\n",
              "      <th>5634d6fd8d25ce0fd43b00a26d6dc17c</th>\n",
              "      <td>105</td>\n",
              "    </tr>\n",
              "    <tr>\n",
              "      <th>f7b64bbf8462b0d1a006af1a983c609d</th>\n",
              "      <td>104</td>\n",
              "    </tr>\n",
              "    <tr>\n",
              "      <th>721b125ee977ecb81560cf05a50aae9f</th>\n",
              "      <td>93</td>\n",
              "    </tr>\n",
              "    <tr>\n",
              "      <th>965149909f4e9e332a9dc1c5c9b3ad99</th>\n",
              "      <td>70</td>\n",
              "    </tr>\n",
              "    <tr>\n",
              "      <th>b9bab0e84361493561c68ca49f024bf9</th>\n",
              "      <td>68</td>\n",
              "    </tr>\n",
              "    <tr>\n",
              "      <th>e5246f41c61f6fde9429e9255a257c01</th>\n",
              "      <td>67</td>\n",
              "    </tr>\n",
              "    <tr>\n",
              "      <th>6672682f0d5881bb7a49e8b8af28efeb</th>\n",
              "      <td>63</td>\n",
              "    </tr>\n",
              "    <tr>\n",
              "      <th>f96e824a7177206a22adbc7c8e6fd29a</th>\n",
              "      <td>62</td>\n",
              "    </tr>\n",
              "    <tr>\n",
              "      <th>b4f1bd73bea184d2f6183fcc327a68de</th>\n",
              "      <td>62</td>\n",
              "    </tr>\n",
              "    <tr>\n",
              "      <th>237a26e0c757dde8225b8a204ea5be65</th>\n",
              "      <td>61</td>\n",
              "    </tr>\n",
              "    <tr>\n",
              "      <th>10cbe5d3abd5451406703bf00d0a0af3</th>\n",
              "      <td>57</td>\n",
              "    </tr>\n",
              "  </tbody>\n",
              "</table>\n",
              "</div>"
            ],
            "text/plain": [
              "                                  account_id\n",
              "d64a90a618202a5e8b25d8539377f3ca        3311\n",
              "fbb4123bb341ad85719af86930a0ccea         311\n",
              "bf637abc47ea93bad22264f4956d67f6         161\n",
              "74b423f5354172076e9529debf8866ac         145\n",
              "4944140d10e202e845f0766a3e3ac2d1         133\n",
              "fabbb09276eea6bcf6cc7baaed9d716a         118\n",
              "49aef087188299dca09278b382147b44         117\n",
              "ea9b9a3dc459101446cc47ad48d336c0         106\n",
              "c3d5f862188aaa1299d0cc99142b4981         105\n",
              "5634d6fd8d25ce0fd43b00a26d6dc17c         105\n",
              "f7b64bbf8462b0d1a006af1a983c609d         104\n",
              "721b125ee977ecb81560cf05a50aae9f          93\n",
              "965149909f4e9e332a9dc1c5c9b3ad99          70\n",
              "b9bab0e84361493561c68ca49f024bf9          68\n",
              "e5246f41c61f6fde9429e9255a257c01          67\n",
              "6672682f0d5881bb7a49e8b8af28efeb          63\n",
              "f96e824a7177206a22adbc7c8e6fd29a          62\n",
              "b4f1bd73bea184d2f6183fcc327a68de          62\n",
              "237a26e0c757dde8225b8a204ea5be65          61\n",
              "10cbe5d3abd5451406703bf00d0a0af3          57"
            ]
          },
          "metadata": {
            "tags": []
          },
          "execution_count": 9
        }
      ]
    },
    {
      "cell_type": "markdown",
      "metadata": {
        "id": "EpKQL1qjHE6-",
        "colab_type": "text"
      },
      "source": [
        "There is a user which has more than 3000 transactions in 1 year. This account will be classified as the outliers and will be removed from the data."
      ]
    },
    {
      "cell_type": "code",
      "metadata": {
        "colab_type": "code",
        "id": "Ig4CPjios-97",
        "colab": {}
      },
      "source": [
        "print('Unique numbers of acount_id : {}'.format(len(df['account_id'].unique())))"
      ],
      "execution_count": 0,
      "outputs": []
    },
    {
      "cell_type": "code",
      "metadata": {
        "colab_type": "code",
        "id": "Y47b2DPEtuSa",
        "outputId": "97c5e4be-b23a-4f37-8d01-bdfa7cae1ed1",
        "colab": {
          "base_uri": "https://localhost:8080/",
          "height": 34
        }
      },
      "source": [
        "print('Unique numbers of order_id: {}'.format(len(df['order_id'].unique())))"
      ],
      "execution_count": 0,
      "outputs": [
        {
          "output_type": "stream",
          "text": [
            "Banyaknya order_id yang unik: 117946\n"
          ],
          "name": "stdout"
        }
      ]
    },
    {
      "cell_type": "markdown",
      "metadata": {
        "id": "JbgOxwkFHE7J",
        "colab_type": "text"
      },
      "source": [
        "Number of unique **order_id** is same as the number of rows in the data which means there is no duplicated order in the data\n"
      ]
    },
    {
      "cell_type": "markdown",
      "metadata": {
        "id": "jSqqrPDZHE7L",
        "colab_type": "text"
      },
      "source": [
        "---\n",
        "**member_duration_days**\n",
        "\n",
        "Below is the descriptive statistics of **member_duration_days**  variable"
      ]
    },
    {
      "cell_type": "code",
      "metadata": {
        "colab_type": "code",
        "id": "Axo9FCgmujzx",
        "outputId": "8de5f090-3de9-4666-c1a9-7058040018e2",
        "colab": {
          "base_uri": "https://localhost:8080/",
          "height": 282
        }
      },
      "source": [
        "df[['member_duration_days']].describe()"
      ],
      "execution_count": 0,
      "outputs": [
        {
          "output_type": "execute_result",
          "data": {
            "text/html": [
              "<div>\n",
              "<style scoped>\n",
              "    .dataframe tbody tr th:only-of-type {\n",
              "        vertical-align: middle;\n",
              "    }\n",
              "\n",
              "    .dataframe tbody tr th {\n",
              "        vertical-align: top;\n",
              "    }\n",
              "\n",
              "    .dataframe thead th {\n",
              "        text-align: right;\n",
              "    }\n",
              "</style>\n",
              "<table border=\"1\" class=\"dataframe\">\n",
              "  <thead>\n",
              "    <tr style=\"text-align: right;\">\n",
              "      <th></th>\n",
              "      <th>member_duration_days</th>\n",
              "    </tr>\n",
              "  </thead>\n",
              "  <tbody>\n",
              "    <tr>\n",
              "      <th>count</th>\n",
              "      <td>117946.000000</td>\n",
              "    </tr>\n",
              "    <tr>\n",
              "      <th>mean</th>\n",
              "      <td>955.586955</td>\n",
              "    </tr>\n",
              "    <tr>\n",
              "      <th>std</th>\n",
              "      <td>565.292428</td>\n",
              "    </tr>\n",
              "    <tr>\n",
              "      <th>min</th>\n",
              "      <td>329.000000</td>\n",
              "    </tr>\n",
              "    <tr>\n",
              "      <th>25%</th>\n",
              "      <td>537.000000</td>\n",
              "    </tr>\n",
              "    <tr>\n",
              "      <th>50%</th>\n",
              "      <td>678.000000</td>\n",
              "    </tr>\n",
              "    <tr>\n",
              "      <th>75%</th>\n",
              "      <td>1341.000000</td>\n",
              "    </tr>\n",
              "    <tr>\n",
              "      <th>max</th>\n",
              "      <td>2720.000000</td>\n",
              "    </tr>\n",
              "  </tbody>\n",
              "</table>\n",
              "</div>"
            ],
            "text/plain": [
              "       member_duration_days\n",
              "count         117946.000000\n",
              "mean             955.586955\n",
              "std              565.292428\n",
              "min              329.000000\n",
              "25%              537.000000\n",
              "50%              678.000000\n",
              "75%             1341.000000\n",
              "max             2720.000000"
            ]
          },
          "metadata": {
            "tags": []
          },
          "execution_count": 12
        }
      ]
    },
    {
      "cell_type": "markdown",
      "metadata": {
        "id": "0IWhLvq5HE7S",
        "colab_type": "text"
      },
      "source": [
        "The average member duration for user which has buy a flight tickets is around 2.6 years\n",
        "\n",
        "It will be check if there is outlier for this variable"
      ]
    },
    {
      "cell_type": "code",
      "metadata": {
        "colab_type": "code",
        "id": "sZe6Ft8WwrWv",
        "outputId": "15db8727-0f14-4b6f-afe3-a8488df6772d",
        "colab": {
          "base_uri": "https://localhost:8080/",
          "height": 510
        }
      },
      "source": [
        "detect_outlier(df,'member_duration_days',plot=True)"
      ],
      "execution_count": 0,
      "outputs": [
        {
          "output_type": "stream",
          "text": [
            "Upper Fence: 2547.0\n",
            "\n",
            "Lower Fence: -669.0\n",
            "\n",
            "Proportion of Upper Outliers: 0.2916588947484442\n",
            "\n",
            "Proportion of Lower Outliers: 0.0\n",
            "\n"
          ],
          "name": "stdout"
        },
        {
          "output_type": "display_data",
          "data": {
            "image/png": "[encoded data removed]",
            "text/plain": [
              "<Figure size 1080x432 with 2 Axes>"
            ]
          },
          "metadata": {
            "tags": [],
            "needs_background": "light"
          }
        }
      ]
    },
    {
      "cell_type": "markdown",
      "metadata": {
        "id": "l4xEeUAhHE7b",
        "colab_type": "text"
      },
      "source": [
        "From the data plot, **member_duration_days** variable has the skew to the right tendency, resulting some outliers in the high value of this variable (above the upper whisker value)\n",
        "\n",
        "It will be checked the cross selling behaviour from the outlier users (**member_duration_days** above 2547 days)"
      ]
    },
    {
      "cell_type": "code",
      "metadata": {
        "colab_type": "code",
        "id": "9hECr8e34GL5",
        "outputId": "ac6cafae-e232-4eb2-9a50-942dea2a539b",
        "colab": {
          "base_uri": "https://localhost:8080/",
          "height": 68
        }
      },
      "source": [
        "df[df['member_duration_days']>2547]['is_cross_sell'].value_counts()/len(df[df['member_duration_days']>2547])*100"
      ],
      "execution_count": 0,
      "outputs": [
        {
          "output_type": "execute_result",
          "data": {
            "text/plain": [
              "No     93.895349\n",
              "Yes     6.104651\n",
              "Name: is_cross_sell, dtype: float64"
            ]
          },
          "metadata": {
            "tags": []
          },
          "execution_count": 14
        }
      ]
    },
    {
      "cell_type": "code",
      "metadata": {
        "colab_type": "code",
        "id": "gIBkhdmc4Yo7",
        "outputId": "5715f1ee-466d-4a9f-9068-f3344236c797",
        "colab": {
          "base_uri": "https://localhost:8080/",
          "height": 68
        }
      },
      "source": [
        "df[df['member_duration_days']<=2547]['is_cross_sell'].value_counts()/len(df[df['member_duration_days']<=2547])*100"
      ],
      "execution_count": 0,
      "outputs": [
        {
          "output_type": "execute_result",
          "data": {
            "text/plain": [
              "No     94.279859\n",
              "Yes     5.720141\n",
              "Name: is_cross_sell, dtype: float64"
            ]
          },
          "metadata": {
            "tags": []
          },
          "execution_count": 15
        }
      ]
    },
    {
      "cell_type": "markdown",
      "metadata": {
        "id": "99gZTg4iHE7j",
        "colab_type": "text"
      },
      "source": [
        "It can be seen that the outlier user still has the similar behaviour with non outlier users"
      ]
    },
    {
      "cell_type": "markdown",
      "metadata": {
        "id": "_7xVf8rrHE7m",
        "colab_type": "text"
      },
      "source": [
        "---\n",
        "**price**\n",
        "\n",
        "Below is the descriptive statistics for **price** variable"
      ]
    },
    {
      "cell_type": "code",
      "metadata": {
        "colab_type": "code",
        "id": "HA6CamqWutlk",
        "outputId": "c597f5a0-a7c8-4a24-fd3a-dd7f04a7ce2c",
        "colab": {
          "base_uri": "https://localhost:8080/",
          "height": 282
        }
      },
      "source": [
        "df[['price']].describe()"
      ],
      "execution_count": 0,
      "outputs": [
        {
          "output_type": "execute_result",
          "data": {
            "text/html": [
              "<div>\n",
              "<style scoped>\n",
              "    .dataframe tbody tr th:only-of-type {\n",
              "        vertical-align: middle;\n",
              "    }\n",
              "\n",
              "    .dataframe tbody tr th {\n",
              "        vertical-align: top;\n",
              "    }\n",
              "\n",
              "    .dataframe thead th {\n",
              "        text-align: right;\n",
              "    }\n",
              "</style>\n",
              "<table border=\"1\" class=\"dataframe\">\n",
              "  <thead>\n",
              "    <tr style=\"text-align: right;\">\n",
              "      <th></th>\n",
              "      <th>price</th>\n",
              "    </tr>\n",
              "  </thead>\n",
              "  <tbody>\n",
              "    <tr>\n",
              "      <th>count</th>\n",
              "      <td>1.179460e+05</td>\n",
              "    </tr>\n",
              "    <tr>\n",
              "      <th>mean</th>\n",
              "      <td>2.672772e+06</td>\n",
              "    </tr>\n",
              "    <tr>\n",
              "      <th>std</th>\n",
              "      <td>2.449247e+06</td>\n",
              "    </tr>\n",
              "    <tr>\n",
              "      <th>min</th>\n",
              "      <td>4.069520e+05</td>\n",
              "    </tr>\n",
              "    <tr>\n",
              "      <th>25%</th>\n",
              "      <td>1.282710e+06</td>\n",
              "    </tr>\n",
              "    <tr>\n",
              "      <th>50%</th>\n",
              "      <td>1.987061e+06</td>\n",
              "    </tr>\n",
              "    <tr>\n",
              "      <th>75%</th>\n",
              "      <td>2.974400e+06</td>\n",
              "    </tr>\n",
              "    <tr>\n",
              "      <th>max</th>\n",
              "      <td>5.903643e+07</td>\n",
              "    </tr>\n",
              "  </tbody>\n",
              "</table>\n",
              "</div>"
            ],
            "text/plain": [
              "              price\n",
              "count  1.179460e+05\n",
              "mean   2.672772e+06\n",
              "std    2.449247e+06\n",
              "min    4.069520e+05\n",
              "25%    1.282710e+06\n",
              "50%    1.987061e+06\n",
              "75%    2.974400e+06\n",
              "max    5.903643e+07"
            ]
          },
          "metadata": {
            "tags": []
          },
          "execution_count": 16
        }
      ]
    },
    {
      "cell_type": "markdown",
      "metadata": {
        "id": "m4KD7CkNHE7r",
        "colab_type": "text"
      },
      "source": [
        "The average value of price from the user which bough flight ticket is around IDR 2.6 million / transactions\n",
        "\n",
        "It will be checked if there is an outlier for this variable"
      ]
    },
    {
      "cell_type": "code",
      "metadata": {
        "colab_type": "code",
        "id": "VeSeSfERwteo",
        "outputId": "b6c6243e-9fbc-409b-a974-59b474cb86d8",
        "colab": {
          "base_uri": "https://localhost:8080/",
          "height": 533
        }
      },
      "source": [
        "detect_outlier(df,'price',plot=True)"
      ],
      "execution_count": 0,
      "outputs": [
        {
          "output_type": "stream",
          "text": [
            "Upper Fence: 5511935.0\n",
            "\n",
            "Lower Fence: -1254825.0\n",
            "\n",
            "Proportion of Upper Outliers: 8.324148339070423\n",
            "\n",
            "Proportion of Lower Outliers: 0.0\n",
            "\n"
          ],
          "name": "stdout"
        },
        {
          "output_type": "display_data",
          "data": {
            "image/png": "[encoded data removed]",
            "text/plain": [
              "<Figure size 1080x432 with 2 Axes>"
            ]
          },
          "metadata": {
            "tags": [],
            "needs_background": "light"
          }
        }
      ]
    },
    {
      "cell_type": "markdown",
      "metadata": {
        "id": "jdFyJP4DHE7u",
        "colab_type": "text"
      },
      "source": [
        "**price** variable has a more positive skewness compared to **member_duration_days**\n",
        "\n",
        "Same with **member_duration_days**, it will be cheked the cross selling behaviour of the outlier users."
      ]
    },
    {
      "cell_type": "code",
      "metadata": {
        "colab_type": "code",
        "id": "tQCZchfw5X8w",
        "outputId": "2b113ce4-8c2a-43c7-ea42-e5b18720952f",
        "colab": {
          "base_uri": "https://localhost:8080/",
          "height": 68
        }
      },
      "source": [
        "df[df['price']>5511935]['is_cross_sell'].value_counts()/len(df[df['price']>5511935])*100"
      ],
      "execution_count": 0,
      "outputs": [
        {
          "output_type": "execute_result",
          "data": {
            "text/plain": [
              "No     93.786922\n",
              "Yes     6.213078\n",
              "Name: is_cross_sell, dtype: float64"
            ]
          },
          "metadata": {
            "tags": []
          },
          "execution_count": 18
        }
      ]
    },
    {
      "cell_type": "code",
      "metadata": {
        "colab_type": "code",
        "id": "4jWl7wRX5etp",
        "outputId": "8d843468-defa-4356-d01a-bdee0df63d02",
        "colab": {
          "base_uri": "https://localhost:8080/",
          "height": 68
        }
      },
      "source": [
        "df[df['price']<=5511935]['is_cross_sell'].value_counts()/len(df[df['price']<=5511935])*100"
      ],
      "execution_count": 0,
      "outputs": [
        {
          "output_type": "execute_result",
          "data": {
            "text/plain": [
              "No     94.323394\n",
              "Yes     5.676606\n",
              "Name: is_cross_sell, dtype: float64"
            ]
          },
          "metadata": {
            "tags": []
          },
          "execution_count": 19
        }
      ]
    },
    {
      "cell_type": "markdown",
      "metadata": {
        "id": "bA9d8m4CHE73",
        "colab_type": "text"
      },
      "source": [
        "It can be seen that the outlier user still has the similar behaviour with non outlier users"
      ]
    },
    {
      "cell_type": "markdown",
      "metadata": {
        "id": "5c9lr2s0HE73",
        "colab_type": "text"
      },
      "source": [
        "---\n",
        "**no_of_seats**\n",
        "\n",
        "Below is the frequency table for **no_of_seats**"
      ]
    },
    {
      "cell_type": "code",
      "metadata": {
        "colab_type": "code",
        "id": "PYN48KFMUjLq",
        "outputId": "ab868220-a58d-4230-af56-3c09dc1cb106",
        "colab": {
          "base_uri": "https://localhost:8080/",
          "height": 220
        }
      },
      "source": [
        "df['no_of_seats'].value_counts()"
      ],
      "execution_count": 0,
      "outputs": [
        {
          "output_type": "execute_result",
          "data": {
            "text/plain": [
              "1.0     70937\n",
              "2.0     29561\n",
              "3.0      8236\n",
              "4.0      4963\n",
              "5.0      2092\n",
              "6.0      1165\n",
              "7.0       882\n",
              "8.0        75\n",
              "9.0        31\n",
              "10.0        3\n",
              "11.0        1\n",
              "Name: no_of_seats, dtype: int64"
            ]
          },
          "metadata": {
            "tags": []
          },
          "execution_count": 20
        }
      ]
    },
    {
      "cell_type": "markdown",
      "metadata": {
        "id": "uMpzt8fJHE75",
        "colab_type": "text"
      },
      "source": [
        "We have a hypothesis that the high number of orders caused by the high number of **no_of_seats**\n",
        "\n",
        "Below is the frequency table of **no_of_seats** from the orders **price** above 5511935"
      ]
    },
    {
      "cell_type": "code",
      "metadata": {
        "colab_type": "code",
        "id": "2ejMGI-cTqJj",
        "outputId": "4239f5a6-fe17-4799-e0ee-5dbc8be020c4",
        "colab": {
          "base_uri": "https://localhost:8080/",
          "height": 220
        }
      },
      "source": [
        "df[df['price']>5511935]['no_of_seats'].value_counts()"
      ],
      "execution_count": 0,
      "outputs": [
        {
          "output_type": "execute_result",
          "data": {
            "text/plain": [
              "4.0     2180\n",
              "2.0     1933\n",
              "3.0     1855\n",
              "5.0     1369\n",
              "6.0     1037\n",
              "7.0      861\n",
              "1.0      475\n",
              "8.0       73\n",
              "9.0       31\n",
              "10.0       3\n",
              "11.0       1\n",
              "Name: no_of_seats, dtype: int64"
            ]
          },
          "metadata": {
            "tags": []
          },
          "execution_count": 21
        }
      ]
    },
    {
      "cell_type": "markdown",
      "metadata": {
        "id": "5JJ55_BaHE78",
        "colab_type": "text"
      },
      "source": [
        "High valued transactions are dominated by the orders which has the high number of **no_of_seats** "
      ]
    },
    {
      "cell_type": "code",
      "metadata": {
        "colab_type": "code",
        "id": "eO08aTYVxHZM",
        "jupyter": {
          "outputs_hidden": true
        },
        "outputId": "2898d84a-e35f-4616-8034-beaf975afe3e",
        "colab": {
          "base_uri": "https://localhost:8080/",
          "height": 101
        }
      },
      "source": [
        "# Checking if there is a pair of variable which are correlated \n",
        "correlated(df,0.7)"
      ],
      "execution_count": 0,
      "outputs": [
        {
          "output_type": "stream",
          "text": [
            "found 1 correlated groups\n",
            "out of 3 total features\n",
            "      feature1 feature2      corr\n",
            "0  no_of_seats    price  0.712863\n",
            "\n"
          ],
          "name": "stdout"
        }
      ]
    },
    {
      "cell_type": "markdown",
      "metadata": {
        "id": "pUGX9THVHE7-",
        "colab_type": "text"
      },
      "source": [
        "Only **price** and **no_of_seats** has a pretty strong correlation value"
      ]
    },
    {
      "cell_type": "markdown",
      "metadata": {
        "id": "juxEFAtPHE7_",
        "colab_type": "text"
      },
      "source": [
        "---\n",
        "**service_class**\n",
        "\n",
        "Below is the frequency table for **service_class** variable"
      ]
    },
    {
      "cell_type": "code",
      "metadata": {
        "id": "fJdGu4MNHE8B",
        "colab_type": "code",
        "outputId": "2fd3d85f-9416-49c9-ed3b-b660ce158100",
        "colab": {}
      },
      "source": [
        "df['service_class'].value_counts()"
      ],
      "execution_count": 0,
      "outputs": [
        {
          "output_type": "execute_result",
          "data": {
            "text/plain": [
              "ECONOMY     117665\n",
              "BUSINESS       281\n",
              "Name: service_class, dtype: int64"
            ]
          },
          "metadata": {
            "tags": []
          },
          "execution_count": 23
        }
      ]
    },
    {
      "cell_type": "markdown",
      "metadata": {
        "id": "-n32-0ytHE8F",
        "colab_type": "text"
      },
      "source": [
        "Only around 0.2% of the transactions is the business class flight"
      ]
    },
    {
      "cell_type": "markdown",
      "metadata": {
        "id": "9ZqclgSIHE8F",
        "colab_type": "text"
      },
      "source": [
        "---\n",
        "**gender**\n",
        "\n",
        "Below is the frequency table for **gender**  variable"
      ]
    },
    {
      "cell_type": "code",
      "metadata": {
        "id": "5QoNh1GEHE8G",
        "colab_type": "code",
        "outputId": "ce6cff00-01ab-46f0-86d5-5d95021707f8",
        "colab": {}
      },
      "source": [
        "df['gender'].value_counts()"
      ],
      "execution_count": 0,
      "outputs": [
        {
          "output_type": "execute_result",
          "data": {
            "text/plain": [
              "M       61036\n",
              "F       56886\n",
              "None       24\n",
              "Name: gender, dtype: int64"
            ]
          },
          "metadata": {
            "tags": []
          },
          "execution_count": 24
        }
      ]
    },
    {
      "cell_type": "markdown",
      "metadata": {
        "id": "P0r7y-iDHE8I",
        "colab_type": "text"
      },
      "source": [
        "Number of transactions transacted by man is higher than transacted by woman. \n",
        "\n",
        "There are 24 **Missing Values** for the **gender** variable"
      ]
    },
    {
      "cell_type": "markdown",
      "metadata": {
        "id": "syxq77wOHE8I",
        "colab_type": "text"
      },
      "source": [
        "---\n",
        "**is_tx_promo**\n",
        "\n",
        "Below is the frequency table for  **is_tx_promo** variable"
      ]
    },
    {
      "cell_type": "code",
      "metadata": {
        "id": "WlGV6Tf2HE8J",
        "colab_type": "code",
        "outputId": "7e7275b7-8e2d-44f6-8dee-05d31bafae3e",
        "colab": {}
      },
      "source": [
        "df['is_tx_promo'].value_counts()"
      ],
      "execution_count": 0,
      "outputs": [
        {
          "output_type": "execute_result",
          "data": {
            "text/plain": [
              "NO     67621\n",
              "YES    50325\n",
              "Name: is_tx_promo, dtype: int64"
            ]
          },
          "metadata": {
            "tags": []
          },
          "execution_count": 25
        }
      ]
    },
    {
      "cell_type": "markdown",
      "metadata": {
        "id": "_XrYRbHuHE8L",
        "colab_type": "text"
      },
      "source": [
        "Interesting! Order which use promo is pretty enough, almost have 1:1 amount ratio with non promo order"
      ]
    },
    {
      "cell_type": "markdown",
      "metadata": {
        "colab_type": "text",
        "id": "7iiS42FsyeBG"
      },
      "source": [
        "---\n",
        "\n",
        "## Hotel Data  "
      ]
    },
    {
      "cell_type": "markdown",
      "metadata": {
        "id": "XO9-BJPAHE8M",
        "colab_type": "text"
      },
      "source": [
        "Below is the descriptive statistics for **starRating** variable"
      ]
    },
    {
      "cell_type": "code",
      "metadata": {
        "colab_type": "code",
        "id": "ozNgJXisyffz",
        "outputId": "e3f4c46d-f1d6-4803-981f-188f16ff036c",
        "colab": {
          "base_uri": "https://localhost:8080/",
          "height": 282
        }
      },
      "source": [
        "df_hotel.describe()"
      ],
      "execution_count": 0,
      "outputs": [
        {
          "output_type": "execute_result",
          "data": {
            "text/html": [
              "<div>\n",
              "<style scoped>\n",
              "    .dataframe tbody tr th:only-of-type {\n",
              "        vertical-align: middle;\n",
              "    }\n",
              "\n",
              "    .dataframe tbody tr th {\n",
              "        vertical-align: top;\n",
              "    }\n",
              "\n",
              "    .dataframe thead th {\n",
              "        text-align: right;\n",
              "    }\n",
              "</style>\n",
              "<table border=\"1\" class=\"dataframe\">\n",
              "  <thead>\n",
              "    <tr style=\"text-align: right;\">\n",
              "      <th></th>\n",
              "      <th>starRating</th>\n",
              "    </tr>\n",
              "  </thead>\n",
              "  <tbody>\n",
              "    <tr>\n",
              "      <th>count</th>\n",
              "      <td>2962.000000</td>\n",
              "    </tr>\n",
              "    <tr>\n",
              "      <th>mean</th>\n",
              "      <td>2.992235</td>\n",
              "    </tr>\n",
              "    <tr>\n",
              "      <th>std</th>\n",
              "      <td>1.270136</td>\n",
              "    </tr>\n",
              "    <tr>\n",
              "      <th>min</th>\n",
              "      <td>0.000000</td>\n",
              "    </tr>\n",
              "    <tr>\n",
              "      <th>25%</th>\n",
              "      <td>2.000000</td>\n",
              "    </tr>\n",
              "    <tr>\n",
              "      <th>50%</th>\n",
              "      <td>3.000000</td>\n",
              "    </tr>\n",
              "    <tr>\n",
              "      <th>75%</th>\n",
              "      <td>4.000000</td>\n",
              "    </tr>\n",
              "    <tr>\n",
              "      <th>max</th>\n",
              "      <td>5.000000</td>\n",
              "    </tr>\n",
              "  </tbody>\n",
              "</table>\n",
              "</div>"
            ],
            "text/plain": [
              "        starRating\n",
              "count  2962.000000\n",
              "mean      2.992235\n",
              "std       1.270136\n",
              "min       0.000000\n",
              "25%       2.000000\n",
              "50%       3.000000\n",
              "75%       4.000000\n",
              "max       5.000000"
            ]
          },
          "metadata": {
            "tags": []
          },
          "execution_count": 26
        }
      ]
    },
    {
      "cell_type": "markdown",
      "metadata": {
        "id": "TdoppBl7HE8Q",
        "colab_type": "text"
      },
      "source": [
        "In average, hotel in Bali is 3 star hotel. \n",
        "\n",
        "There are 2962 hotels in the data. However, when we check the number of hotels in Bali, there are more than 10000 hotels. This means :\n",
        "1. Number of hotel in 2019 is way more than 2018; or\n",
        "2. This hotel data is not complete; or\n",
        "3. This data only covered the hotel partner with the company"
      ]
    },
    {
      "cell_type": "code",
      "metadata": {
        "colab_type": "code",
        "id": "v4TZMtCdPP6B",
        "outputId": "65bb9284-9e2f-407d-eff0-d70589b456e6",
        "colab": {
          "base_uri": "https://localhost:8080/",
          "height": 135
        }
      },
      "source": [
        "df.groupby('is_cross_sell').median()"
      ],
      "execution_count": 0,
      "outputs": [
        {
          "output_type": "execute_result",
          "data": {
            "text/html": [
              "<div>\n",
              "<style scoped>\n",
              "    .dataframe tbody tr th:only-of-type {\n",
              "        vertical-align: middle;\n",
              "    }\n",
              "\n",
              "    .dataframe tbody tr th {\n",
              "        vertical-align: top;\n",
              "    }\n",
              "\n",
              "    .dataframe thead th {\n",
              "        text-align: right;\n",
              "    }\n",
              "</style>\n",
              "<table border=\"1\" class=\"dataframe\">\n",
              "  <thead>\n",
              "    <tr style=\"text-align: right;\">\n",
              "      <th></th>\n",
              "      <th>member_duration_days</th>\n",
              "      <th>price</th>\n",
              "      <th>no_of_seats</th>\n",
              "    </tr>\n",
              "    <tr>\n",
              "      <th>is_cross_sell</th>\n",
              "      <th></th>\n",
              "      <th></th>\n",
              "      <th></th>\n",
              "    </tr>\n",
              "  </thead>\n",
              "  <tbody>\n",
              "    <tr>\n",
              "      <th>No</th>\n",
              "      <td>675.0</td>\n",
              "      <td>1984060.0</td>\n",
              "      <td>1.0</td>\n",
              "    </tr>\n",
              "    <tr>\n",
              "      <th>Yes</th>\n",
              "      <td>831.0</td>\n",
              "      <td>2169960.0</td>\n",
              "      <td>1.0</td>\n",
              "    </tr>\n",
              "  </tbody>\n",
              "</table>\n",
              "</div>"
            ],
            "text/plain": [
              "               member_duration_days      price  no_of_seats\n",
              "is_cross_sell                                              \n",
              "No                            675.0  1984060.0          1.0\n",
              "Yes                           831.0  2169960.0          1.0"
            ]
          },
          "metadata": {
            "tags": []
          },
          "execution_count": 27
        }
      ]
    },
    {
      "cell_type": "markdown",
      "metadata": {
        "colab_type": "text",
        "id": "LuipAmGC1aNk"
      },
      "source": [
        "---\n",
        "## Join Data"
      ]
    },
    {
      "cell_type": "code",
      "metadata": {
        "colab_type": "code",
        "id": "gV8owe3o1cWK",
        "colab": {}
      },
      "source": [
        "df_join=df.merge(df_hotel,on='hotel_id',how='left')"
      ],
      "execution_count": 0,
      "outputs": []
    },
    {
      "cell_type": "code",
      "metadata": {
        "colab_type": "code",
        "id": "To8awi7Y2a4t",
        "outputId": "759dbe3d-8096-48f5-e548-720b858a4f4b",
        "colab": {
          "base_uri": "https://localhost:8080/",
          "height": 34
        }
      },
      "source": [
        "unique_hotel_id=df_join[df_join.is_cross_sell=='Yes']['hotel_id'].unique()\n",
        "print('Number of unique hotels transacted by customer: {}'.format(len(unique_hotel_id)))"
      ],
      "execution_count": 0,
      "outputs": [
        {
          "output_type": "stream",
          "text": [
            "Number of unique hotels transacted by customer: 675\n"
          ],
          "name": "stdout"
        }
      ]
    },
    {
      "cell_type": "code",
      "metadata": {
        "colab_type": "code",
        "id": "A6b1b3Pe7Kqr",
        "colab": {}
      },
      "source": [
        "df_hotel.index=df_hotel.hotel_id"
      ],
      "execution_count": 0,
      "outputs": []
    },
    {
      "cell_type": "code",
      "metadata": {
        "colab_type": "code",
        "id": "x76Gq0CD8kiW",
        "outputId": "0e10855f-0e70-479c-aa55-f286b9391f68",
        "colab": {
          "base_uri": "https://localhost:8080/",
          "height": 68
        }
      },
      "source": [
        "df_hotel.loc[unique_hotel_id]['free_breakfast'].value_counts()"
      ],
      "execution_count": 0,
      "outputs": [
        {
          "output_type": "execute_result",
          "data": {
            "text/plain": [
              "NO     413\n",
              "YES    182\n",
              "Name: free_breakfast, dtype: int64"
            ]
          },
          "metadata": {
            "tags": []
          },
          "execution_count": 31
        }
      ]
    },
    {
      "cell_type": "code",
      "metadata": {
        "colab_type": "code",
        "id": "6osiGOGh99VD",
        "outputId": "7a8d1451-0d63-45ec-b9e2-36fb1d656751",
        "colab": {
          "base_uri": "https://localhost:8080/",
          "height": 68
        }
      },
      "source": [
        "df_hotel.loc[unique_hotel_id]['free_wifi'].value_counts()"
      ],
      "execution_count": 0,
      "outputs": [
        {
          "output_type": "execute_result",
          "data": {
            "text/plain": [
              "YES    593\n",
              "NO       2\n",
              "Name: free_wifi, dtype: int64"
            ]
          },
          "metadata": {
            "tags": []
          },
          "execution_count": 32
        }
      ]
    },
    {
      "cell_type": "code",
      "metadata": {
        "colab_type": "code",
        "id": "aVe3edvy_YxI",
        "outputId": "4c9672d5-b5fe-4320-db0e-cf3daa142ee8",
        "colab": {
          "base_uri": "https://localhost:8080/",
          "height": 68
        }
      },
      "source": [
        "df_hotel.loc[unique_hotel_id]['pool_access'].value_counts()"
      ],
      "execution_count": 0,
      "outputs": [
        {
          "output_type": "execute_result",
          "data": {
            "text/plain": [
              "NO     592\n",
              "YES      3\n",
              "Name: pool_access, dtype: int64"
            ]
          },
          "metadata": {
            "tags": []
          },
          "execution_count": 33
        }
      ]
    },
    {
      "cell_type": "code",
      "metadata": {
        "colab_type": "code",
        "id": "8gloXFED_q9u",
        "jupyter": {
          "outputs_hidden": true
        },
        "outputId": "9589e728-58c7-47fc-8353-8b9cdfe94a6c",
        "colab": {
          "base_uri": "https://localhost:8080/",
          "height": 135
        }
      },
      "source": [
        "df_hotel.loc[unique_hotel_id]['starRating'].value_counts()"
      ],
      "execution_count": 0,
      "outputs": [
        {
          "output_type": "execute_result",
          "data": {
            "text/plain": [
              "3.0    221\n",
              "4.0    197\n",
              "5.0     84\n",
              "2.0     66\n",
              "1.0     24\n",
              "0.0      3\n",
              "Name: starRating, dtype: int64"
            ]
          },
          "metadata": {
            "tags": []
          },
          "execution_count": 34
        }
      ]
    },
    {
      "cell_type": "markdown",
      "metadata": {
        "id": "b1oH7hjmHE8w",
        "colab_type": "text"
      },
      "source": [
        "The most ordered hotel is 3 star hotel"
      ]
    },
    {
      "cell_type": "markdown",
      "metadata": {
        "colab_type": "text",
        "id": "X-8157EF3Gdn"
      },
      "source": [
        "# Data Cleaning/Pre-processing <img src=\"https://assets.materialup.com/uploads/0156cdd7-841b-493e-aa15-6ff2692273f7/preview\" width = 60>"
      ]
    },
    {
      "cell_type": "markdown",
      "metadata": {
        "id": "emYMSyFOHE8z",
        "colab_type": "text"
      },
      "source": [
        "---\n",
        "*Missing values* on **gender**\n",
        "\n",
        "Because there are only 24 missing values, it will be imputed by the most dominant **gender** values which is *M*"
      ]
    },
    {
      "cell_type": "code",
      "metadata": {
        "id": "ggVhr-uGHE80",
        "colab_type": "code",
        "colab": {}
      },
      "source": [
        "df['gender']=df['gender'].apply(lambda x: 'M' if x=='None' else x)"
      ],
      "execution_count": 0,
      "outputs": []
    },
    {
      "cell_type": "code",
      "metadata": {
        "colab_type": "code",
        "id": "FUM_ICZeJvdl",
        "outputId": "af015d84-a821-4d20-a4a9-37c3cac5b6bf",
        "colab": {
          "base_uri": "https://localhost:8080/",
          "height": 169
        }
      },
      "source": [
        "df['airlines_name'].value_counts()"
      ],
      "execution_count": 0,
      "outputs": [
        {
          "output_type": "execute_result",
          "data": {
            "text/plain": [
              "6c483c0812c96f8ec43bb0ff76eaf716    36669\n",
              "33199710eb822fbcfd0dc793f4788d30    30640\n",
              "0a102015e48c1f68e121acc99fca9a05    20928\n",
              "ad5bef60d81ea077018f4d50b813153a    11890\n",
              "74c5549aa99d55280a896ea50068a211    10751\n",
              "e35de6a36d385711a660c72c0286154a     7060\n",
              "9855a1d3de1c46526dde37c5d6fb758c        6\n",
              "6872b49542519aea7ae146e23fab5c08        2\n",
              "Name: airlines_name, dtype: int64"
            ]
          },
          "metadata": {
            "tags": []
          },
          "execution_count": 36
        }
      ]
    },
    {
      "cell_type": "code",
      "metadata": {
        "colab_type": "code",
        "id": "d2nKxa2sg45_",
        "outputId": "5dccc1f6-5fe3-4e55-d6f7-85311b90eb37",
        "colab": {
          "base_uri": "https://localhost:8080/",
          "height": 169
        }
      },
      "source": [
        "df['airlines_name'].value_counts()"
      ],
      "execution_count": 0,
      "outputs": [
        {
          "output_type": "execute_result",
          "data": {
            "text/plain": [
              "6c483c0812c96f8ec43bb0ff76eaf716    36669\n",
              "33199710eb822fbcfd0dc793f4788d30    30640\n",
              "0a102015e48c1f68e121acc99fca9a05    20928\n",
              "ad5bef60d81ea077018f4d50b813153a    11890\n",
              "74c5549aa99d55280a896ea50068a211    10751\n",
              "e35de6a36d385711a660c72c0286154a     7060\n",
              "9855a1d3de1c46526dde37c5d6fb758c        6\n",
              "6872b49542519aea7ae146e23fab5c08        2\n",
              "Name: airlines_name, dtype: int64"
            ]
          },
          "metadata": {
            "tags": []
          },
          "execution_count": 37
        }
      ]
    },
    {
      "cell_type": "markdown",
      "metadata": {
        "id": "0E0_22OlHE88",
        "colab_type": "text"
      },
      "source": [
        "---\n",
        "\n",
        "\n",
        "Inconsistent **trip** values\n",
        "\n",
        "Trip is an categorical variable which has 3 unique values:\n",
        "\n",
        "*   trip\n",
        "*   round\n",
        "* roundtrip\n",
        "\n",
        "It is a common sense that *round* and *roundtrip* has a same meaning, so the *roundtrip* value is converted into *round*"
      ]
    },
    {
      "cell_type": "code",
      "metadata": {
        "id": "N79_GcQpHE8-",
        "colab_type": "code",
        "colab": {}
      },
      "source": [
        "df['trip']=df['trip'].apply(lambda x: 'round' if x=='roundtrip' else x)"
      ],
      "execution_count": 0,
      "outputs": []
    },
    {
      "cell_type": "markdown",
      "metadata": {
        "id": "bsLrFgufHE9A",
        "colab_type": "text"
      },
      "source": [
        "---\n",
        "**airlines_name** uncommon names\n",
        "\n",
        "In order to ease the identification process, the airlines name will be converted into 1 char code"
      ]
    },
    {
      "cell_type": "code",
      "metadata": {
        "id": "pvQnKTTgHE9B",
        "colab_type": "code",
        "colab": {}
      },
      "source": [
        "df['airlines_name']=df['airlines_name'].apply(lambda x: 'A' if x=='6c483c0812c96f8ec43bb0ff76eaf716' else 'B' if x=='33199710eb822fbcfd0dc793f4788d30' else 'C' if x=='0a102015e48c1f68e121acc99fca9a05' else \n",
        "                          'D' if x=='ad5bef60d81ea077018f4d50b813153a' else 'E' if x=='74c5549aa99d55280a896ea50068a211' else 'F' if x=='e35de6a36d385711a660c72c0286154a' else 'G' if x=='9855a1d3de1c46526dde37c5d6fb758c' else 'H')"
      ],
      "execution_count": 0,
      "outputs": []
    },
    {
      "cell_type": "markdown",
      "metadata": {
        "id": "-nsgRBEyHE9G",
        "colab_type": "text"
      },
      "source": [
        "Based on previous analysis, G and H airlines will be removed from data"
      ]
    },
    {
      "cell_type": "code",
      "metadata": {
        "id": "fKbvEvEhHE9H",
        "colab_type": "code",
        "colab": {}
      },
      "source": [
        "df=df[(df['airlines_name']!='G') & (df['airlines_name']!='H')]"
      ],
      "execution_count": 0,
      "outputs": []
    },
    {
      "cell_type": "markdown",
      "metadata": {
        "id": "OmOrRwjLHE9M",
        "colab_type": "text"
      },
      "source": [
        "---\n",
        "**account_id** with too many order count will be removed from data\n"
      ]
    },
    {
      "cell_type": "code",
      "metadata": {
        "jupyter": {
          "outputs_hidden": true
        },
        "id": "WUQJ7IMjHE9N",
        "colab_type": "code",
        "colab": {}
      },
      "source": [
        "df=df[(df['account_id']!='d64a90a618202a5e8b25d8539377f3ca')]"
      ],
      "execution_count": 0,
      "outputs": []
    },
    {
      "cell_type": "markdown",
      "metadata": {
        "id": "oz3bIZweHE9R",
        "colab_type": "text"
      },
      "source": [
        "---\n",
        "**route** constant values\n",
        "\n",
        "Because all of the observation in the data is the flight with route Jakarta to Denpasar, then **route** variable is not used in the modelling"
      ]
    },
    {
      "cell_type": "code",
      "metadata": {
        "colab_type": "code",
        "id": "M33WQEQp3KPx",
        "colab": {}
      },
      "source": [
        "df=df.reset_index()\n",
        "df=df.drop(['route','index'],1)"
      ],
      "execution_count": 0,
      "outputs": []
    },
    {
      "cell_type": "markdown",
      "metadata": {
        "colab_type": "text",
        "id": "GbnaxWEpQbbe"
      },
      "source": [
        "# Feature Engineering <img src = \"https://i1.wp.com/www.edms-consultants.com/wp-content/uploads/2015/05/engineering-icon-e1435823707978.png?fit=250%2C250\" width = 50>\n",
        "\n",
        "The new Features created are as follows:\n",
        "* **is_refund** , an indicator of refunded transaction. We are assuming that negative transaction means a refunded transaction\n",
        "* Statistics from  **log_transaction** including mean, standard deviation, count,min,max\n",
        "* **visited_[city]**, an indicator if the user has visited that city or not. We are not creating **visited_medan**,**visited_denpasar**,**visited_jakarta** variable because all of the users has visited those cities\n",
        "* **adj_price** , is the result of  **price**  divided by  **no_of_seat**. If the **trip** is classified as *round* trip, then it will be divided by 2\n",
        "* **price_dif** , is the difference between **adj_price** and  **price** average given the same **service_class** and **airline_names**\n",
        "\n",
        "There are also some feaures which created when doing the cross validation to prevent overfitting:\n",
        "* **Woe** (Weight of Evidence) , is the intention of some group did cross selling. $$WoE = ln(\\frac{Prob(Yes)}{Prob(Np)})$$ . \n",
        "* **Adjusted_Woe**, is the modified version of **WoE** which also take account the number of observation\n",
        "* **mean_encoding** , is the probability of some group did cross selling\n"
      ]
    },
    {
      "cell_type": "code",
      "metadata": {
        "colab_type": "code",
        "id": "1KdabyafzJ99",
        "jupyter": {
          "outputs_hidden": true
        },
        "outputId": "da57874c-1248-4ed3-cfd2-156b0a564eca",
        "colab": {
          "base_uri": "https://localhost:8080/"
        }
      },
      "source": [
        "df['log_transaction']=df['log_transaction'].apply(lambda x: ast.literal_eval(x))\n",
        "df['log_transaction']=df['log_transaction'].apply(lambda x: ast.literal_eval(x))\n",
        "print('Checking Negative Trx: ')\n",
        "print(df['log_transaction'].apply(lambda x: \"Negative\" if any(k<0 for k in x) else \"Positive\").value_counts())\n",
        "df['is_refund']=df['log_transaction'].apply(lambda x: \"Yes\" if any(k<0 for k in x) else \"No\")\n",
        "df['min_trx']=df['log_transaction'].apply(lambda x: np.min(x))\n",
        "df['max_trx']=df['log_transaction'].apply(lambda x: np.max(x))\n",
        "df['avg_trx']=df['log_transaction'].apply(lambda x: np.mean(x))\n",
        "df['std_trx']=df['log_transaction'].apply(lambda x: np.std(x))\n",
        "df['cnt_trx']=df['log_transaction'].apply(lambda x: len(x))\n",
        "# df['skew_trx']=df['log_transaction'].apply(lambda x: skew(x))\n",
        "\n",
        "df['visited_jogja']=df['visited_city'].apply(lambda x: 1 if 'Jogjakarta' in x else 0)\n",
        "df['visited_semarang']=df['visited_city'].apply(lambda x: 1 if 'Semarang' in x else 0)\n",
        "df['visited_surabaya']=df['visited_city'].apply(lambda x: 1 if 'Surabaya' in x else 0)\n",
        "df['visited_aceh']=df['visited_city'].apply(lambda x: 1 if 'Aceh' in x else 0)\n",
        "df['visited_manado']=df['visited_city'].apply(lambda x: 1 if 'Manado' in x else 0)\n",
        "\n",
        "df['adj_price']=df['price']/(df['no_of_seats'])\n",
        "df['adj_price']=df.apply(lambda x: (x.adj_price)/2 if x.trip=='round' else x.adj_price ,axis=1)\n",
        "\n",
        "an = df.airlines_name.unique()\n",
        "sc = df.service_class.unique()\n",
        "a=dict()\n",
        "for i in an:\n",
        "  for j in sc:\n",
        "    mean_g = np.mean(df[(df.airlines_name==i)&(df.service_class==j)&(df.is_tx_promo=='NO')]['adj_price'])\n",
        "    a[i+'_'+j]=mean_g\n",
        "df['price_dif']=df.apply(lambda x : ((x.adj_price) - a['A_ECONOMY']) if ((x.airlines_name=='A') & (x.service_class=='ECONOMY')) else \n",
        "                         ((x.adj_price) - a['B_ECONOMY']) if ((x.airlines_name=='B') & (x.service_class=='ECONOMY')) else \n",
        "                         ((x.adj_price) - a['C_ECONOMY']) if ((x.airlines_name=='C') & (x.service_class=='ECONOMY')) else \n",
        "                         ((x.adj_price) - a['D_ECONOMY']) if ((x.airlines_name=='D') & (x.service_class=='ECONOMY')) else \n",
        "                         ((x.adj_price) - a['E_BUSINESS']) if ((x.airlines_name=='E') & (x.service_class=='BUSINESS')) else \n",
        "                         ((x.adj_price) - a['E_ECONOMY']) if ((x.airlines_name=='E') & (x.service_class=='ECONOMY')) else \n",
        "                         ((x.adj_price) - a['F_ECONOMY']) if ((x.airlines_name=='F') & (x.service_class=='ECONOMY')) else \n",
        "                         np.nan ,axis=1)\n",
        "\n",
        "df=df.drop(['log_transaction','visited_city','hotel_id'],1)\n",
        "df_raw=df.copy()\n",
        "df=df.drop('order_id',1)"
      ],
      "execution_count": 0,
      "outputs": [
        {
          "output_type": "stream",
          "text": [
            "Checking Negative Trx: \n",
            "Positive    114540\n",
            "Negative        87\n",
            "Name: log_transaction, dtype: int64\n"
          ],
          "name": "stdout"
        }
      ]
    },
    {
      "cell_type": "code",
      "metadata": {
        "colab_type": "code",
        "id": "F-8ccB960Zjl",
        "outputId": "82cc1583-ac22-424a-e34f-6881c0747f16",
        "colab": {}
      },
      "source": [
        "df.head()"
      ],
      "execution_count": 0,
      "outputs": [
        {
          "output_type": "execute_result",
          "data": {
            "text/html": [
              "<div>\n",
              "<style scoped>\n",
              "    .dataframe tbody tr th:only-of-type {\n",
              "        vertical-align: middle;\n",
              "    }\n",
              "\n",
              "    .dataframe tbody tr th {\n",
              "        vertical-align: top;\n",
              "    }\n",
              "\n",
              "    .dataframe thead th {\n",
              "        text-align: right;\n",
              "    }\n",
              "</style>\n",
              "<table border=\"1\" class=\"dataframe\">\n",
              "  <thead>\n",
              "    <tr style=\"text-align: right;\">\n",
              "      <th></th>\n",
              "      <th>account_id</th>\n",
              "      <th>member_duration_days</th>\n",
              "      <th>gender</th>\n",
              "      <th>trip</th>\n",
              "      <th>service_class</th>\n",
              "      <th>price</th>\n",
              "      <th>is_tx_promo</th>\n",
              "      <th>no_of_seats</th>\n",
              "      <th>airlines_name</th>\n",
              "      <th>is_cross_sell</th>\n",
              "      <th>...</th>\n",
              "      <th>avg_trx</th>\n",
              "      <th>std_trx</th>\n",
              "      <th>cnt_trx</th>\n",
              "      <th>visited_jogja</th>\n",
              "      <th>visited_semarang</th>\n",
              "      <th>visited_surabaya</th>\n",
              "      <th>visited_aceh</th>\n",
              "      <th>visited_manado</th>\n",
              "      <th>adj_price</th>\n",
              "      <th>price_dif</th>\n",
              "    </tr>\n",
              "  </thead>\n",
              "  <tbody>\n",
              "    <tr>\n",
              "      <th>0</th>\n",
              "      <td>912aa410a02cd7e1bab414214a7005c0</td>\n",
              "      <td>566.0</td>\n",
              "      <td>M</td>\n",
              "      <td>trip</td>\n",
              "      <td>ECONOMY</td>\n",
              "      <td>885898.0</td>\n",
              "      <td>NO</td>\n",
              "      <td>1.0</td>\n",
              "      <td>B</td>\n",
              "      <td>No</td>\n",
              "      <td>...</td>\n",
              "      <td>1.030959e+06</td>\n",
              "      <td>4.533539e+05</td>\n",
              "      <td>4</td>\n",
              "      <td>0</td>\n",
              "      <td>1</td>\n",
              "      <td>0</td>\n",
              "      <td>0</td>\n",
              "      <td>0</td>\n",
              "      <td>885898.0</td>\n",
              "      <td>-3.502775e+05</td>\n",
              "    </tr>\n",
              "    <tr>\n",
              "      <th>1</th>\n",
              "      <td>1a42ac02bcb4a902973123323f84da55</td>\n",
              "      <td>648.0</td>\n",
              "      <td>F</td>\n",
              "      <td>trip</td>\n",
              "      <td>ECONOMY</td>\n",
              "      <td>2695550.0</td>\n",
              "      <td>NO</td>\n",
              "      <td>1.0</td>\n",
              "      <td>C</td>\n",
              "      <td>No</td>\n",
              "      <td>...</td>\n",
              "      <td>4.489474e+06</td>\n",
              "      <td>2.250021e+06</td>\n",
              "      <td>5</td>\n",
              "      <td>0</td>\n",
              "      <td>1</td>\n",
              "      <td>0</td>\n",
              "      <td>0</td>\n",
              "      <td>0</td>\n",
              "      <td>2695550.0</td>\n",
              "      <td>1.382226e+06</td>\n",
              "    </tr>\n",
              "    <tr>\n",
              "      <th>2</th>\n",
              "      <td>92cddd64d4be4dec6dfbcc0c50e902f4</td>\n",
              "      <td>418.0</td>\n",
              "      <td>F</td>\n",
              "      <td>trip</td>\n",
              "      <td>ECONOMY</td>\n",
              "      <td>1146665.0</td>\n",
              "      <td>NO</td>\n",
              "      <td>1.0</td>\n",
              "      <td>C</td>\n",
              "      <td>No</td>\n",
              "      <td>...</td>\n",
              "      <td>2.954880e+06</td>\n",
              "      <td>1.706745e+06</td>\n",
              "      <td>3</td>\n",
              "      <td>1</td>\n",
              "      <td>0</td>\n",
              "      <td>0</td>\n",
              "      <td>0</td>\n",
              "      <td>0</td>\n",
              "      <td>1146665.0</td>\n",
              "      <td>-1.666595e+05</td>\n",
              "    </tr>\n",
              "    <tr>\n",
              "      <th>3</th>\n",
              "      <td>bf637abc47ea93bad22264f4956d67f6</td>\n",
              "      <td>537.0</td>\n",
              "      <td>F</td>\n",
              "      <td>trip</td>\n",
              "      <td>ECONOMY</td>\n",
              "      <td>1131032.5</td>\n",
              "      <td>NO</td>\n",
              "      <td>1.0</td>\n",
              "      <td>A</td>\n",
              "      <td>No</td>\n",
              "      <td>...</td>\n",
              "      <td>4.362199e+06</td>\n",
              "      <td>3.006539e+06</td>\n",
              "      <td>157</td>\n",
              "      <td>1</td>\n",
              "      <td>1</td>\n",
              "      <td>0</td>\n",
              "      <td>0</td>\n",
              "      <td>0</td>\n",
              "      <td>1131032.5</td>\n",
              "      <td>-1.017806e+05</td>\n",
              "    </tr>\n",
              "    <tr>\n",
              "      <th>4</th>\n",
              "      <td>fdd499437b284d3c410ba3dfba4fe810</td>\n",
              "      <td>493.0</td>\n",
              "      <td>M</td>\n",
              "      <td>trip</td>\n",
              "      <td>ECONOMY</td>\n",
              "      <td>1457118.0</td>\n",
              "      <td>NO</td>\n",
              "      <td>1.0</td>\n",
              "      <td>D</td>\n",
              "      <td>No</td>\n",
              "      <td>...</td>\n",
              "      <td>5.302909e+06</td>\n",
              "      <td>2.723540e+06</td>\n",
              "      <td>3</td>\n",
              "      <td>0</td>\n",
              "      <td>0</td>\n",
              "      <td>0</td>\n",
              "      <td>0</td>\n",
              "      <td>0</td>\n",
              "      <td>1457118.0</td>\n",
              "      <td>2.025159e+05</td>\n",
              "    </tr>\n",
              "  </tbody>\n",
              "</table>\n",
              "<p>5 rows × 23 columns</p>\n",
              "</div>"
            ],
            "text/plain": [
              "                         account_id  member_duration_days gender  trip  \\\n",
              "0  912aa410a02cd7e1bab414214a7005c0                 566.0      M  trip   \n",
              "1  1a42ac02bcb4a902973123323f84da55                 648.0      F  trip   \n",
              "2  92cddd64d4be4dec6dfbcc0c50e902f4                 418.0      F  trip   \n",
              "3  bf637abc47ea93bad22264f4956d67f6                 537.0      F  trip   \n",
              "4  fdd499437b284d3c410ba3dfba4fe810                 493.0      M  trip   \n",
              "\n",
              "  service_class      price is_tx_promo  no_of_seats airlines_name  \\\n",
              "0       ECONOMY   885898.0          NO          1.0             B   \n",
              "1       ECONOMY  2695550.0          NO          1.0             C   \n",
              "2       ECONOMY  1146665.0          NO          1.0             C   \n",
              "3       ECONOMY  1131032.5          NO          1.0             A   \n",
              "4       ECONOMY  1457118.0          NO          1.0             D   \n",
              "\n",
              "  is_cross_sell  ...       avg_trx       std_trx  cnt_trx  visited_jogja  \\\n",
              "0            No  ...  1.030959e+06  4.533539e+05        4              0   \n",
              "1            No  ...  4.489474e+06  2.250021e+06        5              0   \n",
              "2            No  ...  2.954880e+06  1.706745e+06        3              1   \n",
              "3            No  ...  4.362199e+06  3.006539e+06      157              1   \n",
              "4            No  ...  5.302909e+06  2.723540e+06        3              0   \n",
              "\n",
              "   visited_semarang  visited_surabaya  visited_aceh  visited_manado  \\\n",
              "0                 1                 0             0               0   \n",
              "1                 1                 0             0               0   \n",
              "2                 0                 0             0               0   \n",
              "3                 1                 0             0               0   \n",
              "4                 0                 0             0               0   \n",
              "\n",
              "   adj_price     price_dif  \n",
              "0   885898.0 -3.502775e+05  \n",
              "1  2695550.0  1.382226e+06  \n",
              "2  1146665.0 -1.666595e+05  \n",
              "3  1131032.5 -1.017806e+05  \n",
              "4  1457118.0  2.025159e+05  \n",
              "\n",
              "[5 rows x 23 columns]"
            ]
          },
          "metadata": {
            "tags": []
          },
          "execution_count": 44
        }
      ]
    },
    {
      "cell_type": "markdown",
      "metadata": {
        "colab_type": "text",
        "id": "45qoDMCvj-oB"
      },
      "source": [
        "# Modelling\n",
        "\n",
        "Here is the modelling flow:\n",
        "1. Determining the combination of variables used in the modelling\n",
        "2. Determining which ML model want to be used\n",
        "3. Finding the best base parameter using the help of automl function provided by H2O library  \n",
        "4. Cross-validation manually equipped with added feature engineering\n",
        "\n",
        "After conduction the experiment of various variables combination, we end up of using this combination:"
      ]
    },
    {
      "cell_type": "code",
      "metadata": {
        "colab_type": "code",
        "id": "5tfwlp9OkDkM",
        "outputId": "c5a649c0-cbd5-4bfe-e51e-c2a6b5c57d1f",
        "colab": {
          "base_uri": "https://localhost:8080/",
          "height": 85
        }
      },
      "source": [
        "drop_columns=['service_class','gender','price','is_refund','visited_jogja','visited_semarang','visited_surabaya','visited_aceh','visited_manado']\n",
        "df.drop(columns=drop_columns).columns"
      ],
      "execution_count": 0,
      "outputs": [
        {
          "output_type": "execute_result",
          "data": {
            "text/plain": [
              "Index(['account_id', 'member_duration_days', 'trip', 'is_tx_promo',\n",
              "       'no_of_seats', 'airlines_name', 'is_cross_sell', 'min_trx', 'max_trx',\n",
              "       'avg_trx', 'std_trx', 'cnt_trx', 'adj_price', 'price_dif'],\n",
              "      dtype='object')"
            ]
          },
          "metadata": {
            "tags": []
          },
          "execution_count": 45
        }
      ]
    },
    {
      "cell_type": "markdown",
      "metadata": {
        "id": "5AvQEiWtHE9f",
        "colab_type": "text"
      },
      "source": [
        "---\n",
        "## Model 1"
      ]
    },
    {
      "cell_type": "markdown",
      "metadata": {
        "id": "baOnhhULHE9g",
        "colab_type": "text"
      },
      "source": [
        "Here we find the best base parameter for Random Forest model with the help of automl function provided by H2O library"
      ]
    },
    {
      "cell_type": "code",
      "metadata": {
        "colab_type": "code",
        "id": "tQMpxWYVkAHA",
        "outputId": "6ad26642-a6d6-461d-f14d-4d57b456cc0f",
        "colab": {
          "base_uri": "https://localhost:8080/",
          "height": 542
        }
      },
      "source": [
        "#Initialize H2O\n",
        "h2o.init()\n",
        "\n",
        "drop_columns=['service_class','gender','price','is_refund','visited_jogja','visited_semarang','visited_surabaya','visited_aceh','visited_manado']\n",
        "drop_columns.append('account_id')\n",
        "\n",
        "#convert to H2OFrame\n",
        "df_h2o = h2o.H2OFrame(df.drop(drop_columns,1))\n",
        "\n",
        "#specify the target and predictor variable\n",
        "except_target=drop_columns.copy()\n",
        "except_target.append('is_cross_sell')\n",
        "x=df.drop(except_target,1).columns.tolist()\n",
        "y='is_cross_sell'\n",
        "\n",
        "#using automl with XGBoost Model to help find the best parameter\n",
        "aml_init = H2OAutoML(max_runtime_secs=3000, balance_classes=False,seed = 1,nfolds=5,stopping_rounds=5,\n",
        "               sort_metric='logloss',include_algos=['DRF'])\n",
        "aml_init.train(x = x, y = y, training_frame = df_h2o)"
      ],
      "execution_count": 0,
      "outputs": [
        {
          "output_type": "stream",
          "text": [
            "Checking whether there is an H2O instance running at http://localhost:54321 ..... not found.\n",
            "Attempting to start a local H2O server...\n",
            "  Java Version: openjdk version \"1.8.0_232\"; OpenJDK Runtime Environment (build 1.8.0_232-8u232-b09-1~deb9u1-b09); OpenJDK 64-Bit Server VM (build 25.232-b09, mixed mode)\n",
            "  Starting server from /opt/conda/lib/python3.6/site-packages/h2o/backend/bin/h2o.jar\n",
            "  Ice root: /tmp/tmp2gvukfgl\n",
            "  JVM stdout: /tmp/tmp2gvukfgl/h2o_unknownUser_started_from_python.out\n",
            "  JVM stderr: /tmp/tmp2gvukfgl/h2o_unknownUser_started_from_python.err\n",
            "  Server is running at http://127.0.0.1:54321\n",
            "Connecting to H2O server at http://127.0.0.1:54321 ... successful.\n"
          ],
          "name": "stdout"
        },
        {
          "output_type": "display_data",
          "data": {
            "text/html": [
              "<div style=\"overflow:auto\"><table style=\"width:50%\"><tr><td>H2O cluster uptime:</td>\n",
              "<td>02 secs</td></tr>\n",
              "<tr><td>H2O cluster timezone:</td>\n",
              "<td>Etc/UTC</td></tr>\n",
              "<tr><td>H2O data parsing timezone:</td>\n",
              "<td>UTC</td></tr>\n",
              "<tr><td>H2O cluster version:</td>\n",
              "<td>3.26.0.10</td></tr>\n",
              "<tr><td>H2O cluster version age:</td>\n",
              "<td>1 month and 21 days </td></tr>\n",
              "<tr><td>H2O cluster name:</td>\n",
              "<td>H2O_from_python_unknownUser_8tzm01</td></tr>\n",
              "<tr><td>H2O cluster total nodes:</td>\n",
              "<td>1</td></tr>\n",
              "<tr><td>H2O cluster free memory:</td>\n",
              "<td>3.556 Gb</td></tr>\n",
              "<tr><td>H2O cluster total cores:</td>\n",
              "<td>4</td></tr>\n",
              "<tr><td>H2O cluster allowed cores:</td>\n",
              "<td>4</td></tr>\n",
              "<tr><td>H2O cluster status:</td>\n",
              "<td>accepting new members, healthy</td></tr>\n",
              "<tr><td>H2O connection url:</td>\n",
              "<td>http://127.0.0.1:54321</td></tr>\n",
              "<tr><td>H2O connection proxy:</td>\n",
              "<td>{'http': None, 'https': None}</td></tr>\n",
              "<tr><td>H2O internal security:</td>\n",
              "<td>False</td></tr>\n",
              "<tr><td>H2O API Extensions:</td>\n",
              "<td>Amazon S3, XGBoost, Algos, AutoML, Core V3, TargetEncoder, Core V4</td></tr>\n",
              "<tr><td>Python version:</td>\n",
              "<td>3.6.6 final</td></tr></table></div>"
            ],
            "text/plain": [
              "--------------------------  ------------------------------------------------------------------\n",
              "H2O cluster uptime:         02 secs\n",
              "H2O cluster timezone:       Etc/UTC\n",
              "H2O data parsing timezone:  UTC\n",
              "H2O cluster version:        3.26.0.10\n",
              "H2O cluster version age:    1 month and 21 days\n",
              "H2O cluster name:           H2O_from_python_unknownUser_8tzm01\n",
              "H2O cluster total nodes:    1\n",
              "H2O cluster free memory:    3.556 Gb\n",
              "H2O cluster total cores:    4\n",
              "H2O cluster allowed cores:  4\n",
              "H2O cluster status:         accepting new members, healthy\n",
              "H2O connection url:         http://127.0.0.1:54321\n",
              "H2O connection proxy:       {'http': None, 'https': None}\n",
              "H2O internal security:      False\n",
              "H2O API Extensions:         Amazon S3, XGBoost, Algos, AutoML, Core V3, TargetEncoder, Core V4\n",
              "Python version:             3.6.6 final\n",
              "--------------------------  ------------------------------------------------------------------"
            ]
          },
          "metadata": {
            "tags": []
          }
        },
        {
          "output_type": "stream",
          "text": [
            "Parse progress: |█████████████████████████████████████████████████████████| 100%\n",
            "AutoML progress: |████████████████████████████████████████████████████████| 100%\n"
          ],
          "name": "stdout"
        }
      ]
    },
    {
      "cell_type": "code",
      "metadata": {
        "colab_type": "code",
        "id": "2Jr9JzAbmJ9n",
        "outputId": "96262b4c-2486-4363-b47e-1cd4c103fd71",
        "colab": {
          "base_uri": "https://localhost:8080/",
          "height": 99
        }
      },
      "source": [
        "#Leaderboard\n",
        "lb=aml_init.leaderboard\n",
        "print(lb)"
      ],
      "execution_count": 0,
      "outputs": [
        {
          "output_type": "display_data",
          "data": {
            "text/html": [
              "<table>\n",
              "<thead>\n",
              "<tr><th>model_id                    </th><th style=\"text-align: right;\">     auc</th><th style=\"text-align: right;\">  logloss</th><th style=\"text-align: right;\">  mean_per_class_error</th><th style=\"text-align: right;\">    rmse</th><th style=\"text-align: right;\">      mse</th></tr>\n",
              "</thead>\n",
              "<tbody>\n",
              "<tr><td>DRF_1_AutoML_20191228_195157</td><td style=\"text-align: right;\">0.709269</td><td style=\"text-align: right;\"> 0.205704</td><td style=\"text-align: right;\">              0.399334</td><td style=\"text-align: right;\">0.226093</td><td style=\"text-align: right;\">0.0511179</td></tr>\n",
              "<tr><td>XRT_1_AutoML_20191228_195157</td><td style=\"text-align: right;\">0.70957 </td><td style=\"text-align: right;\"> 0.20709 </td><td style=\"text-align: right;\">              0.406207</td><td style=\"text-align: right;\">0.226194</td><td style=\"text-align: right;\">0.0511637</td></tr>\n",
              "</tbody>\n",
              "</table>"
            ]
          },
          "metadata": {
            "tags": []
          }
        },
        {
          "output_type": "stream",
          "text": [
            "\n"
          ],
          "name": "stdout"
        }
      ]
    },
    {
      "cell_type": "code",
      "metadata": {
        "colab_type": "code",
        "id": "tBdMqpWumMO4",
        "outputId": "9b508e51-1006-47f1-8cac-9e2e0c828031",
        "colab": {
          "base_uri": "https://localhost:8080/",
          "height": 483
        }
      },
      "source": [
        "#Variable Importance of Leader Model\n",
        "m = h2o.get_model(lb[0,\"model_id\"])\n",
        "df_imp=m.varimp(use_pandas=True)\n",
        "df_imp.index=df_imp['variable']\n",
        "\n",
        "df_imp['scaled_importance'].sort_values().plot.barh(figsize=(15,8))\n",
        "plt.show()"
      ],
      "execution_count": 0,
      "outputs": [
        {
          "output_type": "display_data",
          "data": {
            "image/png": "[encoded data removed]",
            "text/plain": [
              "<Figure size 1080x576 with 1 Axes>"
            ]
          },
          "metadata": {
            "tags": [],
            "needs_background": "light"
          }
        }
      ]
    },
    {
      "cell_type": "code",
      "metadata": {
        "colab_type": "code",
        "id": "d8Wcs6HBtivP",
        "colab": {}
      },
      "source": [
        "#DRF\n",
        "params_DRF = {\"ntrees\" : aml_init.leader.params['ntrees']['actual']\n",
        "    , \"max_depth\" : aml_init.leader.params['max_depth']['actual']\n",
        "    , \"keep_cross_validation_predictions\" : aml_init.leader.params['keep_cross_validation_predictions']['actual']\n",
        "    , \"nfolds\" : aml_init.leader.params['nfolds']['actual']\n",
        "    , \"nbins\" : aml_init.leader.params['nbins']['actual']\n",
        "    , \"nbins_cats\" : aml_init.leader.params['nbins_cats']['actual']    \n",
        "    , \"nbins_top_level\" : aml_init.leader.params['nbins_top_level']['actual']\n",
        "    # , \"learn_rate_annealing\" : aml_init.leader.params['learn_rate_annealing']['actual']\n",
        "    , \"distribution\" : aml_init.leader.params['distribution']['actual']\n",
        "    , \"sample_rate\" : aml_init.leader.params['sample_rate']['actual']\n",
        "    , \"sample_rate_per_class\" : aml_init.leader.params['sample_rate_per_class']['actual']\n",
        "    # , \"col_sample_rate\" :aml_init.leader.params['col_sample_rate']['actual']\n",
        "    , \"col_sample_rate_change_per_level\" : aml_init.leader.params['col_sample_rate_change_per_level']['actual']\n",
        "    , \"col_sample_rate_per_tree\" : aml_init.leader.params['col_sample_rate_per_tree']['actual']\n",
        "    , \"min_rows\" : aml_init.leader.params['min_rows']['actual']\n",
        "    # , \"max_abs_leafnode_pred\" : aml_init.leader.params['max_abs_leafnode_pred']['actual']\n",
        "    # , \"pred_noise_bandwidth\" : aml_init.leader.params['pred_noise_bandwidth']['actual']\n",
        "    , \"categorical_encoding\" : aml_init.leader.params['categorical_encoding']['actual']\n",
        "    # , \"min_child_weight\" :aml_init.leader.params['min_child_weight']['actual']\n",
        "    , \"seed\": aml_init.leader.params['seed']['actual']\n",
        "    , \"score_tree_interval\": aml_init.leader.params['score_tree_interval']['actual']\n",
        "    # , \"subsample\" :aml_init.leader.params['subsample']['actual']\n",
        "    # , \"max_bins\" :aml_init.leader.params['max_bins']['actual']\n",
        "    # , \"max_delta_step\" :aml_init.leader.params['max_delta_step']['actual']\n",
        "    # , \"max_leaves\" :aml_init.leader.params['max_leaves']['actual']\n",
        "    # , \"booster\" :aml_init.leader.params['booster']['actual']\n",
        "    # , \"sample_type\" :aml_init.leader.params['sample_type']['actual']\n",
        "    , \"stopping_rounds\" :aml_init.leader.params['stopping_rounds']['actual']\n",
        "    , \"stopping_metric\" :aml_init.leader.params['stopping_metric']['actual']\n",
        "    , \"stopping_tolerance\" :aml_init.leader.params['stopping_tolerance']['actual']\n",
        "    # , \"nthread\" :aml_init.leader.params['nthread']['actual']\n",
        "    # , \"eta\" :aml_init.leader.params['eta']['actual']\n",
        "    , \"min_split_improvement\" :aml_init.leader.params['min_split_improvement']['actual']\n",
        "    , \"histogram_type\" : aml_init.leader.params['histogram_type']['actual']\n",
        "    , \"score_each_iteration\" : aml_init.leader.params['score_each_iteration']['actual']\n",
        "    # , \"fold_assignment\" : aml_init.leader.params['fold_assignment']['actual']\n",
        "    # , \"fold_column\" : aml_init.leader.params['fold_column']['actual']\n",
        "    # , \"offset_column\" : aml_init.leader.params['offset_column']['actual']\n",
        "    , \"max_runtime_secs\" : aml_init.leader.params['max_runtime_secs']['actual']\n",
        "    , \"max_hit_ratio_k\" : aml_init.leader.params['max_hit_ratio_k']['actual']\n",
        "    , \"r2_stopping\" : aml_init.leader.params['r2_stopping']['actual']\n",
        "    , \"stopping_rounds\" : aml_init.leader.params['stopping_rounds']['actual']\n",
        "    , \"stopping_metric\" : aml_init.leader.params['stopping_metric']['actual']\n",
        "    , \"stopping_tolerance\" : aml_init.leader.params['max_runtime_secs']['actual']\n",
        "    , \"build_tree_one_node\" : aml_init.leader.params['build_tree_one_node']['actual']\n",
        "    , \"binomial_double_trees\" : aml_init.leader.params['binomial_double_trees']['actual']\n",
        "    # , \"tweedie_power\" : aml_init.leader.params['tweedie_power']['actual']\n",
        "    # , \"huber_alpha\" : aml_init.leader.params['huber_alpha']['actual']\n",
        "    , \"class_sampling_factors\" : aml_init.leader.params['class_sampling_factors']['actual']\n",
        "    , \"max_after_balance_size\" : aml_init.leader.params['max_after_balance_size']['actual']\n",
        "    , \"nbins_top_level\" : aml_init.leader.params['nbins_top_level']['actual']\n",
        "    , \"calibrate_model\" : aml_init.leader.params['calibrate_model']['actual']\n",
        "    , \"mtries\" : aml_init.leader.params['mtries']['actual']\n",
        "    , \"custom_metric_func\" : aml_init.leader.params['custom_metric_func']['actual']\n",
        "    # , \"custom_distribution_func\" : aml_init.leader.params['custom_distribution_func']['actual']\n",
        "    , \"export_checkpoints_dir\" : aml_init.leader.params['export_checkpoints_dir']['actual']\n",
        "    # , \"monotone_constraints\" : aml_init.leader.params['monotone_constraints']['actual']\n",
        "    , \"check_constant_response\" : aml_init.leader.params['check_constant_response']['actual']\n",
        "    # , \"reg_lambda\" :aml_init.leader.params['reg_lambda']['actual']\n",
        "    # , \"reg?_alpha\" :aml_init.leader.params['reg_alpha']['actual']\n",
        "}\n"
      ],
      "execution_count": 0,
      "outputs": []
    },
    {
      "cell_type": "markdown",
      "metadata": {
        "id": "03tjkdoJHE9w",
        "colab_type": "text"
      },
      "source": [
        "---\n",
        "## Model 2"
      ]
    },
    {
      "cell_type": "markdown",
      "metadata": {
        "id": "vSYp6yCJHE9x",
        "colab_type": "text"
      },
      "source": [
        "Here we find the best base parameter for GBM with the help of automl function provided by H2O library"
      ]
    },
    {
      "cell_type": "code",
      "metadata": {
        "id": "n6QTmL2UHE9y",
        "colab_type": "code",
        "outputId": "124487e3-09ff-4e15-d8c4-24f1096b0204",
        "colab": {}
      },
      "source": [
        "#Initialize H2O\n",
        "h2o.init()\n",
        "\n",
        "drop_columns=['service_class','gender','price','is_refund','visited_jogja','visited_semarang','visited_surabaya','visited_aceh','visited_manado']\n",
        "drop_columns.append('account_id')\n",
        "\n",
        "#convert to H2OFrame\n",
        "df_h2o = h2o.H2OFrame(df.drop(drop_columns,1))\n",
        "\n",
        "#specify the target and predictor variable\n",
        "except_target=drop_columns.copy()\n",
        "except_target.append('is_cross_sell')\n",
        "x=df.drop(except_target,1).columns.tolist()\n",
        "y='is_cross_sell'\n",
        "\n",
        "#using automl with XGBoost Model to help find the best parameter\n",
        "aml2_init = H2OAutoML(max_runtime_secs=3000, balance_classes=False,seed = 1,nfolds=5,stopping_rounds=5,\n",
        "               sort_metric='logloss',include_algos=['GBM'])\n",
        "aml2_init.train(x = x, y = y, training_frame = df_h2o)"
      ],
      "execution_count": 0,
      "outputs": [
        {
          "output_type": "stream",
          "text": [
            "Checking whether there is an H2O instance running at http://localhost:54321 . connected.\n"
          ],
          "name": "stdout"
        },
        {
          "output_type": "display_data",
          "data": {
            "text/html": [
              "<div style=\"overflow:auto\"><table style=\"width:50%\"><tr><td>H2O cluster uptime:</td>\n",
              "<td>3 mins 36 secs</td></tr>\n",
              "<tr><td>H2O cluster timezone:</td>\n",
              "<td>Etc/UTC</td></tr>\n",
              "<tr><td>H2O data parsing timezone:</td>\n",
              "<td>UTC</td></tr>\n",
              "<tr><td>H2O cluster version:</td>\n",
              "<td>3.26.0.10</td></tr>\n",
              "<tr><td>H2O cluster version age:</td>\n",
              "<td>1 month and 21 days </td></tr>\n",
              "<tr><td>H2O cluster name:</td>\n",
              "<td>H2O_from_python_unknownUser_8tzm01</td></tr>\n",
              "<tr><td>H2O cluster total nodes:</td>\n",
              "<td>1</td></tr>\n",
              "<tr><td>H2O cluster free memory:</td>\n",
              "<td>3.320 Gb</td></tr>\n",
              "<tr><td>H2O cluster total cores:</td>\n",
              "<td>4</td></tr>\n",
              "<tr><td>H2O cluster allowed cores:</td>\n",
              "<td>4</td></tr>\n",
              "<tr><td>H2O cluster status:</td>\n",
              "<td>locked, healthy</td></tr>\n",
              "<tr><td>H2O connection url:</td>\n",
              "<td>http://localhost:54321</td></tr>\n",
              "<tr><td>H2O connection proxy:</td>\n",
              "<td>{'http': None, 'https': None}</td></tr>\n",
              "<tr><td>H2O internal security:</td>\n",
              "<td>False</td></tr>\n",
              "<tr><td>H2O API Extensions:</td>\n",
              "<td>Amazon S3, XGBoost, Algos, AutoML, Core V3, TargetEncoder, Core V4</td></tr>\n",
              "<tr><td>Python version:</td>\n",
              "<td>3.6.6 final</td></tr></table></div>"
            ],
            "text/plain": [
              "--------------------------  ------------------------------------------------------------------\n",
              "H2O cluster uptime:         3 mins 36 secs\n",
              "H2O cluster timezone:       Etc/UTC\n",
              "H2O data parsing timezone:  UTC\n",
              "H2O cluster version:        3.26.0.10\n",
              "H2O cluster version age:    1 month and 21 days\n",
              "H2O cluster name:           H2O_from_python_unknownUser_8tzm01\n",
              "H2O cluster total nodes:    1\n",
              "H2O cluster free memory:    3.320 Gb\n",
              "H2O cluster total cores:    4\n",
              "H2O cluster allowed cores:  4\n",
              "H2O cluster status:         locked, healthy\n",
              "H2O connection url:         http://localhost:54321\n",
              "H2O connection proxy:       {'http': None, 'https': None}\n",
              "H2O internal security:      False\n",
              "H2O API Extensions:         Amazon S3, XGBoost, Algos, AutoML, Core V3, TargetEncoder, Core V4\n",
              "Python version:             3.6.6 final\n",
              "--------------------------  ------------------------------------------------------------------"
            ]
          },
          "metadata": {
            "tags": []
          }
        },
        {
          "output_type": "stream",
          "text": [
            "Parse progress: |█████████████████████████████████████████████████████████| 100%\n",
            "AutoML progress: |████████████████████████████████████████████████████████| 100%\n"
          ],
          "name": "stdout"
        }
      ]
    },
    {
      "cell_type": "code",
      "metadata": {
        "id": "nDdY_OkmHE93",
        "colab_type": "code",
        "outputId": "1ed12a33-a62d-4b9d-a881-e32234aa7dba",
        "colab": {}
      },
      "source": [
        "#Leaderboard\n",
        "lb=aml_init.leaderboard\n",
        "print(lb)"
      ],
      "execution_count": 0,
      "outputs": [
        {
          "output_type": "display_data",
          "data": {
            "text/html": [
              "<table>\n",
              "<thead>\n",
              "<tr><th>model_id                    </th><th style=\"text-align: right;\">     auc</th><th style=\"text-align: right;\">  logloss</th><th style=\"text-align: right;\">  mean_per_class_error</th><th style=\"text-align: right;\">    rmse</th><th style=\"text-align: right;\">      mse</th></tr>\n",
              "</thead>\n",
              "<tbody>\n",
              "<tr><td>DRF_1_AutoML_20191228_195157</td><td style=\"text-align: right;\">0.709269</td><td style=\"text-align: right;\"> 0.205704</td><td style=\"text-align: right;\">              0.399334</td><td style=\"text-align: right;\">0.226093</td><td style=\"text-align: right;\">0.0511179</td></tr>\n",
              "<tr><td>XRT_1_AutoML_20191228_195157</td><td style=\"text-align: right;\">0.70957 </td><td style=\"text-align: right;\"> 0.20709 </td><td style=\"text-align: right;\">              0.406207</td><td style=\"text-align: right;\">0.226194</td><td style=\"text-align: right;\">0.0511637</td></tr>\n",
              "</tbody>\n",
              "</table>"
            ]
          },
          "metadata": {
            "tags": []
          }
        },
        {
          "output_type": "stream",
          "text": [
            "\n"
          ],
          "name": "stdout"
        }
      ]
    },
    {
      "cell_type": "code",
      "metadata": {
        "id": "OtB3P-LSHE-A",
        "colab_type": "code",
        "outputId": "dea687bb-3dbd-4aa0-82c0-d9eeedf3744f",
        "colab": {}
      },
      "source": [
        "#Variable Importance of Leader Model\n",
        "m = h2o.get_model(lb[0,\"model_id\"])\n",
        "df_imp=m.varimp(use_pandas=True)\n",
        "df_imp.index=df_imp['variable']\n",
        "\n",
        "df_imp['scaled_importance'].sort_values().plot.barh(figsize=(15,8))\n",
        "plt.show()"
      ],
      "execution_count": 0,
      "outputs": [
        {
          "output_type": "display_data",
          "data": {
            "image/png": "[encoded data removed]",
            "text/plain": [
              "<Figure size 1080x576 with 1 Axes>"
            ]
          },
          "metadata": {
            "tags": [],
            "needs_background": "light"
          }
        }
      ]
    },
    {
      "cell_type": "code",
      "metadata": {
        "id": "zPDZNTqPHE-D",
        "colab_type": "code",
        "colab": {}
      },
      "source": [
        "#gbm\n",
        "params_GBM = {\"ntrees\" : aml2_init.leader.params['ntrees']['actual']\n",
        "    , \"max_depth\" : aml2_init.leader.params['max_depth']['actual']\n",
        "    , \"keep_cross_validation_predictions\" : aml2_init.leader.params['keep_cross_validation_predictions']['actual']\n",
        "    , \"nfolds\" : aml2_init.leader.params['nfolds']['actual']\n",
        "    , \"nbins\" : aml2_init.leader.params['nbins']['actual']\n",
        "    , \"nbins_cats\" : aml2_init.leader.params['nbins_cats']['actual']\n",
        "    , \"learn_rate\" : aml2_init.leader.params['learn_rate']['actual']\n",
        "    , \"learn_rate_annealing\" : aml2_init.leader.params['learn_rate_annealing']['actual']\n",
        "    , \"distribution\" : aml2_init.leader.params['distribution']['actual']\n",
        "    , \"sample_rate\" : aml2_init.leader.params['sample_rate']['actual']\n",
        "    , \"sample_rate_per_class\" : aml2_init.leader.params['sample_rate_per_class']['actual']\n",
        "    , \"col_sample_rate\" :aml2_init.leader.params['col_sample_rate']['actual']\n",
        "    , \"col_sample_rate_change_per_level\" : aml2_init.leader.params['col_sample_rate_change_per_level']['actual']\n",
        "    , \"col_sample_rate_per_tree\" : aml2_init.leader.params['col_sample_rate_per_tree']['actual']\n",
        "    , \"min_rows\" : aml2_init.leader.params['min_rows']['actual']\n",
        "    , \"max_abs_leafnode_pred\" : aml2_init.leader.params['max_abs_leafnode_pred']['actual']\n",
        "    , \"pred_noise_bandwidth\" : aml2_init.leader.params['pred_noise_bandwidth']['actual']\n",
        "    , \"categorical_encoding\" : aml2_init.leader.params['categorical_encoding']['actual']\n",
        "    , \"seed\": aml2_init.leader.params['seed']['actual']\n",
        "    , \"score_tree_interval\": aml2_init.leader.params['score_tree_interval']['actual']\n",
        "    , \"stopping_rounds\" :aml2_init.leader.params['stopping_rounds']['actual']\n",
        "    , \"stopping_metric\" :aml2_init.leader.params['stopping_metric']['actual']\n",
        "    , \"stopping_tolerance\" :aml2_init.leader.params['stopping_tolerance']['actual']\n",
        "    , \"min_split_improvement\" :aml2_init.leader.params['min_split_improvement']['actual']\n",
        "    , \"histogram_type\" : aml2_init.leader.params['histogram_type']['actual']\n",
        "    , \"score_each_iteration\" : aml2_init.leader.params['score_each_iteration']['actual']\n",
        "    , \"max_hit_ratio_k\" : aml2_init.leader.params['max_hit_ratio_k']['actual']\n",
        "    , \"r2_stopping\" : aml2_init.leader.params['r2_stopping']['actual']\n",
        "    , \"stopping_rounds\" : aml2_init.leader.params['stopping_rounds']['actual']\n",
        "    , \"stopping_metric\" : aml2_init.leader.params['stopping_metric']['actual']\n",
        "    , \"stopping_tolerance\" : aml2_init.leader.params['max_runtime_secs']['actual']\n",
        "    , \"build_tree_one_node\" : aml2_init.leader.params['build_tree_one_node']['actual']\n",
        "    , \"quantile_alpha\" : aml2_init.leader.params['quantile_alpha']['actual']\n",
        "    , \"tweedie_power\" : aml2_init.leader.params['tweedie_power']['actual']\n",
        "    , \"huber_alpha\" : aml2_init.leader.params['huber_alpha']['actual']\n",
        "    , \"class_sampling_factors\" : aml2_init.leader.params['class_sampling_factors']['actual']\n",
        "    , \"max_after_balance_size\" : aml2_init.leader.params['max_after_balance_size']['actual']\n",
        "    , \"nbins_top_level\" : aml2_init.leader.params['nbins_top_level']['actual']\n",
        "    , \"calibrate_model\" : aml2_init.leader.params['calibrate_model']['actual']\n",
        "    , \"custom_metric_func\" : aml2_init.leader.params['custom_metric_func']['actual']\n",
        "    , \"custom_distribution_func\" : aml2_init.leader.params['custom_distribution_func']['actual']\n",
        "    , \"export_checkpoints_dir\" : aml2_init.leader.params['export_checkpoints_dir']['actual']\n",
        "    , \"monotone_constraints\" : aml2_init.leader.params['monotone_constraints']['actual']\n",
        "    , \"check_constant_response\" : aml2_init.leader.params['check_constant_response']['actual']\n",
        "}\n",
        "\n",
        "params_GBM['seed'] = params_DRF['seed']"
      ],
      "execution_count": 0,
      "outputs": []
    },
    {
      "cell_type": "markdown",
      "metadata": {
        "id": "PTPq28-aHE-I",
        "colab_type": "text"
      },
      "source": [
        "---\n",
        "## K-Fold Cross Validation"
      ]
    },
    {
      "cell_type": "markdown",
      "metadata": {
        "id": "0Xi3i9auHE-J",
        "colab_type": "text"
      },
      "source": [
        "Below is the function definition for K-Fold cross validation for single model and ensemble model"
      ]
    },
    {
      "cell_type": "code",
      "metadata": {
        "colab_type": "code",
        "id": "w52DykTCMqC9",
        "colab": {}
      },
      "source": [
        "def cross_val(df,drop_columns,f1_threshold,params,nfolds,model='drf',is_feat_eng=False,label_not_cross_sell=False,is_binning=True,is_WoE=False,adjusted_WoE=True,is_mean_encode=True,adjusted_mean=False,is_segment=False,is_PMI=False,is_embedding=False):\n",
        "  f1_list=[]\n",
        "  #Initiate StratifiedKFold Class\n",
        "  kfold = KFold(n_splits=nfolds, shuffle=True, random_state=500)\n",
        "  #Drop Columns\n",
        "  if len(drop_columns)>0:\n",
        "    df=df.drop(drop_columns,1)\n",
        "  #begin looping\n",
        "  for train,val in kfold.split(df):\n",
        "    df_train=df.loc[train,:]\n",
        "    df_val=df.loc[val,:]\n",
        "\n",
        "    #Feature Engineering\n",
        "    if is_feat_eng:\n",
        "      if label_not_cross_sell:\n",
        "        #Creating list of customer which has number of orders more than 50\n",
        "        acc=pd.DataFrame(df_train['account_id'].value_counts())\n",
        "        top_acc_list=acc[acc.account_id>50].index.tolist()\n",
        "        #Creating list of customer which never done cross selling\n",
        "        toy=df_train.copy()\n",
        "        toy['is_cross_sell']=toy['is_cross_sell'].apply(lambda x: 1 if x=='Yes' else 0)\n",
        "        cross_sell_prop=pd.DataFrame(toy.groupby('account_id').mean()['is_cross_sell'])\n",
        "        no_cross_sell_list=cross_sell_prop[cross_sell_prop['is_cross_sell']==0].index.tolist()\n",
        "        #Creating  list of customer which has number of orders more than 50 and never done cross selling\n",
        "        not_cross_sell_account_id=df_train[(df_train['account_id'].isin(top_acc_list)) & (df_train['account_id'].isin(no_cross_sell_list))]['account_id'].unique().tolist()\n",
        "\n",
        "        df_train['label_not_cross_sell']=df_train['account_id'].apply(lambda x: 1 if x in not_cross_sell_account_id else 0)\n",
        "        df_val['label_not_cross_sell']=df_val['account_id'].apply(lambda x: 1 if x in not_cross_sell_account_id else 0)\n",
        "      if is_segment:\n",
        "        df_train,df_val=segmentation(df_train,df_val,k=4)\n",
        "      if is_PMI:\n",
        "        df_train,df_val=PMI(df_train,df_val,columns=['account_id'])\n",
        "      if is_WoE:\n",
        "        df_train,df_val=WoE(df_train,df_val,columns=['airlines_name'],target='is_cross_sell',adjusted=adjusted_WoE)\n",
        "      if is_mean_encode:\n",
        "        df_train,df_val=mean_encoding(df_train,df_val,columns=['account_id'],target='is_cross_sell',adjusted=adjusted_mean)\n",
        "      if is_binning:\n",
        "        df_train,df_val=detailed_segmentation(df_train,df_val,columns=['member_duration_days','price'],target='is_cross_sell',num_segments=5)\n",
        "      if is_embedding:\n",
        "         df_train,df_val=embedding_transform(df_train,df_val,column='order_id',target='is_cross_sell',epochs=50)\n",
        "      if 'account_id' in df_train.columns:\n",
        "        df_train,df_val=df_train.drop('account_id',1),df_val.drop('account_id',1)\n",
        "      if 'order_id' in df_train.columns:\n",
        "        df_train,df_val=df_train.drop('order_id',1),df_val.drop('order_id',1)\n",
        "      print('Done Feature Engineering!')\n",
        "    else:\n",
        "      df_train,df_val=df_train.drop(['account_id','order_id'],1),df_val.drop(['account_id','order_id'],1)\n",
        "\n",
        "    df_train_h2o = h2o.H2OFrame(df_train)\n",
        "    df_val_h2o = h2o.H2OFrame(df_val)\n",
        "    #specify the target and predictor variable\n",
        "    x=df_train.drop('is_cross_sell',1).columns.tolist()\n",
        "    y='is_cross_sell'\n",
        "\n",
        "    if model=='gbm':\n",
        "      #Initiate Model\n",
        "      model_gbm = H2OGradientBoostingEstimator(**params_GBM)\n",
        "      model_gbm.train(x = x, y = y, training_frame = df_train_h2o,validation_frame = df_val_h2o)\n",
        "      #Variable Importance Plot\n",
        "      df_imp=model_gbm.varimp(use_pandas=True)\n",
        "      df_imp.index=df_imp['variable']\n",
        "      df_imp['scaled_importance'].sort_values().plot.barh(figsize=(15,8))\n",
        "      plt.show()\n",
        "      #Data Validation Prediction\n",
        "      prediction_prob = model_gbm.predict(df_val_h2o)[:,2]\n",
        "      prediction_prob=prediction_prob.as_data_frame()['Yes']\n",
        "    elif model=='drf':\n",
        "      #Initiate Model\n",
        "      model_drf = H2ORandomForestEstimator(**params_DRF)\n",
        "      model_drf.train(x = x, y = y, training_frame = df_train_h2o,validation_frame = df_val_h2o)\n",
        "      #Variable Importance Plot\n",
        "      df_imp=model_drf.varimp(use_pandas=True)\n",
        "      df_imp.index=df_imp['variable']\n",
        "      df_imp['scaled_importance'].sort_values().plot.barh(figsize=(15,8))\n",
        "      plt.show()\n",
        "      prediction_prob = model_drf.predict(df_val_h2o)[:,2]\n",
        "      prediction_prob=prediction_prob.as_data_frame()['Yes']\n",
        "    #Test various number of threshold for classifying \"Yes\" or \"No\"\n",
        "    for k in f1_threshold :\n",
        "        prediction=prediction_prob.apply(lambda x: \"Yes\" if x>k else \"No\")\n",
        "        # calculate the new F1\n",
        "        precision=confusion_matrix(df_val['is_cross_sell'],prediction)[1][1]/(confusion_matrix(df_val['is_cross_sell'],prediction)[1][1]+confusion_matrix(df_val['is_cross_sell'],prediction)[0][1])\n",
        "        recall=confusion_matrix(df_val['is_cross_sell'],prediction)[1][1]/(confusion_matrix(df_val['is_cross_sell'],prediction)[1][1]+confusion_matrix(df_val['is_cross_sell'],prediction)[1][0])\n",
        "        f1=2*precision*recall/(precision+recall)\n",
        "#         print('Threshold : {}, F1 Score: {}'.format(k,f1))\n",
        "        f1_list.append(f1)\n",
        "  hasil = pd.DataFrame(np.array(f1_list).reshape(5,len(f1_threshold)).transpose())\n",
        "  hasil.index = f1_threshold\n",
        "  hasil['mean'] = hasil.mean(axis=1)\n",
        "  hasil['std']=hasil.std(axis=1)\n",
        "  return hasil"
      ],
      "execution_count": 0,
      "outputs": []
    },
    {
      "cell_type": "code",
      "metadata": {
        "colab_type": "code",
        "id": "FcWvWonHv-PJ",
        "colab": {}
      },
      "source": [
        "def cross_val_ensemble(df,drop_columns,f1_threshold,nfolds,model1='DRF',model2='GBM',is_feat_eng=False,label_not_cross_sell=False,is_binning=True,is_WoE=False,adjusted_WoE=False,is_mean_encode=True,adjusted_mean=False,is_segment=False):\n",
        "  f1_list=[]\n",
        "  #Initiate StratifiedKFold Class\n",
        "  kfold = KFold(n_splits=nfolds, shuffle=True, random_state=500)\n",
        "  #Drop Columns\n",
        "  if len(drop_columns)>0:\n",
        "    df=df.drop(drop_columns,1)\n",
        "  #begin looping\n",
        "  for train,val in kfold.split(df):\n",
        "    df_train=df.loc[train,:]\n",
        "    df_val=df.loc[val,:]\n",
        "\n",
        "    #Feature Engineering\n",
        "    if is_feat_eng:\n",
        "      if label_not_cross_sell:\n",
        "        #Creating list of customer which has number of orders more than 50\n",
        "        acc=pd.DataFrame(df_train['account_id'].value_counts())\n",
        "        top_acc_list=acc[acc.account_id>50].index.tolist()\n",
        "        #Creating list of customer which never done cross selling\n",
        "        toy=df_train.copy()\n",
        "        toy['is_cross_sell']=toy['is_cross_sell'].apply(lambda x: 1 if x=='Yes' else 0)\n",
        "        cross_sell_prop=pd.DataFrame(toy.groupby('account_id').mean()['is_cross_sell'])\n",
        "        no_cross_sell_list=cross_sell_prop[cross_sell_prop['is_cross_sell']==0].index.tolist()\n",
        "        #Creating  list of customer which has number of orders more than 50 and never done cross selling\n",
        "        not_cross_sell_account_id=df_train[(df_train['account_id'].isin(top_acc_list)) & (df_train['account_id'].isin(no_cross_sell_list))]['account_id'].unique().tolist()\n",
        "\n",
        "        df_train['label_not_cross_sell']=df_train['account_id'].apply(lambda x: 1 if x in not_cross_sell_account_id else 0)\n",
        "        df_val['label_not_cross_sell']=df_val['account_id'].apply(lambda x: 1 if x in not_cross_sell_account_id else 0)\n",
        "      if is_segment:\n",
        "        df_train,df_val=segmentation(df_train,df_val,k=4)\n",
        "      if is_WoE:\n",
        "        df_train,df_val=WoE(df_train,df_val,columns=['airlines_name'],target='is_cross_sell',adjusted=adjusted_WoE)\n",
        "      if is_mean_encode:\n",
        "        df_train,df_val=mean_encoding(df_train,df_val,columns=['account_id'],target='is_cross_sell',adjusted=adjusted_mean)\n",
        "      if is_binning:\n",
        "        df_train,df_val=detailed_segmentation(df_train,df_val,columns=['member_duration_days','price'],target='is_cross_sell',num_segments=5)\n",
        "      if 'account_id' in df_train.columns:\n",
        "        df_train,df_val=df_train.drop('account_id',1),df_val.drop('account_id',1)\n",
        "      if 'order_id' in df_train.columns:\n",
        "        df_train,df_val=df_train.drop('order_id',1),df_val.drop('order_id',1)\n",
        "      print('Done Feature Engineering!')\n",
        "    else:\n",
        "      df_train,df_val=df_train.drop('account_id',1),df_val.drop('account_id',1)\n",
        "\n",
        "    df_train_h2o = h2o.H2OFrame(df_train)\n",
        "    df_val_h2o = h2o.H2OFrame(df_val)\n",
        "    #specify the target and predictor variable\n",
        "    x=df_train.drop('is_cross_sell',1).columns.tolist()\n",
        "    y='is_cross_sell'\n",
        "\n",
        "    #Initiate Model\n",
        "    # model_GBM = H2OXGBoostEstimator(**params)\n",
        "    if(model1=='DRF'):\n",
        "      model_1 = H2ORandomForestEstimator(**params_DRF)\n",
        "    elif(model1=='GBM'):\n",
        "      model_1 = H2OGradientBoostingEstimator(**params_GBM)\n",
        "    else :\n",
        "      raise ValueError('Model tidak terdaftar')\n",
        "\n",
        "    if(model2=='DRF'):\n",
        "      model_2 = H2ORandomForestEstimator(**params_DRF)\n",
        "    elif(model2=='GBM'):\n",
        "      model_2 = H2OGradientBoostingEstimator(**params_GBM)\n",
        "    else :\n",
        "      raise ValueError('Model tidak terdaftar') \n",
        "    list_models=[model_1, model_2]\n",
        "    \n",
        "    model_1.train(x = x, y = y, training_frame = df_train_h2o,validation_frame = df_val_h2o)\n",
        "    model_2.train(x = x, y = y, training_frame = df_train_h2o,validation_frame = df_val_h2o)\n",
        "    \n",
        "    ensemble = H2OStackedEnsembleEstimator(base_models=list_models)\n",
        "    ensemble.train(x = x, y = y, training_frame = df_train_h2o,validation_frame = df_val_h2o)\n",
        "\n",
        "    prediction = ensemble.predict(df_val_h2o)[:,2]\n",
        "    prediction_prob=prediction.as_data_frame()['Yes']\n",
        "    for k in f1_threshold :\n",
        "        prediction=prediction_prob.apply(lambda x: \"Yes\" if x>k else \"No\")\n",
        "        # calculate the new F1\n",
        "        precision=confusion_matrix(df_val['is_cross_sell'],prediction)[1][1]/(confusion_matrix(df_val['is_cross_sell'],prediction)[1][1]+confusion_matrix(df_val['is_cross_sell'],prediction)[0][1])\n",
        "        recall=confusion_matrix(df_val['is_cross_sell'],prediction)[1][1]/(confusion_matrix(df_val['is_cross_sell'],prediction)[1][1]+confusion_matrix(df_val['is_cross_sell'],prediction)[1][0])\n",
        "        f1=2*precision*recall/(precision+recall)\n",
        "#         print('Threshold : {}, F1 Score: {}'.format(k,f1))\n",
        "        f1_list.append(f1)\n",
        "  hasil = pd.DataFrame(np.array(f1_list).reshape(5,len(f1_threshold)).transpose())\n",
        "  hasil.index = f1_threshold\n",
        "  hasil['mean'] = hasil.mean(axis=1)\n",
        "  hasil['std']=hasil.std(axis=1)\n",
        "  return hasil"
      ],
      "execution_count": 0,
      "outputs": []
    },
    {
      "cell_type": "markdown",
      "metadata": {
        "colab_type": "text",
        "id": "MZvxkkfKt6W1"
      },
      "source": [
        "## DRF Tuning"
      ]
    },
    {
      "cell_type": "markdown",
      "metadata": {
        "id": "cHqZx-YpHE-Q",
        "colab_type": "text"
      },
      "source": [
        "Finding the best threshold so we got the highest F1-Score"
      ]
    },
    {
      "cell_type": "code",
      "metadata": {
        "colab_type": "code",
        "id": "tSPVLMlrnvhU",
        "outputId": "8c99eb36-67c0-4d91-864e-aaada2ec9cd3",
        "colab": {
          "base_uri": "https://localhost:8080/",
          "height": 1000
        }
      },
      "source": [
        "tune_df=cross_val(df_raw,drop_columns=[x for x in drop_columns if (x!='account_id') & (x!='is_cross_sell') & (x!='order_id') & (x!='cnt_trx') & (x!='airlines_name')],\n",
        "                  f1_threshold=np.arange(0.0,0.45,0.005),params=params_DRF,nfolds=5,model='drf',is_feat_eng=True,is_binning=False,is_WoE=True,adjusted_WoE=True,\n",
        "                  is_mean_encode=True,adjusted_mean=False,is_segment=False,is_PMI=False,is_embedding=False)\n",
        "tune_df.sort_values(by='mean',ascending=False)"
      ],
      "execution_count": 0,
      "outputs": [
        {
          "output_type": "stream",
          "text": [
            "Done Feature Engineering!\n",
            "Parse progress: |█████████████████████████████████████████████████████████| 100%\n",
            "Parse progress: |█████████████████████████████████████████████████████████| 100%\n",
            "drf Model Build progress: |███████████████████████████████████████████████| 100%\n"
          ],
          "name": "stdout"
        },
        {
          "output_type": "display_data",
          "data": {
            "image/png": "[encoded data removed]",
            "text/plain": [
              "<Figure size 1080x576 with 1 Axes>"
            ]
          },
          "metadata": {
            "tags": [],
            "needs_background": "light"
          }
        },
        {
          "output_type": "stream",
          "text": [
            "drf prediction progress: |████████████████████████████████████████████████| 100%\n",
            "Done Feature Engineering!\n",
            "Parse progress: |█████████████████████████████████████████████████████████| 100%\n",
            "Parse progress: |█████████████████████████████████████████████████████████| 100%\n",
            "drf Model Build progress: |███████████████████████████████████████████████| 100%\n"
          ],
          "name": "stdout"
        },
        {
          "output_type": "display_data",
          "data": {
            "image/png": "[encoded data removed]",
            "text/plain": [
              "<Figure size 1080x576 with 1 Axes>"
            ]
          },
          "metadata": {
            "tags": [],
            "needs_background": "light"
          }
        },
        {
          "output_type": "stream",
          "text": [
            "drf prediction progress: |████████████████████████████████████████████████| 100%\n",
            "Done Feature Engineering!\n",
            "Parse progress: |█████████████████████████████████████████████████████████| 100%\n",
            "Parse progress: |█████████████████████████████████████████████████████████| 100%\n",
            "drf Model Build progress: |███████████████████████████████████████████████| 100%\n"
          ],
          "name": "stdout"
        },
        {
          "output_type": "display_data",
          "data": {
            "image/png": "[encoded data removed]",
            "text/plain": [
              "<Figure size 1080x576 with 1 Axes>"
            ]
          },
          "metadata": {
            "tags": [],
            "needs_background": "light"
          }
        },
        {
          "output_type": "stream",
          "text": [
            "drf prediction progress: |████████████████████████████████████████████████| 100%\n",
            "Done Feature Engineering!\n",
            "Parse progress: |█████████████████████████████████████████████████████████| 100%\n",
            "Parse progress: |█████████████████████████████████████████████████████████| 100%\n",
            "drf Model Build progress: |███████████████████████████████████████████████| 100%\n"
          ],
          "name": "stdout"
        },
        {
          "output_type": "display_data",
          "data": {
            "image/png": "[encoded data removed]",
            "text/plain": [
              "<Figure size 1080x576 with 1 Axes>"
            ]
          },
          "metadata": {
            "tags": [],
            "needs_background": "light"
          }
        },
        {
          "output_type": "stream",
          "text": [
            "drf prediction progress: |████████████████████████████████████████████████| 100%\n",
            "Done Feature Engineering!\n",
            "Parse progress: |█████████████████████████████████████████████████████████| 100%\n",
            "Parse progress: |█████████████████████████████████████████████████████████| 100%\n",
            "drf Model Build progress: |███████████████████████████████████████████████| 100%\n"
          ],
          "name": "stdout"
        },
        {
          "output_type": "display_data",
          "data": {
            "image/png": "[encoded data removed]",
            "text/plain": [
              "<Figure size 1080x576 with 1 Axes>"
            ]
          },
          "metadata": {
            "tags": [],
            "needs_background": "light"
          }
        },
        {
          "output_type": "stream",
          "text": [
            "drf prediction progress: |████████████████████████████████████████████████| 100%\n"
          ],
          "name": "stdout"
        },
        {
          "output_type": "execute_result",
          "data": {
            "text/html": [
              "<div>\n",
              "<style scoped>\n",
              "    .dataframe tbody tr th:only-of-type {\n",
              "        vertical-align: middle;\n",
              "    }\n",
              "\n",
              "    .dataframe tbody tr th {\n",
              "        vertical-align: top;\n",
              "    }\n",
              "\n",
              "    .dataframe thead th {\n",
              "        text-align: right;\n",
              "    }\n",
              "</style>\n",
              "<table border=\"1\" class=\"dataframe\">\n",
              "  <thead>\n",
              "    <tr style=\"text-align: right;\">\n",
              "      <th></th>\n",
              "      <th>0</th>\n",
              "      <th>1</th>\n",
              "      <th>2</th>\n",
              "      <th>3</th>\n",
              "      <th>4</th>\n",
              "      <th>mean</th>\n",
              "      <th>std</th>\n",
              "    </tr>\n",
              "  </thead>\n",
              "  <tbody>\n",
              "    <tr>\n",
              "      <th>0.285</th>\n",
              "      <td>0.435625</td>\n",
              "      <td>0.414667</td>\n",
              "      <td>0.426740</td>\n",
              "      <td>0.425866</td>\n",
              "      <td>0.431539</td>\n",
              "      <td>0.426888</td>\n",
              "      <td>0.007048</td>\n",
              "    </tr>\n",
              "    <tr>\n",
              "      <th>0.270</th>\n",
              "      <td>0.434902</td>\n",
              "      <td>0.413483</td>\n",
              "      <td>0.425976</td>\n",
              "      <td>0.426740</td>\n",
              "      <td>0.431978</td>\n",
              "      <td>0.426616</td>\n",
              "      <td>0.007353</td>\n",
              "    </tr>\n",
              "    <tr>\n",
              "      <th>0.295</th>\n",
              "      <td>0.434863</td>\n",
              "      <td>0.415490</td>\n",
              "      <td>0.427650</td>\n",
              "      <td>0.425453</td>\n",
              "      <td>0.429180</td>\n",
              "      <td>0.426527</td>\n",
              "      <td>0.006337</td>\n",
              "    </tr>\n",
              "    <tr>\n",
              "      <th>0.280</th>\n",
              "      <td>0.435343</td>\n",
              "      <td>0.414447</td>\n",
              "      <td>0.425765</td>\n",
              "      <td>0.425610</td>\n",
              "      <td>0.431465</td>\n",
              "      <td>0.426526</td>\n",
              "      <td>0.007063</td>\n",
              "    </tr>\n",
              "    <tr>\n",
              "      <th>0.290</th>\n",
              "      <td>0.434381</td>\n",
              "      <td>0.414169</td>\n",
              "      <td>0.426997</td>\n",
              "      <td>0.426123</td>\n",
              "      <td>0.430667</td>\n",
              "      <td>0.426467</td>\n",
              "      <td>0.006810</td>\n",
              "    </tr>\n",
              "    <tr>\n",
              "      <th>...</th>\n",
              "      <td>...</td>\n",
              "      <td>...</td>\n",
              "      <td>...</td>\n",
              "      <td>...</td>\n",
              "      <td>...</td>\n",
              "      <td>...</td>\n",
              "      <td>...</td>\n",
              "    </tr>\n",
              "    <tr>\n",
              "      <th>0.020</th>\n",
              "      <td>0.161999</td>\n",
              "      <td>0.175869</td>\n",
              "      <td>0.173567</td>\n",
              "      <td>0.166653</td>\n",
              "      <td>0.164222</td>\n",
              "      <td>0.168462</td>\n",
              "      <td>0.005366</td>\n",
              "    </tr>\n",
              "    <tr>\n",
              "      <th>0.015</th>\n",
              "      <td>0.162457</td>\n",
              "      <td>0.175735</td>\n",
              "      <td>0.173409</td>\n",
              "      <td>0.166444</td>\n",
              "      <td>0.164147</td>\n",
              "      <td>0.168438</td>\n",
              "      <td>0.005218</td>\n",
              "    </tr>\n",
              "    <tr>\n",
              "      <th>0.010</th>\n",
              "      <td>0.160664</td>\n",
              "      <td>0.174537</td>\n",
              "      <td>0.172941</td>\n",
              "      <td>0.164846</td>\n",
              "      <td>0.163939</td>\n",
              "      <td>0.167385</td>\n",
              "      <td>0.005395</td>\n",
              "    </tr>\n",
              "    <tr>\n",
              "      <th>0.005</th>\n",
              "      <td>0.160202</td>\n",
              "      <td>0.173884</td>\n",
              "      <td>0.172194</td>\n",
              "      <td>0.163232</td>\n",
              "      <td>0.163736</td>\n",
              "      <td>0.166650</td>\n",
              "      <td>0.005382</td>\n",
              "    </tr>\n",
              "    <tr>\n",
              "      <th>0.000</th>\n",
              "      <td>0.154413</td>\n",
              "      <td>0.163811</td>\n",
              "      <td>0.163088</td>\n",
              "      <td>0.150867</td>\n",
              "      <td>0.151729</td>\n",
              "      <td>0.156782</td>\n",
              "      <td>0.005573</td>\n",
              "    </tr>\n",
              "  </tbody>\n",
              "</table>\n",
              "<p>90 rows × 7 columns</p>\n",
              "</div>"
            ],
            "text/plain": [
              "              0         1         2         3         4      mean       std\n",
              "0.285  0.435625  0.414667  0.426740  0.425866  0.431539  0.426888  0.007048\n",
              "0.270  0.434902  0.413483  0.425976  0.426740  0.431978  0.426616  0.007353\n",
              "0.295  0.434863  0.415490  0.427650  0.425453  0.429180  0.426527  0.006337\n",
              "0.280  0.435343  0.414447  0.425765  0.425610  0.431465  0.426526  0.007063\n",
              "0.290  0.434381  0.414169  0.426997  0.426123  0.430667  0.426467  0.006810\n",
              "...         ...       ...       ...       ...       ...       ...       ...\n",
              "0.020  0.161999  0.175869  0.173567  0.166653  0.164222  0.168462  0.005366\n",
              "0.015  0.162457  0.175735  0.173409  0.166444  0.164147  0.168438  0.005218\n",
              "0.010  0.160664  0.174537  0.172941  0.164846  0.163939  0.167385  0.005395\n",
              "0.005  0.160202  0.173884  0.172194  0.163232  0.163736  0.166650  0.005382\n",
              "0.000  0.154413  0.163811  0.163088  0.150867  0.151729  0.156782  0.005573\n",
              "\n",
              "[90 rows x 7 columns]"
            ]
          },
          "metadata": {
            "tags": []
          },
          "execution_count": 56
        }
      ]
    },
    {
      "cell_type": "code",
      "metadata": {
        "id": "wXIiMka_HE-T",
        "colab_type": "code",
        "colab": {}
      },
      "source": [
        "best_f1_DRF=tune_df.sort_values(by='mean',ascending=False).index[0]"
      ],
      "execution_count": 0,
      "outputs": []
    },
    {
      "cell_type": "markdown",
      "metadata": {
        "id": "VYFIm7IJHE-X",
        "colab_type": "text"
      },
      "source": [
        "# GBM Tuning"
      ]
    },
    {
      "cell_type": "markdown",
      "metadata": {
        "id": "SIhPX8lvHE-Y",
        "colab_type": "text"
      },
      "source": [
        "Finding the best threshold so we got the highest F1-Score"
      ]
    },
    {
      "cell_type": "code",
      "metadata": {
        "id": "pCL_KTbXHE-Z",
        "colab_type": "code",
        "outputId": "dc0e056a-e532-4a5f-bb4a-f823458567ad",
        "colab": {}
      },
      "source": [
        "tune_df=cross_val(df_raw,drop_columns=[x for x in drop_columns if (x!='account_id') & (x!='is_cross_sell') & (x!='order_id') & (x!='cnt_trx') & (x!='airlines_name')],\n",
        "                  f1_threshold=np.arange(0.0,0.45,0.005),params=params_GBM,nfolds=5,model='gbm',is_feat_eng=True,is_binning=False,is_WoE=True,adjusted_WoE=True,\n",
        "                  is_mean_encode=True,adjusted_mean=False,is_segment=False,is_PMI=False,is_embedding=False)\n",
        "tune_df.sort_values(by='mean',ascending=False)"
      ],
      "execution_count": 0,
      "outputs": [
        {
          "output_type": "stream",
          "text": [
            "Done Feature Engineering!\n",
            "Parse progress: |█████████████████████████████████████████████████████████| 100%\n",
            "Parse progress: |█████████████████████████████████████████████████████████| 100%\n",
            "gbm Model Build progress: |███████████████████████████████████████████████| 100%\n"
          ],
          "name": "stdout"
        },
        {
          "output_type": "display_data",
          "data": {
            "image/png": "[encoded data removed]",
            "text/plain": [
              "<Figure size 1080x576 with 1 Axes>"
            ]
          },
          "metadata": {
            "tags": [],
            "needs_background": "light"
          }
        },
        {
          "output_type": "stream",
          "text": [
            "gbm prediction progress: |████████████████████████████████████████████████| 100%\n",
            "Done Feature Engineering!\n",
            "Parse progress: |█████████████████████████████████████████████████████████| 100%\n",
            "Parse progress: |█████████████████████████████████████████████████████████| 100%\n",
            "gbm Model Build progress: |███████████████████████████████████████████████| 100%\n"
          ],
          "name": "stdout"
        },
        {
          "output_type": "display_data",
          "data": {
            "image/png": "[encoded data removed]",
            "text/plain": [
              "<Figure size 1080x576 with 1 Axes>"
            ]
          },
          "metadata": {
            "tags": [],
            "needs_background": "light"
          }
        },
        {
          "output_type": "stream",
          "text": [
            "gbm prediction progress: |████████████████████████████████████████████████| 100%\n",
            "Done Feature Engineering!\n",
            "Parse progress: |█████████████████████████████████████████████████████████| 100%\n",
            "Parse progress: |█████████████████████████████████████████████████████████| 100%\n",
            "gbm Model Build progress: |███████████████████████████████████████████████| 100%\n"
          ],
          "name": "stdout"
        },
        {
          "output_type": "display_data",
          "data": {
            "image/png": "[encoded data removed]",
            "text/plain": [
              "<Figure size 1080x576 with 1 Axes>"
            ]
          },
          "metadata": {
            "tags": [],
            "needs_background": "light"
          }
        },
        {
          "output_type": "stream",
          "text": [
            "gbm prediction progress: |████████████████████████████████████████████████| 100%\n",
            "Done Feature Engineering!\n",
            "Parse progress: |█████████████████████████████████████████████████████████| 100%\n",
            "Parse progress: |█████████████████████████████████████████████████████████| 100%\n",
            "gbm Model Build progress: |███████████████████████████████████████████████| 100%\n"
          ],
          "name": "stdout"
        },
        {
          "output_type": "display_data",
          "data": {
            "image/png": "[encoded data removed]",
            "text/plain": [
              "<Figure size 1080x576 with 1 Axes>"
            ]
          },
          "metadata": {
            "tags": [],
            "needs_background": "light"
          }
        },
        {
          "output_type": "stream",
          "text": [
            "gbm prediction progress: |████████████████████████████████████████████████| 100%\n",
            "Done Feature Engineering!\n",
            "Parse progress: |█████████████████████████████████████████████████████████| 100%\n",
            "Parse progress: |█████████████████████████████████████████████████████████| 100%\n",
            "gbm Model Build progress: |███████████████████████████████████████████████| 100%\n"
          ],
          "name": "stdout"
        },
        {
          "output_type": "display_data",
          "data": {
            "image/png": "[encoded data removed]",
            "text/plain": [
              "<Figure size 1080x576 with 1 Axes>"
            ]
          },
          "metadata": {
            "tags": [],
            "needs_background": "light"
          }
        },
        {
          "output_type": "stream",
          "text": [
            "gbm prediction progress: |████████████████████████████████████████████████| 100%\n"
          ],
          "name": "stdout"
        },
        {
          "output_type": "execute_result",
          "data": {
            "text/html": [
              "<div>\n",
              "<style scoped>\n",
              "    .dataframe tbody tr th:only-of-type {\n",
              "        vertical-align: middle;\n",
              "    }\n",
              "\n",
              "    .dataframe tbody tr th {\n",
              "        vertical-align: top;\n",
              "    }\n",
              "\n",
              "    .dataframe thead th {\n",
              "        text-align: right;\n",
              "    }\n",
              "</style>\n",
              "<table border=\"1\" class=\"dataframe\">\n",
              "  <thead>\n",
              "    <tr style=\"text-align: right;\">\n",
              "      <th></th>\n",
              "      <th>0</th>\n",
              "      <th>1</th>\n",
              "      <th>2</th>\n",
              "      <th>3</th>\n",
              "      <th>4</th>\n",
              "      <th>mean</th>\n",
              "      <th>std</th>\n",
              "    </tr>\n",
              "  </thead>\n",
              "  <tbody>\n",
              "    <tr>\n",
              "      <th>0.180</th>\n",
              "      <td>0.438444</td>\n",
              "      <td>0.413855</td>\n",
              "      <td>0.409393</td>\n",
              "      <td>0.425139</td>\n",
              "      <td>0.430297</td>\n",
              "      <td>0.423426</td>\n",
              "      <td>0.010623</td>\n",
              "    </tr>\n",
              "    <tr>\n",
              "      <th>0.175</th>\n",
              "      <td>0.438156</td>\n",
              "      <td>0.413638</td>\n",
              "      <td>0.408074</td>\n",
              "      <td>0.425610</td>\n",
              "      <td>0.431210</td>\n",
              "      <td>0.423338</td>\n",
              "      <td>0.011080</td>\n",
              "    </tr>\n",
              "    <tr>\n",
              "      <th>0.215</th>\n",
              "      <td>0.435469</td>\n",
              "      <td>0.413382</td>\n",
              "      <td>0.413919</td>\n",
              "      <td>0.426956</td>\n",
              "      <td>0.426527</td>\n",
              "      <td>0.423251</td>\n",
              "      <td>0.008464</td>\n",
              "    </tr>\n",
              "    <tr>\n",
              "      <th>0.210</th>\n",
              "      <td>0.435589</td>\n",
              "      <td>0.412437</td>\n",
              "      <td>0.414423</td>\n",
              "      <td>0.427968</td>\n",
              "      <td>0.425653</td>\n",
              "      <td>0.423214</td>\n",
              "      <td>0.008662</td>\n",
              "    </tr>\n",
              "    <tr>\n",
              "      <th>0.225</th>\n",
              "      <td>0.435107</td>\n",
              "      <td>0.412903</td>\n",
              "      <td>0.415704</td>\n",
              "      <td>0.426540</td>\n",
              "      <td>0.425695</td>\n",
              "      <td>0.423190</td>\n",
              "      <td>0.008017</td>\n",
              "    </tr>\n",
              "    <tr>\n",
              "      <th>...</th>\n",
              "      <td>...</td>\n",
              "      <td>...</td>\n",
              "      <td>...</td>\n",
              "      <td>...</td>\n",
              "      <td>...</td>\n",
              "      <td>...</td>\n",
              "      <td>...</td>\n",
              "    </tr>\n",
              "    <tr>\n",
              "      <th>0.020</th>\n",
              "      <td>0.206025</td>\n",
              "      <td>0.280270</td>\n",
              "      <td>0.224913</td>\n",
              "      <td>0.222151</td>\n",
              "      <td>0.190328</td>\n",
              "      <td>0.224737</td>\n",
              "      <td>0.030413</td>\n",
              "    </tr>\n",
              "    <tr>\n",
              "      <th>0.015</th>\n",
              "      <td>0.187711</td>\n",
              "      <td>0.251840</td>\n",
              "      <td>0.205190</td>\n",
              "      <td>0.198044</td>\n",
              "      <td>0.174695</td>\n",
              "      <td>0.203496</td>\n",
              "      <td>0.026262</td>\n",
              "    </tr>\n",
              "    <tr>\n",
              "      <th>0.010</th>\n",
              "      <td>0.168404</td>\n",
              "      <td>0.214540</td>\n",
              "      <td>0.185296</td>\n",
              "      <td>0.171950</td>\n",
              "      <td>0.158859</td>\n",
              "      <td>0.179810</td>\n",
              "      <td>0.019324</td>\n",
              "    </tr>\n",
              "    <tr>\n",
              "      <th>0.005</th>\n",
              "      <td>0.156899</td>\n",
              "      <td>0.167840</td>\n",
              "      <td>0.161650</td>\n",
              "      <td>0.158586</td>\n",
              "      <td>0.151825</td>\n",
              "      <td>0.159360</td>\n",
              "      <td>0.005303</td>\n",
              "    </tr>\n",
              "    <tr>\n",
              "      <th>0.000</th>\n",
              "      <td>0.110910</td>\n",
              "      <td>0.113242</td>\n",
              "      <td>0.112392</td>\n",
              "      <td>0.110681</td>\n",
              "      <td>0.108732</td>\n",
              "      <td>0.111191</td>\n",
              "      <td>0.001551</td>\n",
              "    </tr>\n",
              "  </tbody>\n",
              "</table>\n",
              "<p>90 rows × 7 columns</p>\n",
              "</div>"
            ],
            "text/plain": [
              "              0         1         2         3         4      mean       std\n",
              "0.180  0.438444  0.413855  0.409393  0.425139  0.430297  0.423426  0.010623\n",
              "0.175  0.438156  0.413638  0.408074  0.425610  0.431210  0.423338  0.011080\n",
              "0.215  0.435469  0.413382  0.413919  0.426956  0.426527  0.423251  0.008464\n",
              "0.210  0.435589  0.412437  0.414423  0.427968  0.425653  0.423214  0.008662\n",
              "0.225  0.435107  0.412903  0.415704  0.426540  0.425695  0.423190  0.008017\n",
              "...         ...       ...       ...       ...       ...       ...       ...\n",
              "0.020  0.206025  0.280270  0.224913  0.222151  0.190328  0.224737  0.030413\n",
              "0.015  0.187711  0.251840  0.205190  0.198044  0.174695  0.203496  0.026262\n",
              "0.010  0.168404  0.214540  0.185296  0.171950  0.158859  0.179810  0.019324\n",
              "0.005  0.156899  0.167840  0.161650  0.158586  0.151825  0.159360  0.005303\n",
              "0.000  0.110910  0.113242  0.112392  0.110681  0.108732  0.111191  0.001551\n",
              "\n",
              "[90 rows x 7 columns]"
            ]
          },
          "metadata": {
            "tags": []
          },
          "execution_count": 58
        }
      ]
    },
    {
      "cell_type": "code",
      "metadata": {
        "id": "oT0EOn9hHE-d",
        "colab_type": "code",
        "colab": {}
      },
      "source": [
        "best_f1_GBM=tune_df.sort_values(by='mean',ascending=False).index[0]"
      ],
      "execution_count": 0,
      "outputs": []
    },
    {
      "cell_type": "markdown",
      "metadata": {
        "id": "kXQ4nm44HE-f",
        "colab_type": "text"
      },
      "source": [
        "# Ensemble Tuning"
      ]
    },
    {
      "cell_type": "markdown",
      "metadata": {
        "id": "TFjJvvo9HE-g",
        "colab_type": "text"
      },
      "source": [
        "Finding the best threshold so we got the highest F1-Score using ensemble model"
      ]
    },
    {
      "cell_type": "code",
      "metadata": {
        "id": "fMGSuU6SHE-i",
        "colab_type": "code",
        "outputId": "e0712fe8-0bb0-44a3-c069-2b7f8e67dda6",
        "colab": {}
      },
      "source": [
        "hasil_ensemble = cross_val_ensemble(df,drop_columns=[x for x in drop_columns if (x!='account_id') & (x!='is_cross_sell') & (x!='order_id') & (x!='cnt_trx') & (x!='airlines_name')],\n",
        "                                    model1='DRF',model2='GBM',f1_threshold=np.arange(0,0.45,0.005),\n",
        "                                    nfolds=5,is_feat_eng=True,is_binning=False,is_WoE=True,adjusted_WoE=True,\n",
        "                                    is_mean_encode=True,adjusted_mean=False,is_segment=False)\n",
        "hasil_ensemble.sort_values(by='mean',ascending=False)"
      ],
      "execution_count": 0,
      "outputs": [
        {
          "output_type": "stream",
          "text": [
            "Done Feature Engineering!\n",
            "Parse progress: |█████████████████████████████████████████████████████████| 100%\n",
            "Parse progress: |█████████████████████████████████████████████████████████| 100%\n",
            "drf Model Build progress: |███████████████████████████████████████████████| 100%\n",
            "gbm Model Build progress: |███████████████████████████████████████████████| 100%\n",
            "stackedensemble Model Build progress: |███████████████████████████████████| 100%\n",
            "stackedensemble prediction progress: |████████████████████████████████████| 100%\n",
            "Done Feature Engineering!\n",
            "Parse progress: |█████████████████████████████████████████████████████████| 100%\n",
            "Parse progress: |█████████████████████████████████████████████████████████| 100%\n",
            "drf Model Build progress: |███████████████████████████████████████████████| 100%\n",
            "gbm Model Build progress: |███████████████████████████████████████████████| 100%\n",
            "stackedensemble Model Build progress: |███████████████████████████████████| 100%\n",
            "stackedensemble prediction progress: |████████████████████████████████████| 100%\n",
            "Done Feature Engineering!\n",
            "Parse progress: |█████████████████████████████████████████████████████████| 100%\n",
            "Parse progress: |█████████████████████████████████████████████████████████| 100%\n",
            "drf Model Build progress: |███████████████████████████████████████████████| 100%\n",
            "gbm Model Build progress: |███████████████████████████████████████████████| 100%\n",
            "stackedensemble Model Build progress: |███████████████████████████████████| 100%\n",
            "stackedensemble prediction progress: |████████████████████████████████████| 100%\n",
            "Done Feature Engineering!\n",
            "Parse progress: |█████████████████████████████████████████████████████████| 100%\n",
            "Parse progress: |█████████████████████████████████████████████████████████| 100%\n",
            "drf Model Build progress: |███████████████████████████████████████████████| 100%\n",
            "gbm Model Build progress: |███████████████████████████████████████████████| 100%\n",
            "stackedensemble Model Build progress: |███████████████████████████████████| 100%\n",
            "stackedensemble prediction progress: |████████████████████████████████████| 100%\n",
            "Done Feature Engineering!\n",
            "Parse progress: |█████████████████████████████████████████████████████████| 100%\n",
            "Parse progress: |█████████████████████████████████████████████████████████| 100%\n",
            "drf Model Build progress: |███████████████████████████████████████████████| 100%\n",
            "gbm Model Build progress: |███████████████████████████████████████████████| 100%\n",
            "stackedensemble Model Build progress: |███████████████████████████████████| 100%\n",
            "stackedensemble prediction progress: |████████████████████████████████████| 100%\n"
          ],
          "name": "stdout"
        },
        {
          "output_type": "execute_result",
          "data": {
            "text/html": [
              "<div>\n",
              "<style scoped>\n",
              "    .dataframe tbody tr th:only-of-type {\n",
              "        vertical-align: middle;\n",
              "    }\n",
              "\n",
              "    .dataframe tbody tr th {\n",
              "        vertical-align: top;\n",
              "    }\n",
              "\n",
              "    .dataframe thead th {\n",
              "        text-align: right;\n",
              "    }\n",
              "</style>\n",
              "<table border=\"1\" class=\"dataframe\">\n",
              "  <thead>\n",
              "    <tr style=\"text-align: right;\">\n",
              "      <th></th>\n",
              "      <th>0</th>\n",
              "      <th>1</th>\n",
              "      <th>2</th>\n",
              "      <th>3</th>\n",
              "      <th>4</th>\n",
              "      <th>mean</th>\n",
              "      <th>std</th>\n",
              "    </tr>\n",
              "  </thead>\n",
              "  <tbody>\n",
              "    <tr>\n",
              "      <th>0.075</th>\n",
              "      <td>0.439742</td>\n",
              "      <td>0.415043</td>\n",
              "      <td>0.422600</td>\n",
              "      <td>0.427976</td>\n",
              "      <td>0.429581</td>\n",
              "      <td>0.426988</td>\n",
              "      <td>0.008152</td>\n",
              "    </tr>\n",
              "    <tr>\n",
              "      <th>0.085</th>\n",
              "      <td>0.438547</td>\n",
              "      <td>0.417127</td>\n",
              "      <td>0.422969</td>\n",
              "      <td>0.425672</td>\n",
              "      <td>0.429259</td>\n",
              "      <td>0.426715</td>\n",
              "      <td>0.007121</td>\n",
              "    </tr>\n",
              "    <tr>\n",
              "      <th>0.070</th>\n",
              "      <td>0.438356</td>\n",
              "      <td>0.414382</td>\n",
              "      <td>0.423059</td>\n",
              "      <td>0.427390</td>\n",
              "      <td>0.429505</td>\n",
              "      <td>0.426538</td>\n",
              "      <td>0.007862</td>\n",
              "    </tr>\n",
              "    <tr>\n",
              "      <th>0.080</th>\n",
              "      <td>0.438686</td>\n",
              "      <td>0.413699</td>\n",
              "      <td>0.422222</td>\n",
              "      <td>0.426567</td>\n",
              "      <td>0.430005</td>\n",
              "      <td>0.426236</td>\n",
              "      <td>0.008278</td>\n",
              "    </tr>\n",
              "    <tr>\n",
              "      <th>0.065</th>\n",
              "      <td>0.436594</td>\n",
              "      <td>0.413179</td>\n",
              "      <td>0.421477</td>\n",
              "      <td>0.426111</td>\n",
              "      <td>0.432932</td>\n",
              "      <td>0.426059</td>\n",
              "      <td>0.008308</td>\n",
              "    </tr>\n",
              "    <tr>\n",
              "      <th>...</th>\n",
              "      <td>...</td>\n",
              "      <td>...</td>\n",
              "      <td>...</td>\n",
              "      <td>...</td>\n",
              "      <td>...</td>\n",
              "      <td>...</td>\n",
              "      <td>...</td>\n",
              "    </tr>\n",
              "    <tr>\n",
              "      <th>0.025</th>\n",
              "      <td>0.110910</td>\n",
              "      <td>0.113242</td>\n",
              "      <td>0.112392</td>\n",
              "      <td>0.110681</td>\n",
              "      <td>0.108732</td>\n",
              "      <td>0.111191</td>\n",
              "      <td>0.001551</td>\n",
              "    </tr>\n",
              "    <tr>\n",
              "      <th>0.020</th>\n",
              "      <td>0.110910</td>\n",
              "      <td>0.113242</td>\n",
              "      <td>0.112392</td>\n",
              "      <td>0.110681</td>\n",
              "      <td>0.108732</td>\n",
              "      <td>0.111191</td>\n",
              "      <td>0.001551</td>\n",
              "    </tr>\n",
              "    <tr>\n",
              "      <th>0.015</th>\n",
              "      <td>0.110910</td>\n",
              "      <td>0.113242</td>\n",
              "      <td>0.112392</td>\n",
              "      <td>0.110681</td>\n",
              "      <td>0.108732</td>\n",
              "      <td>0.111191</td>\n",
              "      <td>0.001551</td>\n",
              "    </tr>\n",
              "    <tr>\n",
              "      <th>0.010</th>\n",
              "      <td>0.110910</td>\n",
              "      <td>0.113242</td>\n",
              "      <td>0.112392</td>\n",
              "      <td>0.110681</td>\n",
              "      <td>0.108732</td>\n",
              "      <td>0.111191</td>\n",
              "      <td>0.001551</td>\n",
              "    </tr>\n",
              "    <tr>\n",
              "      <th>0.000</th>\n",
              "      <td>0.110910</td>\n",
              "      <td>0.113242</td>\n",
              "      <td>0.112392</td>\n",
              "      <td>0.110681</td>\n",
              "      <td>0.108732</td>\n",
              "      <td>0.111191</td>\n",
              "      <td>0.001551</td>\n",
              "    </tr>\n",
              "  </tbody>\n",
              "</table>\n",
              "<p>90 rows × 7 columns</p>\n",
              "</div>"
            ],
            "text/plain": [
              "              0         1         2         3         4      mean       std\n",
              "0.075  0.439742  0.415043  0.422600  0.427976  0.429581  0.426988  0.008152\n",
              "0.085  0.438547  0.417127  0.422969  0.425672  0.429259  0.426715  0.007121\n",
              "0.070  0.438356  0.414382  0.423059  0.427390  0.429505  0.426538  0.007862\n",
              "0.080  0.438686  0.413699  0.422222  0.426567  0.430005  0.426236  0.008278\n",
              "0.065  0.436594  0.413179  0.421477  0.426111  0.432932  0.426059  0.008308\n",
              "...         ...       ...       ...       ...       ...       ...       ...\n",
              "0.025  0.110910  0.113242  0.112392  0.110681  0.108732  0.111191  0.001551\n",
              "0.020  0.110910  0.113242  0.112392  0.110681  0.108732  0.111191  0.001551\n",
              "0.015  0.110910  0.113242  0.112392  0.110681  0.108732  0.111191  0.001551\n",
              "0.010  0.110910  0.113242  0.112392  0.110681  0.108732  0.111191  0.001551\n",
              "0.000  0.110910  0.113242  0.112392  0.110681  0.108732  0.111191  0.001551\n",
              "\n",
              "[90 rows x 7 columns]"
            ]
          },
          "metadata": {
            "tags": []
          },
          "execution_count": 60
        }
      ]
    },
    {
      "cell_type": "code",
      "metadata": {
        "id": "_vYojYAIHE-l",
        "colab_type": "code",
        "colab": {}
      },
      "source": [
        "best_f1_ensemble=hasil_ensemble.sort_values(by='mean',ascending=False).index[0]"
      ],
      "execution_count": 0,
      "outputs": []
    },
    {
      "cell_type": "markdown",
      "metadata": {
        "id": "Oc-IHaYWHE-u",
        "colab_type": "text"
      },
      "source": [
        "It can be seen that ensemble model give a higher value of F1-score compared to single model"
      ]
    },
    {
      "cell_type": "markdown",
      "metadata": {
        "colab_type": "text",
        "id": "QgJPvRZzdoCh"
      },
      "source": [
        "## Submission"
      ]
    },
    {
      "cell_type": "code",
      "metadata": {
        "colab_type": "code",
        "id": "4_H6U2KN42pH",
        "outputId": "6d0a3c94-d434-4e52-9d2e-9d8f85091b4f",
        "colab": {
          "base_uri": "https://localhost:8080/",
          "height": 102
        }
      },
      "source": [
        "df_test['gender']=df_test['gender'].apply(lambda x: 'M' if x=='None' else x)\n",
        "df_test['trip']=df_test['trip'].apply(lambda x: 'round' if x=='roundtrip' else x)\n",
        "df_test['airlines_name']=df_test['airlines_name'].apply(lambda x: 'A' if x=='6c483c0812c96f8ec43bb0ff76eaf716' else 'B' if x=='33199710eb822fbcfd0dc793f4788d30' else 'C' if x=='0a102015e48c1f68e121acc99fca9a05' else \n",
        "                          'D' if x=='ad5bef60d81ea077018f4d50b813153a' else 'E' if x=='74c5549aa99d55280a896ea50068a211' else 'F' if x=='e35de6a36d385711a660c72c0286154a' else 'G' if x=='9855a1d3de1c46526dde37c5d6fb758c' else 'H')\n",
        "df_test['log_transaction']=df_test['log_transaction'].apply(lambda x: ast.literal_eval(x))\n",
        "df_test['log_transaction']=df_test['log_transaction'].apply(lambda x: ast.literal_eval(x))\n",
        "\n",
        "print('Checking Negative Trx: ')\n",
        "print(df_test['log_transaction'].apply(lambda x: \"Negative\" if any(k<0 for k in x) else \"Positive\").value_counts())\n",
        "\n",
        "df_test['is_refund']=df_test['log_transaction'].apply(lambda x: \"Yes\" if any(k<0 for k in x) else \"No\")\n",
        "df_test['min_trx']=df_test['log_transaction'].apply(lambda x: np.min(x))\n",
        "df_test['max_trx']=df_test['log_transaction'].apply(lambda x: np.max(x))\n",
        "df_test['avg_trx']=df_test['log_transaction'].apply(lambda x: np.mean(x))\n",
        "df_test['std_trx']=df_test['log_transaction'].apply(lambda x: np.std(x))\n",
        "df_test['cnt_trx']=df_test['log_transaction'].apply(lambda x: len(x))\n",
        "df_test['visited_jogja']=df_test['visited_city'].apply(lambda x: 1 if 'Jogjakarta' in x else 0)\n",
        "df_test['visited_semarang']=df_test['visited_city'].apply(lambda x: 1 if 'Semarang' in x else 0)\n",
        "df_test['visited_surabaya']=df_test['visited_city'].apply(lambda x: 1 if 'Surabaya' in x else 0)\n",
        "df_test['visited_aceh']=df_test['visited_city'].apply(lambda x: 1 if 'Aceh' in x else 0)\n",
        "df_test['visited_manado']=df_test['visited_city'].apply(lambda x: 1 if 'Manado' in x else 0)\n",
        "\n",
        "df_test['adj_price']=df_test['price']/(df_test['no_of_seats'])\n",
        "df_test['adj_price']=df_test.apply(lambda x: (x.adj_price)/2 if x.trip=='round' else x.adj_price ,axis=1)\n",
        "\n",
        "an = df_test.airlines_name.unique()\n",
        "sc = df_test.service_class.unique()\n",
        "a=dict()\n",
        "for i in an:\n",
        "  for j in sc:\n",
        "    mean_g = np.mean(df_test[(df_test.airlines_name==i)&(df_test.service_class==j)&(df_test.is_tx_promo=='NO')]['adj_price'])\n",
        "    a[i+'_'+j]=mean_g\n",
        "df_test['price_dif']=df_test.apply(lambda x : ((x.adj_price) - a['A_ECONOMY']) if ((x.airlines_name=='A') & (x.service_class=='ECONOMY')) else \n",
        "                         ((x.adj_price) - a['B_ECONOMY']) if ((x.airlines_name=='B') & (x.service_class=='ECONOMY')) else \n",
        "                         ((x.adj_price) - a['C_ECONOMY']) if ((x.airlines_name=='C') & (x.service_class=='ECONOMY')) else \n",
        "                         ((x.adj_price) - a['D_ECONOMY']) if ((x.airlines_name=='D') & (x.service_class=='ECONOMY')) else \n",
        "                         ((x.adj_price) - a['E_BUSINESS']) if ((x.airlines_name=='E') & (x.service_class=='BUSINESS')) else \n",
        "                         ((x.adj_price) - a['E_ECONOMY']) if ((x.airlines_name=='E') & (x.service_class=='ECONOMY')) else \n",
        "                         ((x.adj_price) - a['F_ECONOMY']) if ((x.airlines_name=='F') & (x.service_class=='ECONOMY')) else \n",
        "                         np.nan ,axis=1)\n",
        "df_test=df_test.drop(['log_transaction','visited_city','route'],1)"
      ],
      "execution_count": 0,
      "outputs": [
        {
          "output_type": "stream",
          "text": [
            "Checking Negative Trx: \n",
            "Positive    9993\n",
            "Negative       7\n",
            "Name: log_transaction, dtype: int64\n"
          ],
          "name": "stdout"
        }
      ]
    },
    {
      "cell_type": "markdown",
      "metadata": {
        "id": "vi16Tz07HE-x",
        "colab_type": "text"
      },
      "source": [
        "Berikut adalah pendefinisian fungsi untuk submission"
      ]
    },
    {
      "cell_type": "code",
      "metadata": {
        "colab_type": "code",
        "id": "yvbEQ2FG6n8E",
        "colab": {}
      },
      "source": [
        "def submission_ensemble(df_train,df_test,drop_columns,f1_threshold,model1='DRF',model2='GBM',is_feat_eng=False,label_not_cross_sell=False,is_binning=True,is_WoE=True,adjusted_WoE=True,is_mean_encode=True):\n",
        "  df_train=df_train.drop(drop_columns,1)\n",
        "  df_test=df_test.drop(drop_columns,1)\n",
        "  #Feature Engineering\n",
        "  if is_feat_eng:\n",
        "    if label_not_cross_sell:\n",
        "      #Creating list of customer which has number of orders more than 50\n",
        "      acc=pd.DataFrame(df_train['account_id'].value_counts())\n",
        "      top_acc_list=acc[acc.account_id>50].index.tolist()\n",
        "      #Creating list of customer which never done cross selling\n",
        "      toy=df_train.copy()\n",
        "      toy['is_cross_sell']=toy['is_cross_sell'].apply(lambda x: 1 if x=='Yes' else 0)\n",
        "      cross_sell_prop=pd.DataFrame(toy.groupby('account_id').mean()['is_cross_sell'])\n",
        "      no_cross_sell_list=cross_sell_prop[cross_sell_prop['is_cross_sell']==0].index.tolist()\n",
        "      #Creating  list of customer which has number of orders more than 50 and never done cross selling\n",
        "      not_cross_sell_account_id=df_train[(df_train['account_id'].isin(top_acc_list)) & (df_train['account_id'].isin(no_cross_sell_list))]['account_id'].unique().tolist()\n",
        "\n",
        "      df_train['label_not_cross_sell']=df_train['account_id'].apply(lambda x: 1 if x in not_cross_sell_account_id else 0)\n",
        "      df_test['label_not_cross_sell']=df_test['account_id'].apply(lambda x: 1 if x in not_cross_sell_account_id else 0)\n",
        "    if is_WoE:\n",
        "      df_train,df_test=WoE(df_train,df_test,columns=['airlines_name'],target='is_cross_sell',adjusted=adjusted_WoE)\n",
        "    if is_mean_encode:\n",
        "      df_train,df_test=mean_encoding(df_train,df_test,columns=['account_id'],target='is_cross_sell')\n",
        "    if is_binning:\n",
        "      df_train,df_test=detailed_segmentation(df_train,df_test,columns=['member_duration_days','price'],target='is_cross_sell',num_segments=5)\n",
        "    if 'account_id' in df_train.columns:\n",
        "      df_train,df_test=df_train.drop('account_id',1),df_test.drop('account_id',1)\n",
        "    print('Done Feature Engineering!')\n",
        "  else:\n",
        "    df_train,df_test=df_train.drop('account_id',1),df_test.drop('account_id',1)\n",
        "\n",
        "  print(df_train.columns)\n",
        "  df_train_h2o = h2o.H2OFrame(df_train)\n",
        "  df_test_h20 = h2o.H2OFrame(df_test)\n",
        "  #specify the target and predictor variable\n",
        "  x=df_train.drop('is_cross_sell',1).columns.tolist()\n",
        "  y='is_cross_sell'\n",
        "\n",
        "  #Initiate Model\n",
        "  if model1=='DRF':\n",
        "    model_1 = H2ORandomForestEstimator(**params_DRF)\n",
        "  elif model1=='GBM':\n",
        "    model_1 = H2OGradientBoostingEstimator(**params_GBM)\n",
        "  else: \n",
        "    raise ValueError('Model tidak terdaftar')\n",
        "  model_1.train(x = x, y = y, training_frame = df_train_h2o)\n",
        "\n",
        "  if model2=='DRF':\n",
        "    model_2 = H2ORandomForestEstimator(**params_DRF)\n",
        "  elif model2=='GBM':\n",
        "    model_2 = H2OGradientBoostingEstimator(**params_GBM)\n",
        "  else: \n",
        "    raise ValueError('Model tidak terdaftar')\n",
        "  model_2.train(x = x, y = y, training_frame = df_train_h2o)\n",
        "\n",
        "  list_models=[model_1, model_2]\n",
        "\n",
        "  ensemble = H2OStackedEnsembleEstimator(base_models=list_models)\n",
        "  ensemble.train(x = x, y = y, training_frame = df_train_h2o)\n",
        "\n",
        "  prediction = ensemble.predict(df_test_h20)[:,2]\n",
        "  prediction=prediction.as_data_frame()['Yes']\n",
        "  prediction=prediction.apply(lambda x: \"Yes\" if x>f1_threshold else \"No\")\n",
        "  submission=df_test[['order_id']]\n",
        "  submission['is_cross_sell']=prediction\n",
        "  return(submission)"
      ],
      "execution_count": 0,
      "outputs": []
    },
    {
      "cell_type": "code",
      "metadata": {
        "id": "7HPt9q4WHE-z",
        "colab_type": "code",
        "colab": {}
      },
      "source": [
        "  submission=submission_ensemble(df,df_test,drop_columns=[x for x in drop_columns if (x!='account_id') & (x!='is_cross_sell') & (x!='order_id') & (x!='cnt_trx') & (x!='airlines_name')]\n",
        "                                 ,f1_threshold=best_f1_ensemble,model1='DRF',model2='GBM',\n",
        "                                 is_feat_eng=True,is_binning=False,is_WoE=True,adjusted_WoE=True,is_mean_encode=True)"
      ],
      "execution_count": 0,
      "outputs": []
    },
    {
      "cell_type": "code",
      "metadata": {
        "colab_type": "code",
        "id": "U2iUXDZkx8fs",
        "colab": {}
      },
      "source": [
        "submission.to_csv('final_submission_buncit.csv',index=False)"
      ],
      "execution_count": 0,
      "outputs": []
    }
  ]
}